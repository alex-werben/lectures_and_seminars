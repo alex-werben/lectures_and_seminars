{
 "cells": [
  {
   "cell_type": "markdown",
   "id": "ffd91344-ee88-4762-bd46-21ef05692b6c",
   "metadata": {},
   "source": [
    "Этот ноутбук создан локально на Mac M4, для настройки окружения\n",
    "\n",
    "brew install python@3.11    \n",
    "/opt/homebrew/bin/python3.11 -m venv vllm_env    \n",
    "source vllm_env/bin/activate    \n",
    "pip install --upgrade pip setuptools wheel     \n",
    "brew install cmake pkg-config rust    \n",
    "pip install -q numpy    \n",
    "pip install -q sentencepiece --prefer-binary    \n",
    "pip install sentencepiece==0.1.99    \n",
    "pip install vllm     \n",
    "\n",
    "Если используете Jupyter\n",
    "\n",
    "pip -q install ipykernel     \n",
    "python -m ipykernel install --user --name=vllm_env --display-name \"Python 3.11 (vllm_env)\"    "
   ]
  },
  {
   "cell_type": "code",
   "execution_count": 1,
   "id": "318bfddf-58d2-47e3-84e0-b970f4d8e2a0",
   "metadata": {},
   "outputs": [],
   "source": [
    "!CMAKE_ARGS=\"-DLLAMA_METAL=on\" pip install llama-cpp-python --force-reinstall --no-cache-dir -q"
   ]
  },
  {
   "cell_type": "code",
   "execution_count": 2,
   "id": "7a89531a-d849-45b4-b4e7-adffea48b175",
   "metadata": {},
   "outputs": [],
   "source": [
    "!mkdir -p models/mistral"
   ]
  },
  {
   "cell_type": "code",
   "execution_count": 3,
   "id": "db4f3519-85ff-4d35-8e16-90303cf5f98a",
   "metadata": {},
   "outputs": [],
   "source": [
    "%%capture\n",
    "!wget  -O models/mistral/mistral-7b-instruct-v0.1.Q4_K_M.gguf \\\n",
    "  https://huggingface.co/TheBloke/Mistral-7B-Instruct-v0.1-GGUF/resolve/main/mistral-7b-instruct-v0.1.Q4_K_M.gguf"
   ]
  },
  {
   "cell_type": "code",
   "execution_count": 5,
   "id": "fbc9078f-f7c4-423b-8db7-4081c162069b",
   "metadata": {},
   "outputs": [
    {
     "name": "stdout",
     "output_type": "stream",
     "text": [
      "mistral-7b-instruct-v0.1.Q2_K        mistral-7b-instruct-v0.1.Q8_0.gguf\n",
      "mistral-7b-instruct-v0.1.Q4_K_M.gguf\n"
     ]
    }
   ],
   "source": [
    "!ls models/mistral/"
   ]
  },
  {
   "cell_type": "markdown",
   "id": "2abb5c28-a677-4acc-84da-a57b7dc4b38d",
   "metadata": {},
   "source": [
    "В терминале выполняем\n",
    "\n",
    "python3 -m llama_cpp.server --model ./models/mistral/mistral-7b-instruct-v0.1.Q4_K_M.gguf --n_gpu_layers 35 --n_ctx 2048"
   ]
  },
  {
   "cell_type": "markdown",
   "id": "04792d63-c196-4a4b-84ef-b4d857f77e40",
   "metadata": {},
   "source": [
    "Проверим что модель действительно доступна"
   ]
  },
  {
   "cell_type": "code",
   "execution_count": 1,
   "id": "d9021bed-9be9-4d45-a8a3-482de3a7550c",
   "metadata": {},
   "outputs": [
    {
     "name": "stdout",
     "output_type": "stream",
     "text": [
      "{\"object\":\"list\",\"data\":[{\"id\":\"./Downloads/models/mistral/mistral-7b-instruct-v0.1.Q4_K_M.gguf\",\"object\":\"model\",\"owned_by\":\"me\",\"permissions\":[]}]}"
     ]
    }
   ],
   "source": [
    "!curl http://localhost:8000/v1/models"
   ]
  },
  {
   "cell_type": "code",
   "execution_count": 4,
   "id": "1b3cb1a5-280d-4970-be0d-27cbbe433141",
   "metadata": {},
   "outputs": [
    {
     "name": "stdout",
     "output_type": "stream",
     "text": [
      "Note: you may need to restart the kernel to use updated packages.\n"
     ]
    }
   ],
   "source": [
    "# %pip -q install openai"
   ]
  },
  {
   "cell_type": "code",
   "execution_count": 2,
   "id": "05e13a27-5e57-456e-9e51-d536486e70a0",
   "metadata": {},
   "outputs": [
    {
     "name": "stdout",
     "output_type": "stream",
     "text": [
      "Note: you may need to restart the kernel to use updated packages.\n"
     ]
    }
   ],
   "source": [
    "%pip -q install langchain langchain_community"
   ]
  },
  {
   "cell_type": "code",
   "execution_count": 3,
   "id": "a0f50a85-85f8-4758-9cfa-743c4cead32a",
   "metadata": {},
   "outputs": [
    {
     "name": "stdout",
     "output_type": "stream",
     "text": [
      "Note: you may need to restart the kernel to use updated packages.\n"
     ]
    }
   ],
   "source": [
    "%pip install -Uq langchain langchain-openai"
   ]
  },
  {
   "cell_type": "code",
   "execution_count": 4,
   "id": "bea0697c-b3dd-4113-a882-1c7cd640b135",
   "metadata": {},
   "outputs": [
    {
     "name": "stdout",
     "output_type": "stream",
     "text": [
      "Note: you may need to restart the kernel to use updated packages.\n"
     ]
    }
   ],
   "source": [
    "%pip install -q pypdf"
   ]
  },
  {
   "cell_type": "code",
   "execution_count": 5,
   "id": "5b54aa16-62ab-49ff-856d-53ed43fff1fd",
   "metadata": {},
   "outputs": [
    {
     "name": "stdout",
     "output_type": "stream",
     "text": [
      "Note: you may need to restart the kernel to use updated packages.\n"
     ]
    }
   ],
   "source": [
    "%pip install -q sentence-transformers"
   ]
  },
  {
   "cell_type": "code",
   "execution_count": 6,
   "id": "3e4e64e2-b3b1-446c-b72d-d8ee45877e3e",
   "metadata": {},
   "outputs": [
    {
     "name": "stdout",
     "output_type": "stream",
     "text": [
      "Note: you may need to restart the kernel to use updated packages.\n"
     ]
    }
   ],
   "source": [
    "%pip install -q faiss-cpu"
   ]
  },
  {
   "cell_type": "code",
   "execution_count": 7,
   "id": "71d1c775-6b52-414b-9793-9bebf8a915e1",
   "metadata": {},
   "outputs": [],
   "source": [
    "from langchain.vectorstores import FAISS\n",
    "from langchain.embeddings import HuggingFaceEmbeddings\n",
    "from langchain.document_loaders import TextLoader\n",
    "from langchain.text_splitter import RecursiveCharacterTextSplitter\n",
    "from langchain.chains import RetrievalQA"
   ]
  },
  {
   "cell_type": "code",
   "execution_count": 8,
   "id": "240bda4d-bfdb-407c-bd75-eae6a80966c2",
   "metadata": {},
   "outputs": [
    {
     "data": {
      "text/plain": [
       "221"
      ]
     },
     "execution_count": 8,
     "metadata": {},
     "output_type": "execute_result"
    }
   ],
   "source": [
    "from langchain_community.document_loaders import PyPDFLoader\n",
    "loader = PyPDFLoader(\"https://ussr2.ru/_ld/0/79_Uells_G-Rossia_.pdf\")\n",
    "documents = loader.load_and_split()\n",
    "len(documents)"
   ]
  },
  {
   "cell_type": "code",
   "execution_count": 9,
   "id": "76d29c5d-a5ae-4b73-9b34-8ad23d350daf",
   "metadata": {},
   "outputs": [
    {
     "data": {
      "text/plain": [
       "453"
      ]
     },
     "execution_count": 9,
     "metadata": {},
     "output_type": "execute_result"
    }
   ],
   "source": [
    "from langchain.text_splitter import CharacterTextSplitter\n",
    "splitter = CharacterTextSplitter(\n",
    "    separator='\\n',\n",
    "    chunk_size=1000,\n",
    "    chunk_overlap=150,\n",
    "    length_function=len,\n",
    "    is_separator_regex=False)\n",
    "documents = loader.load_and_split(splitter)\n",
    "len(documents)"
   ]
  },
  {
   "cell_type": "code",
   "execution_count": 10,
   "id": "3e163752-fe53-43f2-a5a3-c8b2f537f12c",
   "metadata": {},
   "outputs": [],
   "source": [
    "for doc in documents:\n",
    "    doc.page_content = doc.page_content.replace('-\\n', \"\").replace('\\n', \"\")"
   ]
  },
  {
   "cell_type": "code",
   "execution_count": 11,
   "id": "4e117e84-c769-476b-919d-e775c05e86f4",
   "metadata": {},
   "outputs": [
    {
     "name": "stderr",
     "output_type": "stream",
     "text": [
      "/var/folders/dd/3y87lw9x15l1vkmh5jvkhcc80000gn/T/ipykernel_61178/947060026.py:1: LangChainDeprecationWarning: The class `HuggingFaceEmbeddings` was deprecated in LangChain 0.2.2 and will be removed in 1.0. An updated version of the class exists in the :class:`~langchain-huggingface package and should be used instead. To use it run `pip install -U :class:`~langchain-huggingface` and import as `from :class:`~langchain_huggingface import HuggingFaceEmbeddings``.\n",
      "  embeddings = HuggingFaceEmbeddings(model_name=\"sentence-transformers/paraphrase-multilingual-MiniLM-L12-v2\")\n",
      "/Users/nikita/llama_env/lib/python3.13/site-packages/tqdm/auto.py:21: TqdmWarning: IProgress not found. Please update jupyter and ipywidgets. See https://ipywidgets.readthedocs.io/en/stable/user_install.html\n",
      "  from .autonotebook import tqdm as notebook_tqdm\n"
     ]
    }
   ],
   "source": [
    "embeddings = HuggingFaceEmbeddings(model_name=\"sentence-transformers/paraphrase-multilingual-MiniLM-L12-v2\")"
   ]
  },
  {
   "cell_type": "code",
   "execution_count": 13,
   "id": "c0083cf3-1b28-4ce3-9014-626e870bdd47",
   "metadata": {},
   "outputs": [],
   "source": [
    "db = FAISS.from_documents(documents, embeddings)"
   ]
  },
  {
   "cell_type": "code",
   "execution_count": 31,
   "id": "f36d0d99-0268-415f-ab5e-06744791e107",
   "metadata": {},
   "outputs": [],
   "source": [
    "retriever = db.as_retriever(\n",
    "    search_type=\"similarity\",\n",
    "    k=3,\n",
    "    score_threshold=None,\n",
    ")"
   ]
  },
  {
   "cell_type": "code",
   "execution_count": 27,
   "id": "b5a5464c-c23c-4b76-931a-25fd8f551217",
   "metadata": {},
   "outputs": [],
   "source": [
    "from langchain_openai import ChatOpenAI\n",
    "llm = ChatOpenAI(\n",
    "    model=\"local-mistral\",  # как больше нравится\n",
    "    openai_api_base=\"http://localhost:8000/v1\", \n",
    "    openai_api_key=\"xxxx\",  # любое значение, проверка не идёт\n",
    "    temperature=0.7,\n",
    ")"
   ]
  },
  {
   "cell_type": "code",
   "execution_count": 34,
   "id": "6c30c515-84d4-4087-9c00-d63410b62c34",
   "metadata": {},
   "outputs": [],
   "source": [
    "qa = RetrievalQA.from_chain_type(\n",
    "    llm=llm,\n",
    "    chain_type=\"stuff\",\n",
    "    retriever=retriever,\n",
    "    return_source_documents=True,\n",
    ")"
   ]
  },
  {
   "cell_type": "code",
   "execution_count": 35,
   "id": "08fcecc9-df8c-47b5-8d99-13cd2c975c70",
   "metadata": {},
   "outputs": [
    {
     "name": "stdout",
     "output_type": "stream",
     "text": [
      "Ответ:  Based on the provided context, Herbert Uelsmann visited Russia in 1920 and saw a country that was in ruins after the Russian Revolution. He was particularly struck by the lack of energy and resources in Russia, which made it seem like the country would never be able to recover from its current state. However, he was also impressed by Vladimir Lenin's vision for the future of Russia and his plans for electrification, which Uelsmann described as \"forward-looking.\" He named Lenin \"the dreamer\" based on this conversation.\n"
     ]
    }
   ],
   "source": [
    "query = \"Что увидел Герберт Уэллс в России?\"\n",
    "result = qa.invoke(query)\n",
    "\n",
    "print(\"Ответ:\", result[\"result\"])"
   ]
  },
  {
   "cell_type": "markdown",
   "id": "9f6114bb-4abc-4a0a-a6b2-097868d7ef8d",
   "metadata": {},
   "source": [
    "Попробуем кастомный промпт"
   ]
  },
  {
   "cell_type": "code",
   "execution_count": 18,
   "id": "c03b4b3c-a9a4-45b8-aa86-dbabef89460d",
   "metadata": {},
   "outputs": [
    {
     "name": "stdout",
     "output_type": "stream",
     "text": [
      "Ответ:  Герберт Уэллс в России видел разруху, особенно в Петербурге. Он знал, что без энергичной помощи извне, Россия не сможет выйти из бедности, в которой упала. Поэтому, когда Ленин в такой обстановке начал развивать план электрификации перед ним, Уэллс назвал его «кремлевским мечтателем».\n"
     ]
    }
   ],
   "source": [
    "from langchain.prompts import PromptTemplate\n",
    "custom_prompt = PromptTemplate(\n",
    "    input_variables=[\"context\", \"question\"],\n",
    "    template=\"\"\"\n",
    "        Ты — историк, внимательный читатель. Используй приведённый ниже контекст, чтобы ответить на вопрос. \n",
    "        Если ответа нет в контексте, честно скажи \"я не знаю\".\n",
    "        \n",
    "        Контекст:\n",
    "        {context}\n",
    "        \n",
    "        Вопрос:\n",
    "        {question}\n",
    "        \n",
    "        Ответ:\n",
    "        \"\"\".strip()\n",
    "        )\n",
    "\n",
    "# Создаём RetrievalQA с кастомным промптом\n",
    "qa_chain = RetrievalQA.from_chain_type(\n",
    "    llm=llm,\n",
    "    retriever=retriever,\n",
    "    chain_type=\"stuff\",\n",
    "    chain_type_kwargs={\"prompt\": custom_prompt}\n",
    ")\n",
    "\n",
    "query = \"Что увидел Герберт Уэллс в России?\"\n",
    "result = qa_chain.invoke(query)\n",
    "\n",
    "print(\"Ответ:\", result[\"result\"])"
   ]
  },
  {
   "cell_type": "code",
   "execution_count": 19,
   "id": "b514200d-163d-45dd-92cd-4d3c189ef1d5",
   "metadata": {},
   "outputs": [
    {
     "name": "stdout",
     "output_type": "stream",
     "text": [
      "Ответ:  Используя контекст, можно предположить что в юности Герберт Уэллс работал в мануфактурную лавку.\n"
     ]
    }
   ],
   "source": [
    "query = \"Кем работал Герберт Уэллс в юности?\"\n",
    "result = qa_chain.invoke(query)\n",
    "\n",
    "print(\"Ответ:\", result[\"result\"])"
   ]
  },
  {
   "cell_type": "code",
   "execution_count": 20,
   "id": "e2da73cc-f48b-4d10-ac29-b20ac15f4cac",
   "metadata": {},
   "outputs": [
    {
     "name": "stdout",
     "output_type": "stream",
     "text": [
      "Ответ:  я не знаю\n"
     ]
    }
   ],
   "source": [
    "query = \"Кем мать устроила работать Герберта Уэллса в юности?\"\n",
    "result = qa_chain.invoke(query)\n",
    "\n",
    "print(\"Ответ:\", result[\"result\"])"
   ]
  },
  {
   "cell_type": "code",
   "execution_count": 21,
   "id": "a12680cd-db24-4b65-9aa5-ec0a3b126158",
   "metadata": {},
   "outputs": [
    {
     "name": "stdout",
     "output_type": "stream",
     "text": [
      "Ответ:  Я не знаю.\n"
     ]
    }
   ],
   "source": [
    "query = \"Куда мать устроила работать Герберта Уэллса в юности?\"\n",
    "result = qa_chain.invoke(query)\n",
    "\n",
    "print(\"Ответ:\", result[\"result\"])"
   ]
  },
  {
   "cell_type": "code",
   "execution_count": 23,
   "id": "2f361247-91b6-4195-a246-d003b6f3cdc0",
   "metadata": {},
   "outputs": [
    {
     "data": {
      "text/plain": [
       "'щегольски  одетым  и,  увы,  каким  буржуа!»  1  — рассказывала  и 1946 году  в  «Стейгсмен  энд  нейшн»  Дженни  Хорстин,  которая в 1920  году  петроградской  девочкой  Женей  Лунц  видела  Уэллса во время  посещения  им  тенишевской  гимназии.  «Я  выругал этого Уэллса  с  наслаждением  в  Доме  искусств,—  вспоминал В. Шкловский.—  Алексей  Максимович  радостно  сказал  переводчице:  «Вы  это  ему  хорошо  переведите»  2.  Он  казался  слишком благополучным  на  фоне  всеобщей  нищеты,  слишком  рассудительным  в  одних  случаях,  слишком  придирчивым  в  других. Он был  эмоционально  неприемлем  для  людей,  привыкших  к тяготам  этих  лет  и  видевших  в  них  свою  дань  будущему.  Мало даже  сказать,  что  Уэллс  не  умел  слушать  музыку  революции,— он просто  не  слышал  ее. И вместе  с  т,ем.  «Россия во  мгле»  — честная  книга. Чтобы  увидеть  и  рассказать  то,  что  увидел  и  рассказал Уэллс, не  требовалось  быть  сторонником  большевистской  пар-'"
      ]
     },
     "execution_count": 23,
     "metadata": {},
     "output_type": "execute_result"
    }
   ],
   "source": [
    "retriever.get_relevant_documents(query)[0].page_content"
   ]
  },
  {
   "cell_type": "code",
   "execution_count": null,
   "id": "6ee8af17-2cde-4a61-b7ee-b8261352d575",
   "metadata": {},
   "outputs": [],
   "source": []
  }
 ],
 "metadata": {
  "kernelspec": {
   "display_name": "Python (llama-env)",
   "language": "python",
   "name": "llama-env"
  },
  "language_info": {
   "codemirror_mode": {
    "name": "ipython",
    "version": 3
   },
   "file_extension": ".py",
   "mimetype": "text/x-python",
   "name": "python",
   "nbconvert_exporter": "python",
   "pygments_lexer": "ipython3",
   "version": "3.13.5"
  }
 },
 "nbformat": 4,
 "nbformat_minor": 5
}
