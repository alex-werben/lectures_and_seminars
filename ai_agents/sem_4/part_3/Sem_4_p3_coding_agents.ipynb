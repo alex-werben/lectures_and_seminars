{
 "cells": [
  {
   "cell_type": "code",
   "execution_count": 1,
   "id": "8e3ac5f1-6568-4238-be1f-f5c283339199",
   "metadata": {},
   "outputs": [
    {
     "data": {
      "application/javascript": [
       "IPython.notebook.set_autosave_interval(60000)"
      ]
     },
     "metadata": {},
     "output_type": "display_data"
    },
    {
     "name": "stdout",
     "output_type": "stream",
     "text": [
      "Autosaving every 60 seconds\n"
     ]
    }
   ],
   "source": [
    "%autosave 60"
   ]
  },
  {
   "cell_type": "code",
   "execution_count": null,
   "id": "a583dfe3-0e9e-4d08-8c9f-3e4f927bdf99",
   "metadata": {},
   "outputs": [],
   "source": [
    "# todo: разбить на модули agents_autogen.py\n",
    "# и оставить для этого ноутбука только самый важный код - а остальное импортировать"
   ]
  },
  {
   "cell_type": "code",
   "execution_count": null,
   "id": "607780ea-c194-46bf-85cf-8528b338950b",
   "metadata": {},
   "outputs": [],
   "source": []
  },
  {
   "cell_type": "markdown",
   "id": "6d1cc1ac-510a-44ee-99a1-17ea6c6501d3",
   "metadata": {},
   "source": [
    "### Архитектура агентов для кодинга\n",
    "Базовые блоки, из которых состоит мультиагентная система"
   ]
  },
  {
   "cell_type": "code",
   "execution_count": null,
   "id": "d928f4b2-f8fd-4a17-b830-9f2bb265415e",
   "metadata": {},
   "outputs": [],
   "source": []
  },
  {
   "cell_type": "markdown",
   "id": "af56995b-6564-4e59-8029-b88fffa5a279",
   "metadata": {},
   "source": [
    "### Зачем нужны разные роли\n",
    "Мотивация"
   ]
  },
  {
   "cell_type": "code",
   "execution_count": null,
   "id": "40cc2aec-d86b-45dd-a696-12d25f991d1f",
   "metadata": {},
   "outputs": [],
   "source": []
  },
  {
   "cell_type": "markdown",
   "id": "2d69b4f9-bf5c-429f-8f4d-7100c6215d8e",
   "metadata": {},
   "source": [
    "### Реализация на фреймворке autogen"
   ]
  },
  {
   "cell_type": "code",
   "execution_count": null,
   "id": "c3f52382-3cc7-4cd3-a0eb-aa4091c9c557",
   "metadata": {},
   "outputs": [],
   "source": [
    "# код и prompt для агента Оркестратор"
   ]
  },
  {
   "cell_type": "code",
   "execution_count": null,
   "id": "e60150e1-7d27-401d-8785-2222200df773",
   "metadata": {},
   "outputs": [],
   "source": [
    "# код и prompt для агента Архитектор"
   ]
  },
  {
   "cell_type": "code",
   "execution_count": null,
   "id": "7dd7528d-d668-455f-bfae-92d8c9060ee5",
   "metadata": {},
   "outputs": [],
   "source": [
    "# код и prompt для агента DataExtractor"
   ]
  },
  {
   "cell_type": "code",
   "execution_count": null,
   "id": "8b5d3f5e-30da-4289-b9b1-d816860355a5",
   "metadata": {},
   "outputs": [],
   "source": [
    "# код и prompt для агента Программист"
   ]
  },
  {
   "cell_type": "code",
   "execution_count": null,
   "id": "8baa78f0-8069-4c63-9759-45fa04c90530",
   "metadata": {},
   "outputs": [],
   "source": [
    "# код и prompt для агента Ревьюер"
   ]
  },
  {
   "cell_type": "code",
   "execution_count": null,
   "id": "4e9a89a7-806a-4ee9-a2c1-848886f1a7e2",
   "metadata": {},
   "outputs": [],
   "source": [
    "# код и prompt для агента ТехПисатель"
   ]
  },
  {
   "cell_type": "code",
   "execution_count": null,
   "id": "e739c061-da4c-4270-84fb-5f206d4ee3b5",
   "metadata": {},
   "outputs": [],
   "source": [
    "# код и prompt для агента TeamLead"
   ]
  },
  {
   "cell_type": "code",
   "execution_count": null,
   "id": "c3f8b81b-79fe-463f-85d0-5b36003ed827",
   "metadata": {},
   "outputs": [],
   "source": []
  },
  {
   "cell_type": "markdown",
   "id": "8a0429d9-57d2-414a-bc97-09dacbfe0323",
   "metadata": {},
   "source": [
    "### Демонстрация работы"
   ]
  },
  {
   "cell_type": "code",
   "execution_count": null,
   "id": "6addd80a-7cc2-4267-b8dd-6c548f85abc1",
   "metadata": {},
   "outputs": [],
   "source": [
    "# решаемая задача"
   ]
  },
  {
   "cell_type": "code",
   "execution_count": null,
   "id": "f9402988-500a-4e41-a9de-b7b8834b986d",
   "metadata": {},
   "outputs": [],
   "source": [
    "# результат работы"
   ]
  },
  {
   "cell_type": "markdown",
   "id": "d4b12598-177f-4ad3-99ca-4495da02288f",
   "metadata": {},
   "source": [
    "### Потенциал улучшения"
   ]
  },
  {
   "cell_type": "code",
   "execution_count": null,
   "id": "398058cd-571d-498d-9ae9-c9810d037655",
   "metadata": {},
   "outputs": [],
   "source": []
  },
  {
   "cell_type": "code",
   "execution_count": 3,
   "id": "6e1d0357-4964-4fb7-9bd7-28b3c1a8e0b3",
   "metadata": {},
   "outputs": [],
   "source": [
    "# конец"
   ]
  }
 ],
 "metadata": {
  "kernelspec": {
   "display_name": "Python (myenv_v2)",
   "language": "python",
   "name": "myenv_v2"
  },
  "language_info": {
   "codemirror_mode": {
    "name": "ipython",
    "version": 3
   },
   "file_extension": ".py",
   "mimetype": "text/x-python",
   "name": "python",
   "nbconvert_exporter": "python",
   "pygments_lexer": "ipython3",
   "version": "3.9.6"
  }
 },
 "nbformat": 4,
 "nbformat_minor": 5
}
