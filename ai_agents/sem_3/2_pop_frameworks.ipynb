{
 "cells": [
  {
   "cell_type": "markdown",
   "metadata": {},
   "source": [
    "# Современные библиотеки для AI-агентов"
   ]
  },
  {
   "cell_type": "markdown",
   "metadata": {},
   "source": [
    "### 📌 **LangChain**\n",
    "---\n",
    "[Библиотека](https://www.langchain.com/)\n",
    "\n",
    "\n",
    "### **LangChain** – это фреймворк для разработки приложений на основе больших языковых моделей (LLM). \n",
    "\n",
    "#### Он упрощает весь цикл создания LLM-приложений.\n",
    "\n",
    "LangChain ориентирован на гибкость и широкую совместимость: поддерживаются десятки провайдеров LLM **(OpenAI, Google Gemini, AWS, Anthropic и др.)** и множество инструментов **(поиск в Интернете, базы знаний, собственные API)**. \n",
    "\n",
    "Библиотека нацелена на быстрое прототипирование и производство приложений – в частности, для чат-ботов, систем вопрос-ответ с помощью Retrieval-Augmented Generation (RAG), автоматизации задач и других сценариев.\n"
   ]
  },
  {
   "cell_type": "markdown",
   "metadata": {},
   "source": [
    "### Реализация основных компонентов LangChain\n",
    "\n",
    "* **Цепочки (Chains)**: \n",
    "\n",
    "    - Базовый класс Chain наследуется от [RunnableSerializable](https://python.langchain.com/api_reference/core/runnables/langchain_core.runnables.base.RunnableSerializable.html) и определяет параметры запуска (входы, конфигурацию, метод invoke). Цепочка управляет потоком данных: собирает входные переменные, передаёт их через последовательность вызовов (промпт → модель → парсер).\n",
    "\n",
    "* **Шаблоны подсказок ([PromptTemplate](https://python.langchain.com/api_reference/core/prompts/langchain_core.prompts.prompt.PromptTemplate.html))**: \n",
    "    - Класс PromptTemplate содержит строковый шаблон с переменными. Поддерживаются форматы f-string. При вызове он подставляет значения переменных (метод format / invoke). Можно создавать динамические шаблоны – например, частично заполнять их заранее (partial_variables), оставляя не все переменные для пользователя. \n",
    "\n",
    "📌 Цель: Пользователь вводит тему, а цепочка возвращает краткое объяснение этой темы на русском языке."
   ]
  },
  {
   "cell_type": "code",
   "execution_count": null,
   "metadata": {},
   "outputs": [],
   "source": [
    "# pip install langchain langchain-community"
   ]
  },
  {
   "cell_type": "code",
   "execution_count": 19,
   "metadata": {},
   "outputs": [],
   "source": [
    "LLM_NAME = \"mistral-nemo:12b-instruct-2407-q3_K_L\""
   ]
  },
  {
   "cell_type": "code",
   "execution_count": null,
   "metadata": {},
   "outputs": [
    {
     "name": "stdout",
     "output_type": "stream",
     "text": [
      "\n",
      "Ответ: Москва является столицей России.\n"
     ]
    }
   ],
   "source": [
    "from langchain_community.llms import Ollama\n",
    "from langchain_core.prompts import PromptTemplate\n",
    "from langchain_core.runnables import RunnableSequence\n",
    "\n",
    "llm = Ollama(model=LLM_NAME, temperature=0)\n",
    "\n",
    "# PromptTemplate.from_template() создаёт объект с плейсхолдером ({city})\n",
    "prompt = PromptTemplate.from_template(\n",
    "    \"Столицей какой страны явлеятся {city}?\"\n",
    ")\n",
    "\n",
    "# RunnableSequence(prompt | llm) объединяет промпт и модель в единую цепочку\n",
    "chain = RunnableSequence(prompt | llm)\n",
    "\n",
    "# задаем тему рассуждение \n",
    "inputs = {\"city\": \"Москва\"}\n",
    "\n",
    "# .invoke(inputs) запускает цепочку с аргументами\n",
    "result = chain.invoke(inputs)\n",
    "\n",
    "print(\"\\nОтвет:\", result)"
   ]
  },
  {
   "cell_type": "markdown",
   "metadata": {},
   "source": [
    "* **Агенты (Agents)**: \n",
    "    - Класс AgentExecutor (наследник Chain) организует цикл работы агента. Он содержит agent (объект типа [BaseSingleActionAgent](https://api.python.langchain.com/en/latest/agents/langchain.agents.agent.BaseSingleActionAgent.html) или [RunnableAgent](https://api.python.langchain.com/en/latest/agents/langchain.agents.agent.RunnableAgent.html)), список Tools и логику остановки (максимум итераций, таймаут, метод досрочной остановки). \n",
    "    \n",
    "    - При запуске [AgentExecutor](https://api.python.langchain.com/en/latest/agents/langchain.agents.agent.AgentExecutor.html) вызывает метод plan агента (обычно LLMChain или RunnableAgent) для принятия решения (какой инструмент вызвать или завершить работу), затем выполняет выбранный инструмент и сохраняет шаг как AgentAction. Так продолжается, пока агент не вернёт AgentFinish или не сработают критерии досрочной остановки.\n",
    "\n",
    "* **Инструменты (Tools)**: \n",
    "    - Определены абстрактным классом [BaseTool](https://python.langchain.com/api_reference/core/tools/langchain_core.tools.base.BaseTool.html). Инструмент\n",
    "    имеет атрибуты name, description и опциональную схему аргументов (args_schema) – Pydantic-модель или JSON-схему длявалидации входов. Инструменты добавляются к агентам как доступные функции, агент может вызывать их по имени. Метаданные return_direct=True указывают, что после выполнения инструмента агент прекращает цикл. Toolkit – коллекция связанных инструментов. "
   ]
  },
  {
   "cell_type": "markdown",
   "metadata": {},
   "source": [
    "* **Память (Memory)**: \n",
    "    - Интерфейс [BaseMemory](https://api.python.langchain.com/en/latest/memory/langchain_core.memory.BaseMemory.html) определяет хранилище состояния между вызовами цепочки. Классы наследники (например, буфер переписки) сохраняют прошлые сообщения или контекст, автоматически добавляя их в новые подсказки. Несмотря на устаревание старой\n",
    "    модели памяти, идея такова: память хранит данные предыдущих шагов цепочки и инжектит их как переменные в входные данные следующего вызова. \n",
    "\n",
    "* **Шаблоны для чата ([ChatPromptTemplate](https://python.langchain.com/api_reference/core/prompts/langchain_core.prompts.chat.ChatPromptTemplate.html))**:\n",
    "    - Расширяет PromptTemplate для диалоговых моделей. Принимает список сообщений с ролями (system, human, ai) и шаблонами текста.\n",
    "    Например, ChatPromptTemplate([(\"system\",\"{persona}\"),(\"human\",\"{question}\")]) строит цепочку сообщений. "
   ]
  },
  {
   "cell_type": "code",
   "execution_count": 10,
   "metadata": {},
   "outputs": [
    {
     "name": "stderr",
     "output_type": "stream",
     "text": [
      "/var/folders/j_/mhkb8_q935160j788zvw62ym5_k29d/T/ipykernel_77350/952321886.py:6: LangChainDeprecationWarning: Please see the migration guide at: https://python.langchain.com/docs/versions/migrating_memory/\n",
      "  memory = ConversationBufferMemory()\n",
      "/var/folders/j_/mhkb8_q935160j788zvw62ym5_k29d/T/ipykernel_77350/952321886.py:9: LangChainDeprecationWarning: The class `ConversationChain` was deprecated in LangChain 0.2.7 and will be removed in 1.0. Use :class:`~langchain_core.runnables.history.RunnableWithMessageHistory` instead.\n",
      "  conversation = ConversationChain(\n"
     ]
    },
    {
     "name": "stdout",
     "output_type": "stream",
     "text": [
      "\n",
      "\n",
      "\u001b[1m> Entering new ConversationChain chain...\u001b[0m\n",
      "Prompt after formatting:\n",
      "\u001b[32;1m\u001b[1;3mThe following is a friendly conversation between a human and an AI. The AI is talkative and provides lots of specific details from its context. If the AI does not know the answer to a question, it truthfully says it does not know.\n",
      "\n",
      "Current conversation:\n",
      "\n",
      "Human: Привет, меня зовут Диана.\n",
      "AI:\u001b[0m\n",
      "\n",
      "\u001b[1m> Finished chain.\u001b[0m\n",
      "\n",
      "Ответ 1: Привет, Диана! Я — языковая модель. Как я могу вам помочь сегодня?\n",
      "\n",
      "\n",
      "\u001b[1m> Entering new ConversationChain chain...\u001b[0m\n",
      "Prompt after formatting:\n",
      "\u001b[32;1m\u001b[1;3mThe following is a friendly conversation between a human and an AI. The AI is talkative and provides lots of specific details from its context. If the AI does not know the answer to a question, it truthfully says it does not know.\n",
      "\n",
      "Current conversation:\n",
      "Human: Привет, меня зовут Диана.\n",
      "AI: Привет, Диана! Я — языковая модель. Как я могу вам помочь сегодня?\n",
      "Human: Как меня зовут?\n",
      "AI:\u001b[0m\n",
      "\n",
      "\u001b[1m> Finished chain.\u001b[0m\n",
      "\n",
      " Ответ 2: Привет, Диана! Вы уже представились в начале нашего разговора. Ваше имя Диана.\n"
     ]
    }
   ],
   "source": [
    "from langchain.memory import ConversationBufferMemory\n",
    "from langchain.chains import ConversationChain\n",
    "\n",
    "\n",
    "# Память (история диалога)\n",
    "memory = ConversationBufferMemory()\n",
    "\n",
    "# создаём разговорную цепочку (чат)\n",
    "conversation = ConversationChain(\n",
    "    llm=llm,\n",
    "    memory=memory,\n",
    "    verbose=True  # чтобы видеть внутренние шаги\n",
    ")\n",
    "\n",
    "response_1 = conversation.predict(input=\"Привет, меня зовут Диана.\")\n",
    "print(\"\\nОтвет 1:\", response_1)\n",
    "\n",
    "response_2 = conversation.predict(input=\"Как меня зовут?\")\n",
    "print(\"\\n Ответ 2:\", response_2)"
   ]
  },
  {
   "cell_type": "markdown",
   "metadata": {},
   "source": [
    "* **Парсеры вывода (Output Parsers)**: \n",
    "\n",
    "    - Базовый класс [BaseOutputParser](https://python.langchain.com/api_reference/core/output_parsers/langchain_core.output_parsers.base.BaseOutputParser.html) определяет метод parse(text) для трансформации сырых ответов модели в структуры. \n",
    "    Для агентов есть специальные парсеры:\n",
    "\n",
    "        - [AgentOutputParser](https://python.langchain.com/api_reference/langchain/agents/langchain.agents.agent.AgentOutputParser.html) – разбирает ответ LLM на действие агента или финальный ответ\n",
    "\n",
    "        - [MultiActionAgentOutputParser](https://api.python.langchain.com/en/latest/agents/langchain.agents.agent.MultiActionAgentOutputParser.html) – может вернуть список действий. Эти парсеры используются внутри агента, чтобы извлечь из текста запрос к инструменту или отметить завершение. Например, после остановки цикл AgentExecutor вызывает output_parser.parse(...) для финальной обработки"
   ]
  },
  {
   "cell_type": "code",
   "execution_count": 11,
   "metadata": {},
   "outputs": [
    {
     "name": "stdout",
     "output_type": "stream",
     "text": [
      "➡️ Результат: The translation of \"How are you?\" in English is:\n",
      "\n",
      "* How are you?\n",
      "* What's up?\n",
      "* How's it going?\n",
      "\n",
      "Here are a few more informal options:\n",
      "\n",
      "* How's life treating ya?\n",
      "* How's your day been?\n",
      "* How are things with you?\n"
     ]
    }
   ],
   "source": [
    "# StrOutputParser\n",
    "\n",
    "from langchain_core.output_parsers import StrOutputParser\n",
    "\n",
    "prompt = PromptTemplate.from_template(\"Переведи на английский: {text}\")\n",
    "parser = StrOutputParser()\n",
    "\n",
    "chain = prompt | llm | parser\n",
    "result = chain.invoke({\"text\": \"Как дела?\"})\n",
    "print(\"➡️ Результат:\", result)\n"
   ]
  },
  {
   "cell_type": "code",
   "execution_count": 12,
   "metadata": {},
   "outputs": [
    {
     "name": "stdout",
     "output_type": "stream",
     "text": [
      "Город: Moscow\n",
      "Температура: -5.0\n",
      "Погода: Cloudy with light snow\n"
     ]
    }
   ],
   "source": [
    "from langchain_core.output_parsers import PydanticOutputParser\n",
    "from pydantic import BaseModel, Field \n",
    "from langchain_core.runnables import RunnableSequence\n",
    "\n",
    "class Weather(BaseModel):\n",
    "    location: str = Field(..., description=\"Город\")\n",
    "    temperature: float = Field(..., description=\"Температура в градусах Цельсия\")\n",
    "    condition: str = Field(..., description=\"Краткое описание погоды\")\n",
    "parser = PydanticOutputParser(pydantic_object=Weather)\n",
    "\n",
    "prompt = PromptTemplate.from_template(\n",
    "    \"Опиши погоду в {location} в формате JSON:\\n{format_instructions}\"\n",
    ").partial(format_instructions=parser.get_format_instructions())\n",
    "\n",
    "chain = RunnableSequence(prompt | llm | parser)\n",
    "\n",
    "output = chain.invoke({\"location\": \"Москва\"})\n",
    "\n",
    "print(\"Город:\", output.location)\n",
    "print(\"Температура:\", output.temperature)\n",
    "print(\"Погода:\", output.condition)"
   ]
  },
  {
   "cell_type": "markdown",
   "metadata": {},
   "source": [
    "### странно, да?\n",
    "\n",
    "Это одна из причин перехода к агентам, так LLM не может жить \"здесь и сейчас\" "
   ]
  },
  {
   "cell_type": "code",
   "execution_count": 13,
   "metadata": {},
   "outputs": [
    {
     "name": "stderr",
     "output_type": "stream",
     "text": [
      "/var/folders/j_/mhkb8_q935160j788zvw62ym5_k29d/T/ipykernel_77350/2222022303.py:9: LangChainDeprecationWarning: LangChain agents will continue to be supported, but it is recommended for new use cases to be built with LangGraph. LangGraph offers a more flexible and full-featured framework for building agents, including support for tool-calling, persistence of state, and human-in-the-loop workflows. For details, refer to the `LangGraph documentation <https://langchain-ai.github.io/langgraph/>`_ as well as guides for `Migrating from AgentExecutor <https://python.langchain.com/docs/how_to/migrate_agent/>`_ and LangGraph's `Pre-built ReAct agent <https://langchain-ai.github.io/langgraph/how-tos/create-react-agent/>`_.\n",
      "  agent = initialize_agent(tools,\n",
      "/var/folders/j_/mhkb8_q935160j788zvw62ym5_k29d/T/ipykernel_77350/2222022303.py:14: LangChainDeprecationWarning: The method `Chain.run` was deprecated in langchain 0.1.0 and will be removed in 1.0. Use :meth:`~invoke` instead.\n",
      "  print(agent.run(\"сколько будет 17 / 5\"))\n"
     ]
    },
    {
     "name": "stdout",
     "output_type": "stream",
     "text": [
      "\n",
      "\n",
      "\u001b[1m> Entering new AgentExecutor chain...\u001b[0m\n",
      "\u001b[32;1m\u001b[1;3mI need to perform a division operation.\n",
      "Action: Calculator\n",
      "Action Input: 17 / 5\u001b[0m\n",
      "Observation: \u001b[36;1m\u001b[1;3mAnswer: 3.4\u001b[0m\n",
      "Thought:\u001b[32;1m\u001b[1;3mI now know the final answer\n",
      "Final Answer: 3.4\u001b[0m\n",
      "\n",
      "\u001b[1m> Finished chain.\u001b[0m\n",
      "3.4\n"
     ]
    }
   ],
   "source": [
    "from langchain.agents import initialize_agent, AgentType, load_tools\n",
    "\n",
    "from langchain_community.llms import Ollama\n",
    "\n",
    "tools = load_tools([\"llm-math\"], llm=llm) # математические вычисления\n",
    "\n",
    "agent = initialize_agent(tools,\n",
    "                         llm,\n",
    "                         agent=AgentType.ZERO_SHOT_REACT_DESCRIPTION,\n",
    "                         verbose=True)\n",
    "\n",
    "print(agent.run(\"сколько будет 17 / 5\"))"
   ]
  },
  {
   "cell_type": "code",
   "execution_count": 14,
   "metadata": {},
   "outputs": [
    {
     "data": {
      "text/plain": [
       "3.4"
      ]
     },
     "execution_count": 14,
     "metadata": {},
     "output_type": "execute_result"
    }
   ],
   "source": [
    "# проверка\n",
    "17/5"
   ]
  },
  {
   "cell_type": "code",
   "execution_count": 14,
   "metadata": {},
   "outputs": [
    {
     "name": "stderr",
     "output_type": "stream",
     "text": [
      "/var/folders/j_/mhkb8_q935160j788zvw62ym5_k29d/T/ipykernel_20899/3539935137.py:8: LangChainDeprecationWarning: The class `Ollama` was deprecated in LangChain 0.3.1 and will be removed in 1.0.0. An updated version of the class exists in the :class:`~langchain-ollama package and should be used instead. To use it run `pip install -U :class:`~langchain-ollama` and import as `from :class:`~langchain_ollama import OllamaLLM``.\n",
      "  llm = Ollama(model=\"mistral-nemo:12b-instruct-2407-q3_K_L\", temperature=0.4)\n",
      "/var/folders/j_/mhkb8_q935160j788zvw62ym5_k29d/T/ipykernel_20899/3539935137.py:59: LangChainDeprecationWarning: The method `Chain.run` was deprecated in langchain 0.1.0 and will be removed in 1.0. Use :meth:`~invoke` instead.\n",
      "  response = db_chain.run(question)\n"
     ]
    },
    {
     "name": "stdout",
     "output_type": "stream",
     "text": [
      "\n",
      "\n",
      "\u001b[1m> Entering new SQLDatabaseChain chain...\u001b[0m\n",
      "Какие оценки получил Алексей Иванов по каждому предмету?\n",
      "SQLQuery:\u001b[32;1m\u001b[1;3mSELECT \"subject\", \"grade\"\n",
      "FROM \"grades\"\n",
      "JOIN \"students\" ON \"grades\".\"student_id\" = \"students\".\"id\"\n",
      "WHERE \"students\".\"name\" = 'Алексей Иванов'\n",
      "LIMIT 5;\u001b[0m\n",
      "SQLResult: \u001b[33;1m\u001b[1;3m[('Математика', 5), ('Физика', 4)]\u001b[0m\n",
      "Answer:\u001b[32;1m\u001b[1;3mАлексей Иванов получил оценки:\n",
      "- по Математике - 5\n",
      "- по Физике - 4\u001b[0m\n",
      "\u001b[1m> Finished chain.\u001b[0m\n",
      "\n",
      "📘 Ответ:\n",
      " Алексей Иванов получил оценки:\n",
      "- по Математике - 5\n",
      "- по Физике - 4\n"
     ]
    }
   ],
   "source": [
    "# Агент с БД\n",
    "\n",
    "import sqlite3\n",
    "from langchain.llms import Ollama\n",
    "from langchain_community.utilities.sql_database import SQLDatabase\n",
    "from langchain_experimental.sql import SQLDatabaseChain\n",
    "\n",
    "llm = Ollama(model=\"mistral-nemo:12b-instruct-2407-q3_K_L\", temperature=0.4)\n",
    "\n",
    "# 1. Создание SQLite-базы данных\n",
    "conn = sqlite3.connect(\"students.db\")\n",
    "cursor = conn.cursor()\n",
    "\n",
    "# 2. Создаём таблицы\n",
    "cursor.executescript(\"\"\"\n",
    "DROP TABLE IF EXISTS students;\n",
    "DROP TABLE IF EXISTS grades;\n",
    "\n",
    "CREATE TABLE students (\n",
    "    id INTEGER PRIMARY KEY,\n",
    "    name TEXT,\n",
    "    group_name TEXT\n",
    ");\n",
    "\n",
    "CREATE TABLE grades (\n",
    "    id INTEGER PRIMARY KEY,\n",
    "    student_id INTEGER,\n",
    "    subject TEXT,\n",
    "    grade INTEGER,\n",
    "    FOREIGN KEY(student_id) REFERENCES students(id)\n",
    ");\n",
    "\"\"\")\n",
    "\n",
    "# 3. Добавим тестовые данные\n",
    "students = [\n",
    "    (1, \"Алексей Иванов\", \"Группа А\"),\n",
    "    (2, \"Мария Смирнова\", \"Группа Б\"),\n",
    "    (3, \"Игорь Кузнецов\", \"Группа А\"),\n",
    "]\n",
    "grades = [\n",
    "    (1, 1, \"Математика\", 5),\n",
    "    (2, 1, \"Физика\", 4),\n",
    "    (3, 2, \"Математика\", 3),\n",
    "    (4, 2, \"Физика\", 5),\n",
    "    (5, 3, \"Математика\", 4),\n",
    "    (6, 3, \"Физика\", 4),\n",
    "]\n",
    "cursor.executemany(\"INSERT INTO students VALUES (?, ?, ?)\", students)\n",
    "cursor.executemany(\"INSERT INTO grades VALUES (?, ?, ?, ?)\", grades)\n",
    "conn.commit()\n",
    "\n",
    "# 4. Подключение базы к LangChain\n",
    "db = SQLDatabase.from_uri(\"sqlite:///students.db\")\n",
    "\n",
    "db_chain = SQLDatabaseChain.from_llm(llm, db, verbose=True)\n",
    "\n",
    "# 7. Пример запроса на естественном языке\n",
    "question = \"Какие оценки получил Алексей Иванов по каждому предмету?\"\n",
    "response = db_chain.run(question)\n",
    "print(\"\\n📘 Ответ:\\n\", response)"
   ]
  },
  {
   "cell_type": "markdown",
   "metadata": {},
   "source": [
    "### 📌 **LangGraph**\n",
    "---\n",
    "[Библиотека](https://www.langchain.com/langgraph)\n",
    "\n",
    "\n",
    "**LangGraph строит граф вычислений поверх модели LangChain.**\n",
    "\n",
    "Основные сущности: \n",
    "- **StateGraph/Graph** – граф, вершины которого связаны направленными ребрами\n",
    "- **Node** – узел, выполняющий функцию (Runnable или Python-функция)\n",
    "- **Edge/ConditionalEdge** – переходы между узлами (обычные или условные)\n",
    "- **State** – общее состояние графа (словарь), который разделяют все узлы.\n",
    "\n",
    "В StateGraph узлы получают на вход текущее состояние и возвращают частичное обновление (например, новые значения для некоторых ключей) . "
   ]
  },
  {
   "cell_type": "code",
   "execution_count": null,
   "metadata": {},
   "outputs": [],
   "source": [
    "# pip install langgraph langchain langchain-community"
   ]
  },
  {
   "cell_type": "code",
   "execution_count": 24,
   "metadata": {},
   "outputs": [
    {
     "name": "stdout",
     "output_type": "stream",
     "text": [
      "\n",
      "\n",
      "\u001b[1m> Entering new AgentExecutor chain...\u001b[0m\n",
      "\u001b[32;1m\u001b[1;3mСначала выполняем действие в скобках, а затем умножение:\n",
      "\n",
      "(25 + 5) = 30\n",
      "30 * 2 = 60\n",
      "\n",
      "Ответ: 60.\u001b[0m\n",
      "\n",
      "\u001b[1m> Finished chain.\u001b[0m\n",
      "Финальный ответ: Сначала выполняем действие в скобках, а затем умножение:\n",
      "\n",
      "(25 + 5) = 30\n",
      "30 * 2 = 60\n",
      "\n",
      "Ответ: 60.\n"
     ]
    }
   ],
   "source": [
    "from typing import TypedDict\n",
    "from langchain.agents import Tool, AgentExecutor, create_openai_functions_agent\n",
    "from langchain.agents.tools import tool\n",
    "from langchain_community.chat_models import ChatOllama\n",
    "from langchain_core.prompts import ChatPromptTemplate, MessagesPlaceholder\n",
    "from langchain_core.runnables import RunnableLambda\n",
    "from langgraph.graph import StateGraph, END\n",
    "\n",
    "# Схема состояния ─ минимум необходимого\n",
    "class AgentState(TypedDict):\n",
    "    input: str\n",
    "    final_answer: str | None\n",
    "\n",
    "# Инструмент\n",
    "@tool\n",
    "def calculator(expression: str) -> str:\n",
    "    \"\"\"Вычисляет простое математическое выражение.\"\"\"\n",
    "    try:\n",
    "        return str(eval(expression))\n",
    "    except Exception as e:\n",
    "        return f\"Ошибка: {e}\"\n",
    "\n",
    "tools = [calculator]\n",
    "\n",
    "llm = ChatOllama(model=LLM_NAME)   \n",
    "\n",
    "prompt = ChatPromptTemplate.from_messages([\n",
    "    (\"system\", \"Ты — умный помощник с доступом к инструментам.\"),\n",
    "    (\"user\", \"{input}\"),\n",
    "    MessagesPlaceholder(\"agent_scratchpad\"),\n",
    "])\n",
    "\n",
    "# 5. Агент и executor\n",
    "agent = create_openai_functions_agent(llm=llm, tools=tools, prompt=prompt)\n",
    "agent_executor = AgentExecutor(agent=agent, tools=tools, verbose=True)\n",
    "\n",
    "# 6. Узел графа\n",
    "def agent_step(state: AgentState) -> AgentState:\n",
    "    result = agent_executor.invoke({\"input\": state[\"input\"]}) \n",
    "    return {**state, \"final_answer\": result[\"output\"]}\n",
    "\n",
    "def should_continue(state: AgentState) -> str:\n",
    "    return \"end\" if state[\"final_answer\"] else \"agent\"\n",
    "\n",
    "# Строим граф\n",
    "builder = StateGraph(state_schema=AgentState)\n",
    "builder.add_node(\"agent\", RunnableLambda(agent_step))\n",
    "builder.set_entry_point(\"agent\")\n",
    "builder.add_conditional_edges(\n",
    "    \"agent\",\n",
    "    RunnableLambda(should_continue),\n",
    "    {\"agent\": \"agent\", \"end\": END}\n",
    ")\n",
    "graph = builder.compile()\n",
    "\n",
    "init_state: AgentState = {\"input\": \"Сколько будет (25 + 5) * 2?\", \"final_answer\": None}\n",
    "result = graph.invoke(init_state)\n",
    "\n",
    "print(\"Финальный ответ:\", result[\"final_answer\"])"
   ]
  },
  {
   "cell_type": "markdown",
   "metadata": {},
   "source": [
    "### 📌 **AutoGen**\n",
    "---\n",
    "[Библиотека](https://microsoft.github.io/autogen/stable//index.html)\n",
    "\n",
    "\n",
    "**AutoGen** – это фреймворк от Microsoft Research для создания многопроцессных (multiagent) AI-приложений . Он предназначен для разработки агентных систем, где несколько LLMагентов могут общаться друг с другом или с людьми для решения задач. AutoGen реализует асинхронную событийно-ориентированную архитектуру: агенты обмениваются сообщениями в разных режимах (запрос/ответ, события). \n",
    "\n",
    "Благодаря этому можно строить детерминированные и динамические бизнес-процессы с поддержкой совместной работы агентов. \n"
   ]
  },
  {
   "cell_type": "markdown",
   "metadata": {},
   "source": [
    "<img src=\"./pics/assistant-agent.svg\" width=\"75%\">"
   ]
  },
  {
   "cell_type": "markdown",
   "metadata": {},
   "source": [
    "##### Есть основной \"разговорный\" агент ConversableAgent и его подклассы:\n",
    "\n",
    "\n",
    "- [AssistantAgent](https://microsoft.github.io/autogen/0.2/docs/reference/agentchat/assistant_agent/#assistantagent) – это ассистент ИИ, который использует LLM для генерации ответов и может вызывать инструменты и функции. \n",
    "\n",
    "\n",
    "- [UserProxyAgent](https://microsoft.github.io/autogen/0.2/docs/reference/agentchat/user_proxy_agent)– это агент-прокси для человека: по умолчанию запрашивает ввод пользователя, но при наличии блоков кода может выполнять их автоматически.\n"
   ]
  },
  {
   "cell_type": "markdown",
   "metadata": {},
   "source": [
    "#### Агенты общаются посредством AgentRuntime – централизованного обмена сообщениями, реализованного по принципам акторной модели. \n",
    "\n",
    "AutoGen поддерживает два режима выполнения: \n",
    "- **StandaloneRuntime (однопроцессный)**\n",
    "\n",
    "<img src=\"./pics/architecture-standalone.svg\" width=\"35%\">\n",
    "\n",
    "- **Distributed Runtime (с несколькими хостами/воркерами)**\n",
    "\n",
    "<img src=\"./architecture-distributed.svg\" width=\"35%\">\n",
    "\n",
    "### Независимо от режима, все агенты регистрируются в рантайме, после чего к ним можно посылать сообщения. Для адресной пересылки используются методы:\n",
    "\n",
    "* **send_message(msg, recipient_id, ...)** – отправка с ожиданием ответа,\n",
    "\n",
    "или\n",
    "\n",
    "* **publish_message(msg, topic_id, ...)** – широковещательная публикация без ожидания ответа \n",
    "\n",
    "Таким образом, «протокол» взаимодействия – это асинхронный обмен объектами сообщений (текстами, объектами типа FunctionCall , ToolExecutionResult и пр.) через шину рантайма."
   ]
  },
  {
   "cell_type": "markdown",
   "metadata": {},
   "source": [
    "## Шаблоны промптов и системное сообщение в AutoGen\n",
    "Каждый агент имеет конфигурацию системного сообщения (system prompt/message), которое задаётся при создании агента или берётся по умолчанию."
   ]
  },
  {
   "cell_type": "code",
   "execution_count": null,
   "metadata": {},
   "outputs": [],
   "source": [
    "# Внутри AssistantAgent: \n",
    "\n",
    "system_message: (\n",
    "            str | None\n",
    "        ) = \"You are a helpful AI assistant. Solve tasks using your tools. Reply with TERMINATE when the task has been completed.\",\n",
    "\n",
    "# Create an AssistantAgent instance that uses the tool and model client.\n",
    "agent = AssistantAgent(\n",
    "    name=\"assistant\",\n",
    "    model_client=model_client,\n",
    "    tools=[tool],\n",
    "    system_message=\"Use the tool to analyze sentiment.\",\n",
    "    output_content_type=AgentResponse)\n",
    "\n",
    "# Create an AssistantAgent instance with the model client and context.\n",
    "agent = AssistantAgent(\n",
    "    name=\"assistant\",\n",
    "    model_client=model_client,\n",
    "    model_context=model_context,\n",
    "    system_message=\"You are a helpful assistant.\",\n",
    "    \n",
    "    \n",
    ")"
   ]
  },
  {
   "cell_type": "code",
   "execution_count": 30,
   "metadata": {},
   "outputs": [],
   "source": [
    "# Внутри CodeExecutorAgent: \n",
    "# It is recommended that the `CodeExecutorAgent` agent uses a Docker container to execute code. \n",
    "# This ensures that model-generated code is executed in an isolated environment. \n",
    "# To use Docker, your environment must have Docker installed and running.\n",
    "\n",
    "DEFAULT_SYSTEM_MESSAGE = \"\"\"You are a Code Execution Agent. \n",
    "Your role is to generate and execute Python code and shell scripts based on user instructions, \n",
    "ensuring correctness, efficiency, and minimal errors. Handle edge cases gracefully.\n",
    "Python code should be provided in ```python code blocks, and sh shell scripts should be provided in ```sh code blocks for execution.\"\"\"\n"
   ]
  },
  {
   "cell_type": "markdown",
   "metadata": {},
   "source": [
    "### Настройка окружения, роли и интеграция инструментов\n",
    "\n",
    "AutoGen предоставляет богатые возможности по подключению инструментов и сред.\n",
    "\n",
    "- Во-первых, память агентов реализована через классы Memory (например, ListMemory ) из autogen_core.memory. Память может накапливать произвольные записи и при необходимости подгружать их в контекст чата.\n",
    "\n",
    "- Во-вторых, инструменты оформлены как наследники BaseTool:\n",
    "    - FunctionTool для обертки произвольной функции Python (AssistantAgent)\n",
    "    - ToolAgent (ядро для исполнения FunctionCall -сообщений в autogen_core.tool_agent)\n",
    "    - Workbench – коллекция таких инструментов. "
   ]
  },
  {
   "cell_type": "markdown",
   "metadata": {},
   "source": [
    "AutoGen оптимизирован для исследовательских и производственных многозадачных сценариев: его архитектура позволяет запускать долгоживущих агентов с наблюдением и интеграцией в рабочие процессы.\n",
    "\n",
    "Ключевые возможности и сценарии:\n",
    "- **Асинхронные агенты**: обмен сообщениями без блокировки, можно строить сложные рабочие процессы с несколькими шагами.\n",
    "\n",
    "- **Модульность**: легко добавлять свои модели, агенты, инструменты и память; поддержка «продвинутых» возможностей (агентов-утилит, командная работа агентов).\n",
    "\n",
    "- **Наблюдаемость**: инструменты для трассировки взаимодействий агентов, аналитики, логирования, поддержка OpenTelemetry.\n",
    "\n",
    "- **Распределённость**: можно запускать агентов на нескольких узлах или микросервисах.\n",
    "\n",
    "- **Примеры применения**: автоматизация бизнес-процессов (определённая последовательность действий), исследовательские задачи по коллаборации агентов, распределённые агенты для разных языков и т.д. "
   ]
  },
  {
   "cell_type": "code",
   "execution_count": 25,
   "metadata": {},
   "outputs": [],
   "source": [
    "llm_config = {\n",
    "    'model': 'mistral-nemo:12b-instruct-2407-q3_K_L',\n",
    "    'base_url': 'http://localhost:11434/v1',\n",
    "    'api_key': 'ollama',\n",
    "    'cache_seed': None,\n",
    "    'temperature': 0.2\n",
    "}"
   ]
  },
  {
   "cell_type": "code",
   "execution_count": 26,
   "metadata": {},
   "outputs": [
    {
     "name": "stdout",
     "output_type": "stream",
     "text": [
      "\u001b[33mПользователь\u001b[0m (to Аналитик):\n",
      "\n",
      "Задача:\n",
      "    1. Сгенерируй 1000 рандомных чисел\n",
      "    2. Рассчитай среднее и стандартное отклонение\n",
      "\n",
      "--------------------------------------------------------------------------------\n",
      "[autogen.oai.client: 06-29 15:57:55] {696} WARNING - Model mistral-nemo:12b-instruct-2407-q3_K_L is not found. The cost will be 0. In your config_list, add field {\"price\" : [prompt_price_per_1k, completion_token_price_per_1k]} for customized pricing.\n",
      "\u001b[33mАналитик\u001b[0m (to Пользователь):\n",
      "\n",
      "Вот как вы можете сгенерировать 1000 случайных чисел, рассчитать их среднее и стандартное отклонение в Python:\n",
      "\n",
      "```python\n",
      "import numpy as np\n",
      "\n",
      "# Шаг 1: Сгенерируйте 1000 рандомных чисел\n",
      "random_numbers = np.random.rand(1000)\n",
      "\n",
      "# Шаг 2: Рассчитайте среднее и стандартное отклонение\n",
      "mean_value = np.mean(random_numbers)\n",
      "std_deviation = np.std(random_numbers)\n",
      "\n",
      "print(\"Среднее значение:\", mean_value)\n",
      "print(\"Стандартное отклонение:\", std_deviation)\n",
      "```\n",
      "\n",
      "В этом коде мы используем библиотеку NumPy для генерации случайных чисел и расчета статистических показателей. Функция `np.random.rand()` генерирует массив из 1000 случайных чисел в диапазоне от 0 до 1. Затем мы рассчитываем среднее значение с помощью функции `np.mean()` и стандартное отклонение с помощью функции `np.std()`. Результаты выводим на экран с помощью `print()`.\n",
      "\n",
      "--------------------------------------------------------------------------------\n",
      "\u001b[31m\n",
      ">>>>>>>> EXECUTING CODE BLOCK 0 (inferred language is python)...\u001b[0m\n",
      "\u001b[33mПользователь\u001b[0m (to Аналитик):\n",
      "\n",
      "exitcode: 0 (execution succeeded)\n",
      "Code output: \n",
      "Среднее значение: 0.48455141184627415\n",
      "Стандартное отклонение: 0.2867850678782814\n",
      "\n",
      "\n",
      "--------------------------------------------------------------------------------\n",
      "[autogen.oai.client: 06-29 15:58:09] {696} WARNING - Model mistral-nemo:12b-instruct-2407-q3_K_L is not found. The cost will be 0. In your config_list, add field {\"price\" : [prompt_price_per_1k, completion_token_price_per_1k]} for customized pricing.\n",
      "\u001b[33mАналитик\u001b[0m (to Пользователь):\n",
      "\n",
      "Код успешно выполнен, и вот результаты:\n",
      "\n",
      "Среднее значение: Приблизительно 0.485\n",
      "\n",
      "Стандартное отклонение: Приблизительно 0.287\n",
      "\n",
      "Это означает, что среднее из 1000 сгенерированных случайных чисел составляет около 0.485, а стандартное отклонение - около 0.287. Стандартное отклонение показывает, насколько рассеяны данные вокруг среднего значения. В данном случае, числа находятся в диапазоне от 0 до 1, и их среднее значение близко к середине этого диапазона (0.5).\n",
      "\n",
      "--------------------------------------------------------------------------------\n",
      "\u001b[33mПользователь\u001b[0m (to Аналитик):\n",
      "\n",
      "\n",
      "\n",
      "--------------------------------------------------------------------------------\n",
      "[autogen.oai.client: 06-29 15:58:12] {696} WARNING - Model mistral-nemo:12b-instruct-2407-q3_K_L is not found. The cost will be 0. In your config_list, add field {\"price\" : [prompt_price_per_1k, completion_token_price_per_1k]} for customized pricing.\n",
      "\u001b[33mАналитик\u001b[0m (to Пользователь):\n",
      "\n",
      "Если у вас есть другие запросы или если я могу вам чем-то помочь, просто дайте мне знать!\n",
      "\n",
      "--------------------------------------------------------------------------------\n",
      "\u001b[33mПользователь\u001b[0m (to Аналитик):\n",
      "\n",
      "\n",
      "\n",
      "--------------------------------------------------------------------------------\n",
      "[autogen.oai.client: 06-29 15:58:14] {696} WARNING - Model mistral-nemo:12b-instruct-2407-q3_K_L is not found. The cost will be 0. In your config_list, add field {\"price\" : [prompt_price_per_1k, completion_token_price_per_1k]} for customized pricing.\n",
      "\u001b[33mАналитик\u001b[0m (to Пользователь):\n",
      "\n",
      " Хорошо, если у вас нет других вопросов, я буду ждать следующего запроса.\n",
      "\n",
      "--------------------------------------------------------------------------------\n",
      "\u001b[31m\n",
      ">>>>>>>> TERMINATING RUN (452aa464-1c43-44f4-b409-e872eaf5eacf): Maximum number of consecutive auto-replies reached\u001b[0m\n"
     ]
    },
    {
     "data": {
      "text/plain": [
       "ChatResult(chat_id=None, chat_history=[{'content': 'Задача:\\n    1. Сгенерируй 1000 рандомных чисел\\n    2. Рассчитай среднее и стандартное отклонение', 'role': 'assistant', 'name': 'Пользователь'}, {'content': 'Вот как вы можете сгенерировать 1000 случайных чисел, рассчитать их среднее и стандартное отклонение в Python:\\n\\n```python\\nimport numpy as np\\n\\n# Шаг 1: Сгенерируйте 1000 рандомных чисел\\nrandom_numbers = np.random.rand(1000)\\n\\n# Шаг 2: Рассчитайте среднее и стандартное отклонение\\nmean_value = np.mean(random_numbers)\\nstd_deviation = np.std(random_numbers)\\n\\nprint(\"Среднее значение:\", mean_value)\\nprint(\"Стандартное отклонение:\", std_deviation)\\n```\\n\\nВ этом коде мы используем библиотеку NumPy для генерации случайных чисел и расчета статистических показателей. Функция `np.random.rand()` генерирует массив из 1000 случайных чисел в диапазоне от 0 до 1. Затем мы рассчитываем среднее значение с помощью функции `np.mean()` и стандартное отклонение с помощью функции `np.std()`. Результаты выводим на экран с помощью `print()`.', 'role': 'user', 'name': 'Аналитик'}, {'content': 'exitcode: 0 (execution succeeded)\\nCode output: \\nСреднее значение: 0.48455141184627415\\nСтандартное отклонение: 0.2867850678782814\\n', 'role': 'assistant', 'name': 'Пользователь'}, {'content': 'Код успешно выполнен, и вот результаты:\\n\\nСреднее значение: Приблизительно 0.485\\n\\nСтандартное отклонение: Приблизительно 0.287\\n\\nЭто означает, что среднее из 1000 сгенерированных случайных чисел составляет около 0.485, а стандартное отклонение - около 0.287. Стандартное отклонение показывает, насколько рассеяны данные вокруг среднего значения. В данном случае, числа находятся в диапазоне от 0 до 1, и их среднее значение близко к середине этого диапазона (0.5).', 'role': 'user', 'name': 'Аналитик'}, {'content': '', 'role': 'assistant', 'name': 'Пользователь'}, {'content': 'Если у вас есть другие запросы или если я могу вам чем-то помочь, просто дайте мне знать!', 'role': 'user', 'name': 'Аналитик'}, {'content': '', 'role': 'assistant', 'name': 'Пользователь'}, {'content': ' Хорошо, если у вас нет других вопросов, я буду ждать следующего запроса.', 'role': 'user', 'name': 'Аналитик'}], summary=' Хорошо, если у вас нет других вопросов, я буду ждать следующего запроса.', cost={'usage_including_cached_inference': {'total_cost': 0, 'mistral-nemo:12b-instruct-2407-q3_K_L': {'cost': 0, 'prompt_tokens': 1541, 'completion_tokens': 450, 'total_tokens': 1991}}, 'usage_excluding_cached_inference': {'total_cost': 0, 'mistral-nemo:12b-instruct-2407-q3_K_L': {'cost': 0, 'prompt_tokens': 1541, 'completion_tokens': 450, 'total_tokens': 1991}}}, human_input=[])"
      ]
     },
     "execution_count": 26,
     "metadata": {},
     "output_type": "execute_result"
    }
   ],
   "source": [
    "from autogen import AssistantAgent, UserProxyAgent\n",
    "\n",
    "\n",
    "# Создание агентов\n",
    "analyst = AssistantAgent(\n",
    "    name=\"Аналитик\",\n",
    "    system_message=\"Ты профессиональный аналитик данных. Генерируй код на Python\",\n",
    "    llm_config=llm_config\n",
    ")\n",
    "\n",
    "user_proxy = UserProxyAgent(\n",
    "    name=\"Пользователь\",\n",
    "    human_input_mode=\"NEVER\", \n",
    "    code_execution_config={\"work_dir\": \"coding\", \"use_docker\": False},\n",
    "    max_consecutive_auto_reply=3\n",
    ")\n",
    "\n",
    "# Запускаем диалог\n",
    "user_proxy.initiate_chat(\n",
    "    analyst,\n",
    "    message=\"\"\"Задача:\n",
    "    1. Сгенерируй 1000 рандомных чисел\n",
    "    2. Рассчитай среднее и стандартное отклонение\"\"\"\n",
    ")"
   ]
  },
  {
   "cell_type": "markdown",
   "metadata": {},
   "source": [
    "🔍 Что делает этот код\n",
    " 1. UserProxyAgent — агент, имитирующий пользователя.\n",
    "\n",
    " 2. AssistantAgent — агент, представляющий LLM, который будет отвечать.\n",
    "\n",
    " 3. Инициация чата — пользователь задаёт вопрос, а ассистент пытается на него ответить.\n",
    " \n",
    " 4. Автоматическая остановка происходит, если в ответе появится слово «конец».\n"
   ]
  },
  {
   "cell_type": "markdown",
   "metadata": {},
   "source": [
    "### 📌 **CrewAI**\n",
    "---\n",
    "[Библиотека](https://www.crewai.com/)\n",
    "\n",
    "**CrewAI** – фреймворк для построения команд автономных LLM-агентов с role-based организацией. \n",
    "\n",
    "#### Основные компоненты:\n",
    "- **Crew (команда)** – верхнеуровневая организация, управляющая набором агентов и распределением задач\n",
    "- **Agent (агент)** – специализированный участник с конкретной ролью, целью и инструментами\n",
    "- **Task (задача)** – единичное задание с описанием и ожидаемым результатом\n",
    "- **Process** – определяет схему выполнения задач (последовательную или иерархическую)\n",
    "- **Flow** – дополнительный модуль для событийно-ориентированной оркестрации (Workflow) с возможностью условной логики и ветвлений\n",
    "\n",
    "#### Агент может иметь менеджера (Manager Agent) при иерархическом процессе: в этом случае задаётся LLM и агент-менеджер для координации подчинённых "
   ]
  },
  {
   "cell_type": "code",
   "execution_count": 6,
   "metadata": {},
   "outputs": [
    {
     "name": "stdout",
     "output_type": "stream",
     "text": [
      "\u001b[31mERROR: Could not find a version that satisfies the requirement crewai==0.30.7 (from versions: 0.1.0, 0.1.1, 0.1.2, 0.1.3, 0.1.5, 0.1.6, 0.1.7, 0.1.14, 0.1.15, 0.1.16, 0.1.17, 0.1.23, 0.1.24, 0.1.32, 0.5.0, 0.5.2, 0.5.3, 0.5.5, 0.10.0, 0.11.0, 0.11.1, 0.11.2, 0.14.0rc0, 0.14.0rc1, 0.14.0, 0.14.1, 0.14.3, 0.14.4, 0.16.0, 0.16.1, 0.16.2, 0.16.3, 0.17.0rc0, 0.17.0rc1, 0.17.0rc2, 0.17.0, 0.19.0, 0.22.0, 0.22.2, 0.22.3, 0.22.4, 0.22.5, 0.27.0rc0, 0.27.0rc1, 0.27.0rc2, 0.27.0rc3, 0.27.0, 0.27.1, 0.27.2, 0.28.0, 0.28.1, 0.28.2, 0.28.3, 0.28.4, 0.28.5, 0.28.6, 0.28.7, 0.28.8, 0.28.9rc1, 0.28.9rc2, 0.30.0rc1, 0.30.0rc2, 0.30.0rc3, 0.30.0rc4, 0.30.0rc5, 0.30.0rc6, 0.30.0rc7, 0.30.0, 0.30.4, 0.30.5, 0.30.8, 0.30.10, 0.30.11, 0.32.0, 0.32.1, 0.32.2, 0.35.0, 0.35.3, 0.35.4, 0.35.5, 0.35.6, 0.35.7, 0.35.8, 0.36.0, 0.36.1, 0.41.0, 0.41.1, 0.51.0, 0.51.1, 0.55.0, 0.55.1, 0.55.2, 0.60.0, 0.61.0, 0.63.0, 0.63.1, 0.63.2, 0.63.5, 0.63.6, 0.64.0, 0.65.0, 0.65.1, 0.65.2, 0.66.0, 0.67.0, 0.67.1, 0.70.0, 0.70.1, 0.74.0, 0.74.1, 0.74.2, 0.75.0, 0.75.1, 0.76.0, 0.76.1, 0.76.2, 0.76.9, 0.79.0, 0.79.1, 0.79.2, 0.79.3, 0.79.4, 0.80.0, 0.83.0, 0.85.0, 0.86.0, 0.95.0, 0.98.0, 0.100.0, 0.100.1, 0.102.0, 0.105.0, 0.108.0, 0.114.0, 0.117.0, 0.117.1, 0.118.0, 0.119.0, 0.120.0, 0.120.1, 0.121.0, 0.121.1, 0.126.0, 0.130.0, 0.134.0)\u001b[0m\u001b[31m\n",
      "\u001b[0m\u001b[31mERROR: No matching distribution found for crewai==0.30.7\u001b[0m\u001b[31m\n",
      "\u001b[0mNote: you may need to restart the kernel to use updated packages.\n"
     ]
    }
   ],
   "source": [
    "pip install crewai==0.30.7"
   ]
  },
  {
   "cell_type": "code",
   "execution_count": 7,
   "metadata": {},
   "outputs": [
    {
     "name": "stdout",
     "output_type": "stream",
     "text": [
      "Collecting crewai==0.134.0\n",
      "  Downloading crewai-0.134.0-py3-none-any.whl.metadata (35 kB)\n",
      "Requirement already satisfied: appdirs>=1.4.4 in ./.venv/lib/python3.11/site-packages (from crewai==0.134.0) (1.4.4)\n",
      "Requirement already satisfied: auth0-python>=4.7.1 in ./.venv/lib/python3.11/site-packages (from crewai==0.134.0) (4.10.0)\n",
      "Requirement already satisfied: blinker>=1.9.0 in ./.venv/lib/python3.11/site-packages (from crewai==0.134.0) (1.9.0)\n",
      "Requirement already satisfied: chromadb>=0.5.23 in ./.venv/lib/python3.11/site-packages (from crewai==0.134.0) (0.5.23)\n",
      "Requirement already satisfied: click>=8.1.7 in ./.venv/lib/python3.11/site-packages (from crewai==0.134.0) (8.2.1)\n",
      "Requirement already satisfied: instructor>=1.3.3 in ./.venv/lib/python3.11/site-packages (from crewai==0.134.0) (1.9.0)\n",
      "Requirement already satisfied: json-repair>=0.25.2 in ./.venv/lib/python3.11/site-packages (from crewai==0.134.0) (0.47.1)\n",
      "Requirement already satisfied: json5>=0.10.0 in ./.venv/lib/python3.11/site-packages (from crewai==0.134.0) (0.12.0)\n",
      "Requirement already satisfied: jsonref>=1.1.0 in ./.venv/lib/python3.11/site-packages (from crewai==0.134.0) (1.1.0)\n",
      "Requirement already satisfied: litellm==1.72.0 in ./.venv/lib/python3.11/site-packages (from crewai==0.134.0) (1.72.0)\n",
      "Requirement already satisfied: onnxruntime==1.22.0 in ./.venv/lib/python3.11/site-packages (from crewai==0.134.0) (1.22.0)\n",
      "Requirement already satisfied: openai>=1.13.3 in ./.venv/lib/python3.11/site-packages (from crewai==0.134.0) (1.90.0)\n",
      "Requirement already satisfied: openpyxl>=3.1.5 in ./.venv/lib/python3.11/site-packages (from crewai==0.134.0) (3.1.5)\n",
      "Requirement already satisfied: opentelemetry-api>=1.30.0 in ./.venv/lib/python3.11/site-packages (from crewai==0.134.0) (1.34.1)\n",
      "Requirement already satisfied: opentelemetry-exporter-otlp-proto-http>=1.30.0 in ./.venv/lib/python3.11/site-packages (from crewai==0.134.0) (1.34.1)\n",
      "Requirement already satisfied: opentelemetry-sdk>=1.30.0 in ./.venv/lib/python3.11/site-packages (from crewai==0.134.0) (1.34.1)\n",
      "Requirement already satisfied: pdfplumber>=0.11.4 in ./.venv/lib/python3.11/site-packages (from crewai==0.134.0) (0.11.7)\n",
      "Requirement already satisfied: pydantic>=2.4.2 in ./.venv/lib/python3.11/site-packages (from crewai==0.134.0) (2.11.7)\n",
      "Requirement already satisfied: python-dotenv>=1.0.0 in ./.venv/lib/python3.11/site-packages (from crewai==0.134.0) (1.1.0)\n",
      "Requirement already satisfied: pyvis>=0.3.2 in ./.venv/lib/python3.11/site-packages (from crewai==0.134.0) (0.3.2)\n",
      "Requirement already satisfied: regex>=2024.9.11 in ./.venv/lib/python3.11/site-packages (from crewai==0.134.0) (2024.11.6)\n",
      "Requirement already satisfied: tokenizers>=0.20.3 in ./.venv/lib/python3.11/site-packages (from crewai==0.134.0) (0.20.3)\n",
      "Requirement already satisfied: tomli-w>=1.1.0 in ./.venv/lib/python3.11/site-packages (from crewai==0.134.0) (1.2.0)\n",
      "Requirement already satisfied: tomli>=2.0.2 in ./.venv/lib/python3.11/site-packages (from crewai==0.134.0) (2.2.1)\n",
      "Requirement already satisfied: uv>=0.4.25 in ./.venv/lib/python3.11/site-packages (from crewai==0.134.0) (0.7.13)\n",
      "Requirement already satisfied: aiohttp in ./.venv/lib/python3.11/site-packages (from litellm==1.72.0->crewai==0.134.0) (3.12.13)\n",
      "Requirement already satisfied: httpx>=0.23.0 in ./.venv/lib/python3.11/site-packages (from litellm==1.72.0->crewai==0.134.0) (0.28.1)\n",
      "Requirement already satisfied: importlib-metadata>=6.8.0 in ./.venv/lib/python3.11/site-packages (from litellm==1.72.0->crewai==0.134.0) (8.7.0)\n",
      "Requirement already satisfied: jinja2<4.0.0,>=3.1.2 in ./.venv/lib/python3.11/site-packages (from litellm==1.72.0->crewai==0.134.0) (3.1.6)\n",
      "Requirement already satisfied: jsonschema<5.0.0,>=4.22.0 in ./.venv/lib/python3.11/site-packages (from litellm==1.72.0->crewai==0.134.0) (4.24.0)\n",
      "Requirement already satisfied: tiktoken>=0.7.0 in ./.venv/lib/python3.11/site-packages (from litellm==1.72.0->crewai==0.134.0) (0.9.0)\n",
      "Requirement already satisfied: coloredlogs in ./.venv/lib/python3.11/site-packages (from onnxruntime==1.22.0->crewai==0.134.0) (15.0.1)\n",
      "Requirement already satisfied: flatbuffers in ./.venv/lib/python3.11/site-packages (from onnxruntime==1.22.0->crewai==0.134.0) (25.2.10)\n",
      "Requirement already satisfied: numpy>=1.21.6 in ./.venv/lib/python3.11/site-packages (from onnxruntime==1.22.0->crewai==0.134.0) (2.3.1)\n",
      "Requirement already satisfied: packaging in ./.venv/lib/python3.11/site-packages (from onnxruntime==1.22.0->crewai==0.134.0) (24.2)\n",
      "Requirement already satisfied: protobuf in ./.venv/lib/python3.11/site-packages (from onnxruntime==1.22.0->crewai==0.134.0) (5.29.5)\n",
      "Requirement already satisfied: sympy in ./.venv/lib/python3.11/site-packages (from onnxruntime==1.22.0->crewai==0.134.0) (1.14.0)\n",
      "Requirement already satisfied: MarkupSafe>=2.0 in ./.venv/lib/python3.11/site-packages (from jinja2<4.0.0,>=3.1.2->litellm==1.72.0->crewai==0.134.0) (3.0.2)\n",
      "Requirement already satisfied: attrs>=22.2.0 in ./.venv/lib/python3.11/site-packages (from jsonschema<5.0.0,>=4.22.0->litellm==1.72.0->crewai==0.134.0) (25.3.0)\n",
      "Requirement already satisfied: jsonschema-specifications>=2023.03.6 in ./.venv/lib/python3.11/site-packages (from jsonschema<5.0.0,>=4.22.0->litellm==1.72.0->crewai==0.134.0) (2025.4.1)\n",
      "Requirement already satisfied: referencing>=0.28.4 in ./.venv/lib/python3.11/site-packages (from jsonschema<5.0.0,>=4.22.0->litellm==1.72.0->crewai==0.134.0) (0.36.2)\n",
      "Requirement already satisfied: rpds-py>=0.7.1 in ./.venv/lib/python3.11/site-packages (from jsonschema<5.0.0,>=4.22.0->litellm==1.72.0->crewai==0.134.0) (0.25.1)\n",
      "Requirement already satisfied: annotated-types>=0.6.0 in ./.venv/lib/python3.11/site-packages (from pydantic>=2.4.2->crewai==0.134.0) (0.7.0)\n",
      "Requirement already satisfied: pydantic-core==2.33.2 in ./.venv/lib/python3.11/site-packages (from pydantic>=2.4.2->crewai==0.134.0) (2.33.2)\n",
      "Requirement already satisfied: typing-extensions>=4.12.2 in ./.venv/lib/python3.11/site-packages (from pydantic>=2.4.2->crewai==0.134.0) (4.14.0)\n",
      "Requirement already satisfied: typing-inspection>=0.4.0 in ./.venv/lib/python3.11/site-packages (from pydantic>=2.4.2->crewai==0.134.0) (0.4.1)\n",
      "Requirement already satisfied: cryptography>=43.0.1 in ./.venv/lib/python3.11/site-packages (from auth0-python>=4.7.1->crewai==0.134.0) (45.0.4)\n",
      "Requirement already satisfied: pyjwt>=2.8.0 in ./.venv/lib/python3.11/site-packages (from auth0-python>=4.7.1->crewai==0.134.0) (2.10.1)\n",
      "Requirement already satisfied: requests>=2.32.3 in ./.venv/lib/python3.11/site-packages (from auth0-python>=4.7.1->crewai==0.134.0) (2.32.4)\n",
      "Requirement already satisfied: urllib3>=2.2.3 in ./.venv/lib/python3.11/site-packages (from auth0-python>=4.7.1->crewai==0.134.0) (2.5.0)\n",
      "Requirement already satisfied: aiohappyeyeballs>=2.5.0 in ./.venv/lib/python3.11/site-packages (from aiohttp->litellm==1.72.0->crewai==0.134.0) (2.6.1)\n",
      "Requirement already satisfied: aiosignal>=1.1.2 in ./.venv/lib/python3.11/site-packages (from aiohttp->litellm==1.72.0->crewai==0.134.0) (1.3.2)\n",
      "Requirement already satisfied: frozenlist>=1.1.1 in ./.venv/lib/python3.11/site-packages (from aiohttp->litellm==1.72.0->crewai==0.134.0) (1.7.0)\n",
      "Requirement already satisfied: multidict<7.0,>=4.5 in ./.venv/lib/python3.11/site-packages (from aiohttp->litellm==1.72.0->crewai==0.134.0) (6.5.0)\n",
      "Requirement already satisfied: propcache>=0.2.0 in ./.venv/lib/python3.11/site-packages (from aiohttp->litellm==1.72.0->crewai==0.134.0) (0.3.2)\n",
      "Requirement already satisfied: yarl<2.0,>=1.17.0 in ./.venv/lib/python3.11/site-packages (from aiohttp->litellm==1.72.0->crewai==0.134.0) (1.20.1)\n",
      "Requirement already satisfied: idna>=2.0 in ./.venv/lib/python3.11/site-packages (from yarl<2.0,>=1.17.0->aiohttp->litellm==1.72.0->crewai==0.134.0) (3.10)\n",
      "Requirement already satisfied: build>=1.0.3 in ./.venv/lib/python3.11/site-packages (from chromadb>=0.5.23->crewai==0.134.0) (1.2.2.post1)\n",
      "Requirement already satisfied: chroma-hnswlib==0.7.6 in ./.venv/lib/python3.11/site-packages (from chromadb>=0.5.23->crewai==0.134.0) (0.7.6)\n",
      "Requirement already satisfied: fastapi>=0.95.2 in ./.venv/lib/python3.11/site-packages (from chromadb>=0.5.23->crewai==0.134.0) (0.115.14)\n",
      "Requirement already satisfied: uvicorn>=0.18.3 in ./.venv/lib/python3.11/site-packages (from uvicorn[standard]>=0.18.3->chromadb>=0.5.23->crewai==0.134.0) (0.34.3)\n",
      "Requirement already satisfied: posthog>=2.4.0 in ./.venv/lib/python3.11/site-packages (from chromadb>=0.5.23->crewai==0.134.0) (3.25.0)\n",
      "Requirement already satisfied: opentelemetry-exporter-otlp-proto-grpc>=1.2.0 in ./.venv/lib/python3.11/site-packages (from chromadb>=0.5.23->crewai==0.134.0) (1.34.1)\n",
      "Requirement already satisfied: opentelemetry-instrumentation-fastapi>=0.41b0 in ./.venv/lib/python3.11/site-packages (from chromadb>=0.5.23->crewai==0.134.0) (0.55b1)\n",
      "Requirement already satisfied: pypika>=0.48.9 in ./.venv/lib/python3.11/site-packages (from chromadb>=0.5.23->crewai==0.134.0) (0.48.9)\n",
      "Requirement already satisfied: tqdm>=4.65.0 in ./.venv/lib/python3.11/site-packages (from chromadb>=0.5.23->crewai==0.134.0) (4.67.1)\n",
      "Requirement already satisfied: overrides>=7.3.1 in ./.venv/lib/python3.11/site-packages (from chromadb>=0.5.23->crewai==0.134.0) (7.7.0)\n",
      "Requirement already satisfied: importlib-resources in ./.venv/lib/python3.11/site-packages (from chromadb>=0.5.23->crewai==0.134.0) (6.5.2)\n",
      "Requirement already satisfied: grpcio>=1.58.0 in ./.venv/lib/python3.11/site-packages (from chromadb>=0.5.23->crewai==0.134.0) (1.73.0)\n",
      "Requirement already satisfied: bcrypt>=4.0.1 in ./.venv/lib/python3.11/site-packages (from chromadb>=0.5.23->crewai==0.134.0) (4.3.0)\n",
      "Requirement already satisfied: typer>=0.9.0 in ./.venv/lib/python3.11/site-packages (from chromadb>=0.5.23->crewai==0.134.0) (0.16.0)\n",
      "Requirement already satisfied: kubernetes>=28.1.0 in ./.venv/lib/python3.11/site-packages (from chromadb>=0.5.23->crewai==0.134.0) (33.1.0)\n",
      "Requirement already satisfied: tenacity>=8.2.3 in ./.venv/lib/python3.11/site-packages (from chromadb>=0.5.23->crewai==0.134.0) (9.1.2)\n",
      "Requirement already satisfied: PyYAML>=6.0.0 in ./.venv/lib/python3.11/site-packages (from chromadb>=0.5.23->crewai==0.134.0) (6.0.2)\n",
      "Requirement already satisfied: mmh3>=4.0.1 in ./.venv/lib/python3.11/site-packages (from chromadb>=0.5.23->crewai==0.134.0) (5.1.0)\n",
      "Requirement already satisfied: orjson>=3.9.12 in ./.venv/lib/python3.11/site-packages (from chromadb>=0.5.23->crewai==0.134.0) (3.10.18)\n",
      "Requirement already satisfied: rich>=10.11.0 in ./.venv/lib/python3.11/site-packages (from chromadb>=0.5.23->crewai==0.134.0) (13.9.4)\n",
      "Requirement already satisfied: huggingface-hub<1.0,>=0.16.4 in ./.venv/lib/python3.11/site-packages (from tokenizers>=0.20.3->crewai==0.134.0) (0.33.0)\n",
      "Requirement already satisfied: filelock in ./.venv/lib/python3.11/site-packages (from huggingface-hub<1.0,>=0.16.4->tokenizers>=0.20.3->crewai==0.134.0) (3.18.0)\n",
      "Requirement already satisfied: fsspec>=2023.5.0 in ./.venv/lib/python3.11/site-packages (from huggingface-hub<1.0,>=0.16.4->tokenizers>=0.20.3->crewai==0.134.0) (2025.5.1)\n",
      "Requirement already satisfied: hf-xet<2.0.0,>=1.1.2 in ./.venv/lib/python3.11/site-packages (from huggingface-hub<1.0,>=0.16.4->tokenizers>=0.20.3->crewai==0.134.0) (1.1.5)\n",
      "Requirement already satisfied: pyproject_hooks in ./.venv/lib/python3.11/site-packages (from build>=1.0.3->chromadb>=0.5.23->crewai==0.134.0) (1.2.0)\n",
      "Requirement already satisfied: cffi>=1.14 in ./.venv/lib/python3.11/site-packages (from cryptography>=43.0.1->auth0-python>=4.7.1->crewai==0.134.0) (1.17.1)\n",
      "Requirement already satisfied: pycparser in ./.venv/lib/python3.11/site-packages (from cffi>=1.14->cryptography>=43.0.1->auth0-python>=4.7.1->crewai==0.134.0) (2.22)\n",
      "Requirement already satisfied: starlette<0.47.0,>=0.40.0 in ./.venv/lib/python3.11/site-packages (from fastapi>=0.95.2->chromadb>=0.5.23->crewai==0.134.0) (0.46.2)\n",
      "Requirement already satisfied: anyio<5,>=3.6.2 in ./.venv/lib/python3.11/site-packages (from starlette<0.47.0,>=0.40.0->fastapi>=0.95.2->chromadb>=0.5.23->crewai==0.134.0) (4.9.0)\n",
      "Requirement already satisfied: sniffio>=1.1 in ./.venv/lib/python3.11/site-packages (from anyio<5,>=3.6.2->starlette<0.47.0,>=0.40.0->fastapi>=0.95.2->chromadb>=0.5.23->crewai==0.134.0) (1.3.1)\n",
      "Requirement already satisfied: certifi in ./.venv/lib/python3.11/site-packages (from httpx>=0.23.0->litellm==1.72.0->crewai==0.134.0) (2025.6.15)\n",
      "Requirement already satisfied: httpcore==1.* in ./.venv/lib/python3.11/site-packages (from httpx>=0.23.0->litellm==1.72.0->crewai==0.134.0) (1.0.9)\n",
      "Requirement already satisfied: h11>=0.16 in ./.venv/lib/python3.11/site-packages (from httpcore==1.*->httpx>=0.23.0->litellm==1.72.0->crewai==0.134.0) (0.16.0)\n",
      "Requirement already satisfied: zipp>=3.20 in ./.venv/lib/python3.11/site-packages (from importlib-metadata>=6.8.0->litellm==1.72.0->crewai==0.134.0) (3.23.0)\n",
      "Requirement already satisfied: docstring-parser<1.0,>=0.16 in ./.venv/lib/python3.11/site-packages (from instructor>=1.3.3->crewai==0.134.0) (0.16)\n",
      "Requirement already satisfied: jiter<0.11,>=0.6.1 in ./.venv/lib/python3.11/site-packages (from instructor>=1.3.3->crewai==0.134.0) (0.10.0)\n",
      "Requirement already satisfied: mkdocs-material>=9.5.49 in ./.venv/lib/python3.11/site-packages (from instructor>=1.3.3->crewai==0.134.0) (9.6.14)\n",
      "Requirement already satisfied: mkdocs>=1.6.1 in ./.venv/lib/python3.11/site-packages (from instructor>=1.3.3->crewai==0.134.0) (1.6.1)\n",
      "Requirement already satisfied: pre-commit>=4.2.0 in ./.venv/lib/python3.11/site-packages (from instructor>=1.3.3->crewai==0.134.0) (4.2.0)\n",
      "Requirement already satisfied: distro<2,>=1.7.0 in ./.venv/lib/python3.11/site-packages (from openai>=1.13.3->crewai==0.134.0) (1.9.0)\n",
      "Requirement already satisfied: charset_normalizer<4,>=2 in ./.venv/lib/python3.11/site-packages (from requests>=2.32.3->auth0-python>=4.7.1->crewai==0.134.0) (3.4.2)\n",
      "Requirement already satisfied: markdown-it-py>=2.2.0 in ./.venv/lib/python3.11/site-packages (from rich>=10.11.0->chromadb>=0.5.23->crewai==0.134.0) (3.0.0)\n",
      "Requirement already satisfied: pygments<3.0.0,>=2.13.0 in ./.venv/lib/python3.11/site-packages (from rich>=10.11.0->chromadb>=0.5.23->crewai==0.134.0) (2.19.2)\n",
      "Requirement already satisfied: shellingham>=1.3.0 in ./.venv/lib/python3.11/site-packages (from typer>=0.9.0->chromadb>=0.5.23->crewai==0.134.0) (1.5.4)\n",
      "Requirement already satisfied: six>=1.9.0 in ./.venv/lib/python3.11/site-packages (from kubernetes>=28.1.0->chromadb>=0.5.23->crewai==0.134.0) (1.17.0)\n",
      "Requirement already satisfied: python-dateutil>=2.5.3 in ./.venv/lib/python3.11/site-packages (from kubernetes>=28.1.0->chromadb>=0.5.23->crewai==0.134.0) (2.9.0.post0)\n",
      "Requirement already satisfied: google-auth>=1.0.1 in ./.venv/lib/python3.11/site-packages (from kubernetes>=28.1.0->chromadb>=0.5.23->crewai==0.134.0) (2.40.3)\n",
      "Requirement already satisfied: websocket-client!=0.40.0,!=0.41.*,!=0.42.*,>=0.32.0 in ./.venv/lib/python3.11/site-packages (from kubernetes>=28.1.0->chromadb>=0.5.23->crewai==0.134.0) (1.8.0)\n",
      "Requirement already satisfied: requests-oauthlib in ./.venv/lib/python3.11/site-packages (from kubernetes>=28.1.0->chromadb>=0.5.23->crewai==0.134.0) (2.0.0)\n",
      "Requirement already satisfied: oauthlib>=3.2.2 in ./.venv/lib/python3.11/site-packages (from kubernetes>=28.1.0->chromadb>=0.5.23->crewai==0.134.0) (3.3.1)\n",
      "Requirement already satisfied: durationpy>=0.7 in ./.venv/lib/python3.11/site-packages (from kubernetes>=28.1.0->chromadb>=0.5.23->crewai==0.134.0) (0.10)\n",
      "Requirement already satisfied: cachetools<6.0,>=2.0.0 in ./.venv/lib/python3.11/site-packages (from google-auth>=1.0.1->kubernetes>=28.1.0->chromadb>=0.5.23->crewai==0.134.0) (5.5.2)\n",
      "Requirement already satisfied: pyasn1-modules>=0.2.1 in ./.venv/lib/python3.11/site-packages (from google-auth>=1.0.1->kubernetes>=28.1.0->chromadb>=0.5.23->crewai==0.134.0) (0.4.2)\n",
      "Requirement already satisfied: rsa<5,>=3.1.4 in ./.venv/lib/python3.11/site-packages (from google-auth>=1.0.1->kubernetes>=28.1.0->chromadb>=0.5.23->crewai==0.134.0) (4.9.1)\n",
      "Requirement already satisfied: pyasn1>=0.1.3 in ./.venv/lib/python3.11/site-packages (from rsa<5,>=3.1.4->google-auth>=1.0.1->kubernetes>=28.1.0->chromadb>=0.5.23->crewai==0.134.0) (0.6.1)\n",
      "Requirement already satisfied: mdurl~=0.1 in ./.venv/lib/python3.11/site-packages (from markdown-it-py>=2.2.0->rich>=10.11.0->chromadb>=0.5.23->crewai==0.134.0) (0.1.2)\n",
      "Requirement already satisfied: ghp-import>=1.0 in ./.venv/lib/python3.11/site-packages (from mkdocs>=1.6.1->instructor>=1.3.3->crewai==0.134.0) (2.1.0)\n",
      "Requirement already satisfied: markdown>=3.3.6 in ./.venv/lib/python3.11/site-packages (from mkdocs>=1.6.1->instructor>=1.3.3->crewai==0.134.0) (3.8.2)\n",
      "Requirement already satisfied: mergedeep>=1.3.4 in ./.venv/lib/python3.11/site-packages (from mkdocs>=1.6.1->instructor>=1.3.3->crewai==0.134.0) (1.3.4)\n",
      "Requirement already satisfied: mkdocs-get-deps>=0.2.0 in ./.venv/lib/python3.11/site-packages (from mkdocs>=1.6.1->instructor>=1.3.3->crewai==0.134.0) (0.2.0)\n",
      "Requirement already satisfied: pathspec>=0.11.1 in ./.venv/lib/python3.11/site-packages (from mkdocs>=1.6.1->instructor>=1.3.3->crewai==0.134.0) (0.12.1)\n",
      "Requirement already satisfied: pyyaml-env-tag>=0.1 in ./.venv/lib/python3.11/site-packages (from mkdocs>=1.6.1->instructor>=1.3.3->crewai==0.134.0) (1.1)\n",
      "Requirement already satisfied: watchdog>=2.0 in ./.venv/lib/python3.11/site-packages (from mkdocs>=1.6.1->instructor>=1.3.3->crewai==0.134.0) (6.0.0)\n",
      "Requirement already satisfied: platformdirs>=2.2.0 in ./.venv/lib/python3.11/site-packages (from mkdocs-get-deps>=0.2.0->mkdocs>=1.6.1->instructor>=1.3.3->crewai==0.134.0) (4.3.8)\n",
      "Requirement already satisfied: babel~=2.10 in ./.venv/lib/python3.11/site-packages (from mkdocs-material>=9.5.49->instructor>=1.3.3->crewai==0.134.0) (2.17.0)\n",
      "Requirement already satisfied: backrefs~=5.7.post1 in ./.venv/lib/python3.11/site-packages (from mkdocs-material>=9.5.49->instructor>=1.3.3->crewai==0.134.0) (5.8)\n",
      "Requirement already satisfied: colorama~=0.4 in ./.venv/lib/python3.11/site-packages (from mkdocs-material>=9.5.49->instructor>=1.3.3->crewai==0.134.0) (0.4.6)\n",
      "Requirement already satisfied: mkdocs-material-extensions~=1.3 in ./.venv/lib/python3.11/site-packages (from mkdocs-material>=9.5.49->instructor>=1.3.3->crewai==0.134.0) (1.3.1)\n",
      "Requirement already satisfied: paginate~=0.5 in ./.venv/lib/python3.11/site-packages (from mkdocs-material>=9.5.49->instructor>=1.3.3->crewai==0.134.0) (0.5.7)\n",
      "Requirement already satisfied: pymdown-extensions~=10.2 in ./.venv/lib/python3.11/site-packages (from mkdocs-material>=9.5.49->instructor>=1.3.3->crewai==0.134.0) (10.16)\n",
      "Requirement already satisfied: et-xmlfile in ./.venv/lib/python3.11/site-packages (from openpyxl>=3.1.5->crewai==0.134.0) (2.0.0)\n",
      "Requirement already satisfied: googleapis-common-protos~=1.52 in ./.venv/lib/python3.11/site-packages (from opentelemetry-exporter-otlp-proto-grpc>=1.2.0->chromadb>=0.5.23->crewai==0.134.0) (1.70.0)\n",
      "Requirement already satisfied: opentelemetry-exporter-otlp-proto-common==1.34.1 in ./.venv/lib/python3.11/site-packages (from opentelemetry-exporter-otlp-proto-grpc>=1.2.0->chromadb>=0.5.23->crewai==0.134.0) (1.34.1)\n",
      "Requirement already satisfied: opentelemetry-proto==1.34.1 in ./.venv/lib/python3.11/site-packages (from opentelemetry-exporter-otlp-proto-grpc>=1.2.0->chromadb>=0.5.23->crewai==0.134.0) (1.34.1)\n",
      "Requirement already satisfied: opentelemetry-semantic-conventions==0.55b1 in ./.venv/lib/python3.11/site-packages (from opentelemetry-sdk>=1.30.0->crewai==0.134.0) (0.55b1)\n",
      "Requirement already satisfied: opentelemetry-instrumentation-asgi==0.55b1 in ./.venv/lib/python3.11/site-packages (from opentelemetry-instrumentation-fastapi>=0.41b0->chromadb>=0.5.23->crewai==0.134.0) (0.55b1)\n",
      "Requirement already satisfied: opentelemetry-instrumentation==0.55b1 in ./.venv/lib/python3.11/site-packages (from opentelemetry-instrumentation-fastapi>=0.41b0->chromadb>=0.5.23->crewai==0.134.0) (0.55b1)\n",
      "Requirement already satisfied: opentelemetry-util-http==0.55b1 in ./.venv/lib/python3.11/site-packages (from opentelemetry-instrumentation-fastapi>=0.41b0->chromadb>=0.5.23->crewai==0.134.0) (0.55b1)\n",
      "Requirement already satisfied: wrapt<2.0.0,>=1.0.0 in ./.venv/lib/python3.11/site-packages (from opentelemetry-instrumentation==0.55b1->opentelemetry-instrumentation-fastapi>=0.41b0->chromadb>=0.5.23->crewai==0.134.0) (1.17.2)\n",
      "Requirement already satisfied: asgiref~=3.0 in ./.venv/lib/python3.11/site-packages (from opentelemetry-instrumentation-asgi==0.55b1->opentelemetry-instrumentation-fastapi>=0.41b0->chromadb>=0.5.23->crewai==0.134.0) (3.8.1)\n",
      "Requirement already satisfied: pdfminer.six==20250506 in ./.venv/lib/python3.11/site-packages (from pdfplumber>=0.11.4->crewai==0.134.0) (20250506)\n",
      "Requirement already satisfied: Pillow>=9.1 in ./.venv/lib/python3.11/site-packages (from pdfplumber>=0.11.4->crewai==0.134.0) (11.2.1)\n",
      "Requirement already satisfied: pypdfium2>=4.18.0 in ./.venv/lib/python3.11/site-packages (from pdfplumber>=0.11.4->crewai==0.134.0) (4.30.1)\n",
      "Requirement already satisfied: monotonic>=1.5 in ./.venv/lib/python3.11/site-packages (from posthog>=2.4.0->chromadb>=0.5.23->crewai==0.134.0) (1.6)\n",
      "Requirement already satisfied: backoff>=1.10.0 in ./.venv/lib/python3.11/site-packages (from posthog>=2.4.0->chromadb>=0.5.23->crewai==0.134.0) (2.2.1)\n",
      "Requirement already satisfied: cfgv>=2.0.0 in ./.venv/lib/python3.11/site-packages (from pre-commit>=4.2.0->instructor>=1.3.3->crewai==0.134.0) (3.4.0)\n",
      "Requirement already satisfied: identify>=1.0.0 in ./.venv/lib/python3.11/site-packages (from pre-commit>=4.2.0->instructor>=1.3.3->crewai==0.134.0) (2.6.12)\n",
      "Requirement already satisfied: nodeenv>=0.11.1 in ./.venv/lib/python3.11/site-packages (from pre-commit>=4.2.0->instructor>=1.3.3->crewai==0.134.0) (1.9.1)\n",
      "Requirement already satisfied: virtualenv>=20.10.0 in ./.venv/lib/python3.11/site-packages (from pre-commit>=4.2.0->instructor>=1.3.3->crewai==0.134.0) (20.31.2)\n",
      "Requirement already satisfied: ipython>=5.3.0 in ./.venv/lib/python3.11/site-packages (from pyvis>=0.3.2->crewai==0.134.0) (9.3.0)\n",
      "Requirement already satisfied: jsonpickle>=1.4.1 in ./.venv/lib/python3.11/site-packages (from pyvis>=0.3.2->crewai==0.134.0) (4.1.1)\n",
      "Requirement already satisfied: networkx>=1.11 in ./.venv/lib/python3.11/site-packages (from pyvis>=0.3.2->crewai==0.134.0) (3.5)\n",
      "Requirement already satisfied: decorator in ./.venv/lib/python3.11/site-packages (from ipython>=5.3.0->pyvis>=0.3.2->crewai==0.134.0) (5.2.1)\n",
      "Requirement already satisfied: ipython-pygments-lexers in ./.venv/lib/python3.11/site-packages (from ipython>=5.3.0->pyvis>=0.3.2->crewai==0.134.0) (1.1.1)\n",
      "Requirement already satisfied: jedi>=0.16 in ./.venv/lib/python3.11/site-packages (from ipython>=5.3.0->pyvis>=0.3.2->crewai==0.134.0) (0.19.2)\n",
      "Requirement already satisfied: matplotlib-inline in ./.venv/lib/python3.11/site-packages (from ipython>=5.3.0->pyvis>=0.3.2->crewai==0.134.0) (0.1.7)\n",
      "Requirement already satisfied: pexpect>4.3 in ./.venv/lib/python3.11/site-packages (from ipython>=5.3.0->pyvis>=0.3.2->crewai==0.134.0) (4.9.0)\n",
      "Requirement already satisfied: prompt_toolkit<3.1.0,>=3.0.41 in ./.venv/lib/python3.11/site-packages (from ipython>=5.3.0->pyvis>=0.3.2->crewai==0.134.0) (3.0.51)\n",
      "Requirement already satisfied: stack_data in ./.venv/lib/python3.11/site-packages (from ipython>=5.3.0->pyvis>=0.3.2->crewai==0.134.0) (0.6.3)\n",
      "Requirement already satisfied: traitlets>=5.13.0 in ./.venv/lib/python3.11/site-packages (from ipython>=5.3.0->pyvis>=0.3.2->crewai==0.134.0) (5.14.3)\n",
      "Requirement already satisfied: wcwidth in ./.venv/lib/python3.11/site-packages (from prompt_toolkit<3.1.0,>=3.0.41->ipython>=5.3.0->pyvis>=0.3.2->crewai==0.134.0) (0.2.13)\n",
      "Requirement already satisfied: parso<0.9.0,>=0.8.4 in ./.venv/lib/python3.11/site-packages (from jedi>=0.16->ipython>=5.3.0->pyvis>=0.3.2->crewai==0.134.0) (0.8.4)\n",
      "Requirement already satisfied: ptyprocess>=0.5 in ./.venv/lib/python3.11/site-packages (from pexpect>4.3->ipython>=5.3.0->pyvis>=0.3.2->crewai==0.134.0) (0.7.0)\n",
      "Requirement already satisfied: httptools>=0.6.3 in ./.venv/lib/python3.11/site-packages (from uvicorn[standard]>=0.18.3->chromadb>=0.5.23->crewai==0.134.0) (0.6.4)\n",
      "Requirement already satisfied: uvloop>=0.15.1 in ./.venv/lib/python3.11/site-packages (from uvicorn[standard]>=0.18.3->chromadb>=0.5.23->crewai==0.134.0) (0.21.0)\n",
      "Requirement already satisfied: watchfiles>=0.13 in ./.venv/lib/python3.11/site-packages (from uvicorn[standard]>=0.18.3->chromadb>=0.5.23->crewai==0.134.0) (1.1.0)\n",
      "Requirement already satisfied: websockets>=10.4 in ./.venv/lib/python3.11/site-packages (from uvicorn[standard]>=0.18.3->chromadb>=0.5.23->crewai==0.134.0) (15.0.1)\n",
      "Requirement already satisfied: distlib<1,>=0.3.7 in ./.venv/lib/python3.11/site-packages (from virtualenv>=20.10.0->pre-commit>=4.2.0->instructor>=1.3.3->crewai==0.134.0) (0.3.9)\n",
      "Requirement already satisfied: humanfriendly>=9.1 in ./.venv/lib/python3.11/site-packages (from coloredlogs->onnxruntime==1.22.0->crewai==0.134.0) (10.0)\n",
      "Requirement already satisfied: executing>=1.2.0 in ./.venv/lib/python3.11/site-packages (from stack_data->ipython>=5.3.0->pyvis>=0.3.2->crewai==0.134.0) (2.2.0)\n",
      "Requirement already satisfied: asttokens>=2.1.0 in ./.venv/lib/python3.11/site-packages (from stack_data->ipython>=5.3.0->pyvis>=0.3.2->crewai==0.134.0) (3.0.0)\n",
      "Requirement already satisfied: pure-eval in ./.venv/lib/python3.11/site-packages (from stack_data->ipython>=5.3.0->pyvis>=0.3.2->crewai==0.134.0) (0.2.3)\n",
      "Requirement already satisfied: mpmath<1.4,>=1.1.0 in ./.venv/lib/python3.11/site-packages (from sympy->onnxruntime==1.22.0->crewai==0.134.0) (1.3.0)\n",
      "Downloading crewai-0.134.0-py3-none-any.whl (327 kB)\n",
      "Installing collected packages: crewai\n",
      "Successfully installed crewai-0.134.0\n",
      "Note: you may need to restart the kernel to use updated packages.\n"
     ]
    }
   ],
   "source": [
    "pip install crewai==0.134.0"
   ]
  },
  {
   "cell_type": "code",
   "execution_count": 28,
   "metadata": {},
   "outputs": [],
   "source": [
    "# pip install crewai crewai-tools langchain langchain-community"
   ]
  },
  {
   "cell_type": "code",
   "execution_count": 10,
   "metadata": {},
   "outputs": [
    {
     "data": {
      "text/html": [
       "<pre style=\"white-space:pre;overflow-x:auto;line-height:normal;font-family:Menlo,'DejaVu Sans Mono',consolas,'Courier New',monospace\"><span style=\"color: #008080; text-decoration-color: #008080\">╭──────────────────────────────────────────── Crew Execution Started ─────────────────────────────────────────────╮</span>\n",
       "<span style=\"color: #008080; text-decoration-color: #008080\">│</span>                                                                                                                 <span style=\"color: #008080; text-decoration-color: #008080\">│</span>\n",
       "<span style=\"color: #008080; text-decoration-color: #008080\">│</span>  <span style=\"color: #008080; text-decoration-color: #008080; font-weight: bold\">Crew Execution Started</span>                                                                                         <span style=\"color: #008080; text-decoration-color: #008080\">│</span>\n",
       "<span style=\"color: #008080; text-decoration-color: #008080\">│</span>  <span style=\"color: #c0c0c0; text-decoration-color: #c0c0c0\">Name: </span><span style=\"color: #008080; text-decoration-color: #008080\">crew</span>                                                                                                     <span style=\"color: #008080; text-decoration-color: #008080\">│</span>\n",
       "<span style=\"color: #008080; text-decoration-color: #008080\">│</span>  <span style=\"color: #c0c0c0; text-decoration-color: #c0c0c0\">ID: </span><span style=\"color: #008080; text-decoration-color: #008080\">d2c5d962-dc4e-4a30-9c3c-40d5a7932f12</span>                                                                       <span style=\"color: #008080; text-decoration-color: #008080\">│</span>\n",
       "<span style=\"color: #008080; text-decoration-color: #008080\">│</span>  <span style=\"color: #c0c0c0; text-decoration-color: #c0c0c0\">Tool Args: </span>                                                                                                    <span style=\"color: #008080; text-decoration-color: #008080\">│</span>\n",
       "<span style=\"color: #008080; text-decoration-color: #008080\">│</span>                                                                                                                 <span style=\"color: #008080; text-decoration-color: #008080\">│</span>\n",
       "<span style=\"color: #008080; text-decoration-color: #008080\">│</span>                                                                                                                 <span style=\"color: #008080; text-decoration-color: #008080\">│</span>\n",
       "<span style=\"color: #008080; text-decoration-color: #008080\">╰─────────────────────────────────────────────────────────────────────────────────────────────────────────────────╯</span>\n",
       "</pre>\n"
      ],
      "text/plain": [
       "\u001b[36m╭─\u001b[0m\u001b[36m───────────────────────────────────────────\u001b[0m\u001b[36m Crew Execution Started \u001b[0m\u001b[36m────────────────────────────────────────────\u001b[0m\u001b[36m─╮\u001b[0m\n",
       "\u001b[36m│\u001b[0m                                                                                                                 \u001b[36m│\u001b[0m\n",
       "\u001b[36m│\u001b[0m  \u001b[1;36mCrew Execution Started\u001b[0m                                                                                         \u001b[36m│\u001b[0m\n",
       "\u001b[36m│\u001b[0m  \u001b[37mName: \u001b[0m\u001b[36mcrew\u001b[0m                                                                                                     \u001b[36m│\u001b[0m\n",
       "\u001b[36m│\u001b[0m  \u001b[37mID: \u001b[0m\u001b[36md2c5d962-dc4e-4a30-9c3c-40d5a7932f12\u001b[0m                                                                       \u001b[36m│\u001b[0m\n",
       "\u001b[36m│\u001b[0m  \u001b[37mTool Args: \u001b[0m                                                                                                    \u001b[36m│\u001b[0m\n",
       "\u001b[36m│\u001b[0m                                                                                                                 \u001b[36m│\u001b[0m\n",
       "\u001b[36m│\u001b[0m                                                                                                                 \u001b[36m│\u001b[0m\n",
       "\u001b[36m╰─────────────────────────────────────────────────────────────────────────────────────────────────────────────────╯\u001b[0m\n"
      ]
     },
     "metadata": {},
     "output_type": "display_data"
    },
    {
     "data": {
      "text/html": [
       "<pre style=\"white-space:pre;overflow-x:auto;line-height:normal;font-family:Menlo,'DejaVu Sans Mono',consolas,'Courier New',monospace\">\n",
       "</pre>\n"
      ],
      "text/plain": [
       "\n"
      ]
     },
     "metadata": {},
     "output_type": "display_data"
    },
    {
     "data": {
      "text/html": [
       "<pre style=\"white-space:pre;overflow-x:auto;line-height:normal;font-family:Menlo,'DejaVu Sans Mono',consolas,'Courier New',monospace\"></pre>\n"
      ],
      "text/plain": []
     },
     "metadata": {},
     "output_type": "display_data"
    },
    {
     "data": {
      "text/html": [
       "<pre style=\"white-space:pre;overflow-x:auto;line-height:normal;font-family:Menlo,'DejaVu Sans Mono',consolas,'Courier New',monospace\"><span style=\"color: #800080; text-decoration-color: #800080\">╭─────────────────────────────────────────────── 🤖 Agent Started ────────────────────────────────────────────────╮</span>\n",
       "<span style=\"color: #800080; text-decoration-color: #800080\">│</span>                                                                                                                 <span style=\"color: #800080; text-decoration-color: #800080\">│</span>\n",
       "<span style=\"color: #800080; text-decoration-color: #800080\">│</span>  <span style=\"color: #c0c0c0; text-decoration-color: #c0c0c0\">Agent: </span><span style=\"color: #00ff00; text-decoration-color: #00ff00; font-weight: bold\">Генератор идей</span>                                                                                          <span style=\"color: #800080; text-decoration-color: #800080\">│</span>\n",
       "<span style=\"color: #800080; text-decoration-color: #800080\">│</span>                                                                                                                 <span style=\"color: #800080; text-decoration-color: #800080\">│</span>\n",
       "<span style=\"color: #800080; text-decoration-color: #800080\">│</span>  <span style=\"color: #c0c0c0; text-decoration-color: #c0c0c0\">Task: </span><span style=\"color: #00ff00; text-decoration-color: #00ff00\">Придумай 5 оригинальных идей для технологических стартапов. Пиши на русском языке</span>                        <span style=\"color: #800080; text-decoration-color: #800080\">│</span>\n",
       "<span style=\"color: #800080; text-decoration-color: #800080\">│</span>                                                                                                                 <span style=\"color: #800080; text-decoration-color: #800080\">│</span>\n",
       "<span style=\"color: #800080; text-decoration-color: #800080\">╰─────────────────────────────────────────────────────────────────────────────────────────────────────────────────╯</span>\n",
       "</pre>\n"
      ],
      "text/plain": [
       "\u001b[35m╭─\u001b[0m\u001b[35m──────────────────────────────────────────────\u001b[0m\u001b[35m 🤖 Agent Started \u001b[0m\u001b[35m───────────────────────────────────────────────\u001b[0m\u001b[35m─╮\u001b[0m\n",
       "\u001b[35m│\u001b[0m                                                                                                                 \u001b[35m│\u001b[0m\n",
       "\u001b[35m│\u001b[0m  \u001b[37mAgent: \u001b[0m\u001b[1;92mГенератор идей\u001b[0m                                                                                          \u001b[35m│\u001b[0m\n",
       "\u001b[35m│\u001b[0m                                                                                                                 \u001b[35m│\u001b[0m\n",
       "\u001b[35m│\u001b[0m  \u001b[37mTask: \u001b[0m\u001b[92mПридумай 5 оригинальных идей для технологических стартапов. Пиши на русском языке\u001b[0m                        \u001b[35m│\u001b[0m\n",
       "\u001b[35m│\u001b[0m                                                                                                                 \u001b[35m│\u001b[0m\n",
       "\u001b[35m╰─────────────────────────────────────────────────────────────────────────────────────────────────────────────────╯\u001b[0m\n"
      ]
     },
     "metadata": {},
     "output_type": "display_data"
    },
    {
     "data": {
      "text/html": [
       "<pre style=\"white-space:pre;overflow-x:auto;line-height:normal;font-family:Menlo,'DejaVu Sans Mono',consolas,'Courier New',monospace\">\n",
       "</pre>\n"
      ],
      "text/plain": [
       "\n"
      ]
     },
     "metadata": {},
     "output_type": "display_data"
    },
    {
     "data": {
      "application/vnd.jupyter.widget-view+json": {
       "model_id": "8784ac8857864c0da5b6d39eb257e715",
       "version_major": 2,
       "version_minor": 0
      },
      "text/plain": [
       "Output()"
      ]
     },
     "metadata": {},
     "output_type": "display_data"
    },
    {
     "data": {
      "text/html": [
       "<pre style=\"white-space:pre;overflow-x:auto;line-height:normal;font-family:Menlo,'DejaVu Sans Mono',consolas,'Courier New',monospace\"></pre>\n"
      ],
      "text/plain": []
     },
     "metadata": {},
     "output_type": "display_data"
    },
    {
     "data": {
      "text/html": [
       "<pre style=\"white-space:pre;overflow-x:auto;line-height:normal;font-family:Menlo,'DejaVu Sans Mono',consolas,'Courier New',monospace\"><span style=\"color: #008000; text-decoration-color: #008000\">╭───────────────────────────────────────────── ✅ Agent Final Answer ─────────────────────────────────────────────╮</span>\n",
       "<span style=\"color: #008000; text-decoration-color: #008000\">│</span>                                                                                                                 <span style=\"color: #008000; text-decoration-color: #008000\">│</span>\n",
       "<span style=\"color: #008000; text-decoration-color: #008000\">│</span>  <span style=\"color: #c0c0c0; text-decoration-color: #c0c0c0\">Agent: </span><span style=\"color: #00ff00; text-decoration-color: #00ff00; font-weight: bold\">Генератор идей</span>                                                                                          <span style=\"color: #008000; text-decoration-color: #008000\">│</span>\n",
       "<span style=\"color: #008000; text-decoration-color: #008000\">│</span>                                                                                                                 <span style=\"color: #008000; text-decoration-color: #008000\">│</span>\n",
       "<span style=\"color: #008000; text-decoration-color: #008000\">│</span>  <span style=\"color: #c0c0c0; text-decoration-color: #c0c0c0\">Final Answer:</span>                                                                                                  <span style=\"color: #008000; text-decoration-color: #008000\">│</span>\n",
       "<span style=\"color: #008000; text-decoration-color: #008000\">│</span>  <span style=\"color: #00ff00; text-decoration-color: #00ff00\">1. **Агротех стартап - \"Зеленая Планета\"**</span>                                                                     <span style=\"color: #008000; text-decoration-color: #008000\">│</span>\n",
       "<span style=\"color: #008000; text-decoration-color: #008000\">│</span>  <span style=\"color: #00ff00; text-decoration-color: #00ff00\">   - Идея: Разработка и внедрение умных систем для сельского хозяйства, которые помогут фермерам </span>              <span style=\"color: #008000; text-decoration-color: #008000\">│</span>\n",
       "<span style=\"color: #008000; text-decoration-color: #008000\">│</span>  <span style=\"color: #00ff00; text-decoration-color: #00ff00\">оптимизировать использование воды, удобрений, а также предотвращать болезни растений.</span>                          <span style=\"color: #008000; text-decoration-color: #008000\">│</span>\n",
       "<span style=\"color: #008000; text-decoration-color: #008000\">│</span>  <span style=\"color: #00ff00; text-decoration-color: #00ff00\">   - Технологии: IoT, Machine Learning, беспроводные датчики, блокчейн для отслеживания происхождения </span>         <span style=\"color: #008000; text-decoration-color: #008000\">│</span>\n",
       "<span style=\"color: #008000; text-decoration-color: #008000\">│</span>  <span style=\"color: #00ff00; text-decoration-color: #00ff00\">продуктов.</span>                                                                                                     <span style=\"color: #008000; text-decoration-color: #008000\">│</span>\n",
       "<span style=\"color: #008000; text-decoration-color: #008000\">│</span>  <span style=\"color: #00ff00; text-decoration-color: #00ff00\">   - Рынок: Сельскохозяйственная промышленность.</span>                                                               <span style=\"color: #008000; text-decoration-color: #008000\">│</span>\n",
       "<span style=\"color: #008000; text-decoration-color: #008000\">│</span>                                                                                                                 <span style=\"color: #008000; text-decoration-color: #008000\">│</span>\n",
       "<span style=\"color: #008000; text-decoration-color: #008000\">│</span>  <span style=\"color: #00ff00; text-decoration-color: #00ff00\">2. **Стартап в области здравоохранения - \"Здоровый Образ\"**</span>                                                    <span style=\"color: #008000; text-decoration-color: #008000\">│</span>\n",
       "<span style=\"color: #008000; text-decoration-color: #008000\">│</span>  <span style=\"color: #00ff00; text-decoration-color: #00ff00\">   - Идея: Создание искусственного интеллекта, который поможет диагностировать заболевания на ранних стадиях </span>  <span style=\"color: #008000; text-decoration-color: #008000\">│</span>\n",
       "<span style=\"color: #008000; text-decoration-color: #008000\">│</span>  <span style=\"color: #00ff00; text-decoration-color: #00ff00\">путем анализа изображений медицинских тестов и истории болезни пациента.</span>                                       <span style=\"color: #008000; text-decoration-color: #008000\">│</span>\n",
       "<span style=\"color: #008000; text-decoration-color: #008000\">│</span>  <span style=\"color: #00ff00; text-decoration-color: #00ff00\">   - Технологии: Deep Learning, Computer Vision, Natural Language Processing (NLP).</span>                            <span style=\"color: #008000; text-decoration-color: #008000\">│</span>\n",
       "<span style=\"color: #008000; text-decoration-color: #008000\">│</span>  <span style=\"color: #00ff00; text-decoration-color: #00ff00\">   - Рынок: Медицинская промышленность.</span>                                                                        <span style=\"color: #008000; text-decoration-color: #008000\">│</span>\n",
       "<span style=\"color: #008000; text-decoration-color: #008000\">│</span>                                                                                                                 <span style=\"color: #008000; text-decoration-color: #008000\">│</span>\n",
       "<span style=\"color: #008000; text-decoration-color: #008000\">│</span>  <span style=\"color: #00ff00; text-decoration-color: #00ff00\">3. **Стартап в области образования - \"Умный Школьник\"**</span>                                                        <span style=\"color: #008000; text-decoration-color: #008000\">│</span>\n",
       "<span style=\"color: #008000; text-decoration-color: #008000\">│</span>  <span style=\"color: #00ff00; text-decoration-color: #00ff00\">   - Идея: Разработка персонализированной платформы для обучения, которая использует Machine Learning для </span>     <span style=\"color: #008000; text-decoration-color: #008000\">│</span>\n",
       "<span style=\"color: #008000; text-decoration-color: #008000\">│</span>  <span style=\"color: #00ff00; text-decoration-color: #00ff00\">адаптации содержимого и темпа обучения к индивидуальным потребностям учащегося.</span>                                <span style=\"color: #008000; text-decoration-color: #008000\">│</span>\n",
       "<span style=\"color: #008000; text-decoration-color: #008000\">│</span>  <span style=\"color: #00ff00; text-decoration-color: #00ff00\">   - Технологии: Machine Learning, Personalized Content Recommendation System.</span>                                 <span style=\"color: #008000; text-decoration-color: #008000\">│</span>\n",
       "<span style=\"color: #008000; text-decoration-color: #008000\">│</span>  <span style=\"color: #00ff00; text-decoration-color: #00ff00\">   - Рынок: Образовательные учреждения.</span>                                                                        <span style=\"color: #008000; text-decoration-color: #008000\">│</span>\n",
       "<span style=\"color: #008000; text-decoration-color: #008000\">│</span>                                                                                                                 <span style=\"color: #008000; text-decoration-color: #008000\">│</span>\n",
       "<span style=\"color: #008000; text-decoration-color: #008000\">│</span>  <span style=\"color: #00ff00; text-decoration-color: #00ff00\">4. **Стартап в области мобильных приложений - \"Эко-карта\"**</span>                                                    <span style=\"color: #008000; text-decoration-color: #008000\">│</span>\n",
       "<span style=\"color: #008000; text-decoration-color: #008000\">│</span>  <span style=\"color: #00ff00; text-decoration-color: #00ff00\">   - Идея: Создание геолокационного мобильного приложения, которое поможет пользователям находить </span>             <span style=\"color: #008000; text-decoration-color: #008000\">│</span>\n",
       "<span style=\"color: #008000; text-decoration-color: #008000\">│</span>  <span style=\"color: #00ff00; text-decoration-color: #00ff00\">экологически чистые продукты и услуги поблизости.</span>                                                              <span style=\"color: #008000; text-decoration-color: #008000\">│</span>\n",
       "<span style=\"color: #008000; text-decoration-color: #008000\">│</span>  <span style=\"color: #00ff00; text-decoration-color: #00ff00\">   - Технологии: Геолокация, Mobile App Development.</span>                                                           <span style=\"color: #008000; text-decoration-color: #008000\">│</span>\n",
       "<span style=\"color: #008000; text-decoration-color: #008000\">│</span>  <span style=\"color: #00ff00; text-decoration-color: #00ff00\">   - Рынок: Забота об окружающей среде.</span>                                                                        <span style=\"color: #008000; text-decoration-color: #008000\">│</span>\n",
       "<span style=\"color: #008000; text-decoration-color: #008000\">│</span>                                                                                                                 <span style=\"color: #008000; text-decoration-color: #008000\">│</span>\n",
       "<span style=\"color: #008000; text-decoration-color: #008000\">│</span>  <span style=\"color: #00ff00; text-decoration-color: #00ff00\">5. **Стартап в области кибербезопасности - \"Защитник Данных\"**</span>                                                 <span style=\"color: #008000; text-decoration-color: #008000\">│</span>\n",
       "<span style=\"color: #008000; text-decoration-color: #008000\">│</span>  <span style=\"color: #00ff00; text-decoration-color: #00ff00\">   - Идея: Разработка решения для предотвращения и обнаружения кибератак на основе Machine Learning, которое </span>  <span style=\"color: #008000; text-decoration-color: #008000\">│</span>\n",
       "<span style=\"color: #008000; text-decoration-color: #008000\">│</span>  <span style=\"color: #00ff00; text-decoration-color: #00ff00\">будет мониторить сетевой трафик и блокировать подозрительную активность в режиме реального времени.</span>            <span style=\"color: #008000; text-decoration-color: #008000\">│</span>\n",
       "<span style=\"color: #008000; text-decoration-color: #008000\">│</span>  <span style=\"color: #00ff00; text-decoration-color: #00ff00\">   - Технологии: Machine Learning, Network Traffic Monitoring, Intrusion Detection System (IDS).</span>               <span style=\"color: #008000; text-decoration-color: #008000\">│</span>\n",
       "<span style=\"color: #008000; text-decoration-color: #008000\">│</span>  <span style=\"color: #00ff00; text-decoration-color: #00ff00\">   - Рынок: Индустрия кибербезопасности.</span>                                                                       <span style=\"color: #008000; text-decoration-color: #008000\">│</span>\n",
       "<span style=\"color: #008000; text-decoration-color: #008000\">│</span>                                                                                                                 <span style=\"color: #008000; text-decoration-color: #008000\">│</span>\n",
       "<span style=\"color: #008000; text-decoration-color: #008000\">╰─────────────────────────────────────────────────────────────────────────────────────────────────────────────────╯</span>\n",
       "</pre>\n"
      ],
      "text/plain": [
       "\u001b[32m╭─\u001b[0m\u001b[32m────────────────────────────────────────────\u001b[0m\u001b[32m ✅ Agent Final Answer \u001b[0m\u001b[32m────────────────────────────────────────────\u001b[0m\u001b[32m─╮\u001b[0m\n",
       "\u001b[32m│\u001b[0m                                                                                                                 \u001b[32m│\u001b[0m\n",
       "\u001b[32m│\u001b[0m  \u001b[37mAgent: \u001b[0m\u001b[1;92mГенератор идей\u001b[0m                                                                                          \u001b[32m│\u001b[0m\n",
       "\u001b[32m│\u001b[0m                                                                                                                 \u001b[32m│\u001b[0m\n",
       "\u001b[32m│\u001b[0m  \u001b[37mFinal Answer:\u001b[0m                                                                                                  \u001b[32m│\u001b[0m\n",
       "\u001b[32m│\u001b[0m  \u001b[92m1. **Агротех стартап - \"Зеленая Планета\"**\u001b[0m                                                                     \u001b[32m│\u001b[0m\n",
       "\u001b[32m│\u001b[0m  \u001b[92m   - Идея: Разработка и внедрение умных систем для сельского хозяйства, которые помогут фермерам \u001b[0m              \u001b[32m│\u001b[0m\n",
       "\u001b[32m│\u001b[0m  \u001b[92mоптимизировать использование воды, удобрений, а также предотвращать болезни растений.\u001b[0m                          \u001b[32m│\u001b[0m\n",
       "\u001b[32m│\u001b[0m  \u001b[92m   - Технологии: IoT, Machine Learning, беспроводные датчики, блокчейн для отслеживания происхождения \u001b[0m         \u001b[32m│\u001b[0m\n",
       "\u001b[32m│\u001b[0m  \u001b[92mпродуктов.\u001b[0m                                                                                                     \u001b[32m│\u001b[0m\n",
       "\u001b[32m│\u001b[0m  \u001b[92m   - Рынок: Сельскохозяйственная промышленность.\u001b[0m                                                               \u001b[32m│\u001b[0m\n",
       "\u001b[32m│\u001b[0m                                                                                                                 \u001b[32m│\u001b[0m\n",
       "\u001b[32m│\u001b[0m  \u001b[92m2. **Стартап в области здравоохранения - \"Здоровый Образ\"**\u001b[0m                                                    \u001b[32m│\u001b[0m\n",
       "\u001b[32m│\u001b[0m  \u001b[92m   - Идея: Создание искусственного интеллекта, который поможет диагностировать заболевания на ранних стадиях \u001b[0m  \u001b[32m│\u001b[0m\n",
       "\u001b[32m│\u001b[0m  \u001b[92mпутем анализа изображений медицинских тестов и истории болезни пациента.\u001b[0m                                       \u001b[32m│\u001b[0m\n",
       "\u001b[32m│\u001b[0m  \u001b[92m   - Технологии: Deep Learning, Computer Vision, Natural Language Processing (NLP).\u001b[0m                            \u001b[32m│\u001b[0m\n",
       "\u001b[32m│\u001b[0m  \u001b[92m   - Рынок: Медицинская промышленность.\u001b[0m                                                                        \u001b[32m│\u001b[0m\n",
       "\u001b[32m│\u001b[0m                                                                                                                 \u001b[32m│\u001b[0m\n",
       "\u001b[32m│\u001b[0m  \u001b[92m3. **Стартап в области образования - \"Умный Школьник\"**\u001b[0m                                                        \u001b[32m│\u001b[0m\n",
       "\u001b[32m│\u001b[0m  \u001b[92m   - Идея: Разработка персонализированной платформы для обучения, которая использует Machine Learning для \u001b[0m     \u001b[32m│\u001b[0m\n",
       "\u001b[32m│\u001b[0m  \u001b[92mадаптации содержимого и темпа обучения к индивидуальным потребностям учащегося.\u001b[0m                                \u001b[32m│\u001b[0m\n",
       "\u001b[32m│\u001b[0m  \u001b[92m   - Технологии: Machine Learning, Personalized Content Recommendation System.\u001b[0m                                 \u001b[32m│\u001b[0m\n",
       "\u001b[32m│\u001b[0m  \u001b[92m   - Рынок: Образовательные учреждения.\u001b[0m                                                                        \u001b[32m│\u001b[0m\n",
       "\u001b[32m│\u001b[0m                                                                                                                 \u001b[32m│\u001b[0m\n",
       "\u001b[32m│\u001b[0m  \u001b[92m4. **Стартап в области мобильных приложений - \"Эко-карта\"**\u001b[0m                                                    \u001b[32m│\u001b[0m\n",
       "\u001b[32m│\u001b[0m  \u001b[92m   - Идея: Создание геолокационного мобильного приложения, которое поможет пользователям находить \u001b[0m             \u001b[32m│\u001b[0m\n",
       "\u001b[32m│\u001b[0m  \u001b[92mэкологически чистые продукты и услуги поблизости.\u001b[0m                                                              \u001b[32m│\u001b[0m\n",
       "\u001b[32m│\u001b[0m  \u001b[92m   - Технологии: Геолокация, Mobile App Development.\u001b[0m                                                           \u001b[32m│\u001b[0m\n",
       "\u001b[32m│\u001b[0m  \u001b[92m   - Рынок: Забота об окружающей среде.\u001b[0m                                                                        \u001b[32m│\u001b[0m\n",
       "\u001b[32m│\u001b[0m                                                                                                                 \u001b[32m│\u001b[0m\n",
       "\u001b[32m│\u001b[0m  \u001b[92m5. **Стартап в области кибербезопасности - \"Защитник Данных\"**\u001b[0m                                                 \u001b[32m│\u001b[0m\n",
       "\u001b[32m│\u001b[0m  \u001b[92m   - Идея: Разработка решения для предотвращения и обнаружения кибератак на основе Machine Learning, которое \u001b[0m  \u001b[32m│\u001b[0m\n",
       "\u001b[32m│\u001b[0m  \u001b[92mбудет мониторить сетевой трафик и блокировать подозрительную активность в режиме реального времени.\u001b[0m            \u001b[32m│\u001b[0m\n",
       "\u001b[32m│\u001b[0m  \u001b[92m   - Технологии: Machine Learning, Network Traffic Monitoring, Intrusion Detection System (IDS).\u001b[0m               \u001b[32m│\u001b[0m\n",
       "\u001b[32m│\u001b[0m  \u001b[92m   - Рынок: Индустрия кибербезопасности.\u001b[0m                                                                       \u001b[32m│\u001b[0m\n",
       "\u001b[32m│\u001b[0m                                                                                                                 \u001b[32m│\u001b[0m\n",
       "\u001b[32m╰─────────────────────────────────────────────────────────────────────────────────────────────────────────────────╯\u001b[0m\n"
      ]
     },
     "metadata": {},
     "output_type": "display_data"
    },
    {
     "data": {
      "text/html": [
       "<pre style=\"white-space:pre;overflow-x:auto;line-height:normal;font-family:Menlo,'DejaVu Sans Mono',consolas,'Courier New',monospace\">\n",
       "</pre>\n"
      ],
      "text/plain": [
       "\n"
      ]
     },
     "metadata": {},
     "output_type": "display_data"
    },
    {
     "data": {
      "text/html": [
       "<pre style=\"white-space:pre;overflow-x:auto;line-height:normal;font-family:Menlo,'DejaVu Sans Mono',consolas,'Courier New',monospace\"></pre>\n"
      ],
      "text/plain": []
     },
     "metadata": {},
     "output_type": "display_data"
    },
    {
     "data": {
      "text/html": [
       "<pre style=\"white-space:pre;overflow-x:auto;line-height:normal;font-family:Menlo,'DejaVu Sans Mono',consolas,'Courier New',monospace\"><span style=\"color: #008000; text-decoration-color: #008000\">╭──────────────────────────────────────────────── Task Completion ────────────────────────────────────────────────╮</span>\n",
       "<span style=\"color: #008000; text-decoration-color: #008000\">│</span>                                                                                                                 <span style=\"color: #008000; text-decoration-color: #008000\">│</span>\n",
       "<span style=\"color: #008000; text-decoration-color: #008000\">│</span>  <span style=\"color: #008000; text-decoration-color: #008000; font-weight: bold\">Task Completed</span>                                                                                                 <span style=\"color: #008000; text-decoration-color: #008000\">│</span>\n",
       "<span style=\"color: #008000; text-decoration-color: #008000\">│</span>  <span style=\"color: #c0c0c0; text-decoration-color: #c0c0c0\">Name: </span><span style=\"color: #008000; text-decoration-color: #008000\">a49d80de-13cb-431f-b02c-c4958843f7bc</span>                                                                     <span style=\"color: #008000; text-decoration-color: #008000\">│</span>\n",
       "<span style=\"color: #008000; text-decoration-color: #008000\">│</span>  <span style=\"color: #c0c0c0; text-decoration-color: #c0c0c0\">Agent: </span><span style=\"color: #008000; text-decoration-color: #008000\">Генератор идей</span>                                                                                          <span style=\"color: #008000; text-decoration-color: #008000\">│</span>\n",
       "<span style=\"color: #008000; text-decoration-color: #008000\">│</span>  <span style=\"color: #c0c0c0; text-decoration-color: #c0c0c0\">Tool Args: </span>                                                                                                    <span style=\"color: #008000; text-decoration-color: #008000\">│</span>\n",
       "<span style=\"color: #008000; text-decoration-color: #008000\">│</span>                                                                                                                 <span style=\"color: #008000; text-decoration-color: #008000\">│</span>\n",
       "<span style=\"color: #008000; text-decoration-color: #008000\">│</span>                                                                                                                 <span style=\"color: #008000; text-decoration-color: #008000\">│</span>\n",
       "<span style=\"color: #008000; text-decoration-color: #008000\">╰─────────────────────────────────────────────────────────────────────────────────────────────────────────────────╯</span>\n",
       "</pre>\n"
      ],
      "text/plain": [
       "\u001b[32m╭─\u001b[0m\u001b[32m───────────────────────────────────────────────\u001b[0m\u001b[32m Task Completion \u001b[0m\u001b[32m───────────────────────────────────────────────\u001b[0m\u001b[32m─╮\u001b[0m\n",
       "\u001b[32m│\u001b[0m                                                                                                                 \u001b[32m│\u001b[0m\n",
       "\u001b[32m│\u001b[0m  \u001b[1;32mTask Completed\u001b[0m                                                                                                 \u001b[32m│\u001b[0m\n",
       "\u001b[32m│\u001b[0m  \u001b[37mName: \u001b[0m\u001b[32ma49d80de-13cb-431f-b02c-c4958843f7bc\u001b[0m                                                                     \u001b[32m│\u001b[0m\n",
       "\u001b[32m│\u001b[0m  \u001b[37mAgent: \u001b[0m\u001b[32mГенератор идей\u001b[0m                                                                                          \u001b[32m│\u001b[0m\n",
       "\u001b[32m│\u001b[0m  \u001b[37mTool Args: \u001b[0m                                                                                                    \u001b[32m│\u001b[0m\n",
       "\u001b[32m│\u001b[0m                                                                                                                 \u001b[32m│\u001b[0m\n",
       "\u001b[32m│\u001b[0m                                                                                                                 \u001b[32m│\u001b[0m\n",
       "\u001b[32m╰─────────────────────────────────────────────────────────────────────────────────────────────────────────────────╯\u001b[0m\n"
      ]
     },
     "metadata": {},
     "output_type": "display_data"
    },
    {
     "data": {
      "text/html": [
       "<pre style=\"white-space:pre;overflow-x:auto;line-height:normal;font-family:Menlo,'DejaVu Sans Mono',consolas,'Courier New',monospace\">\n",
       "</pre>\n"
      ],
      "text/plain": [
       "\n"
      ]
     },
     "metadata": {},
     "output_type": "display_data"
    },
    {
     "data": {
      "text/html": [
       "<pre style=\"white-space:pre;overflow-x:auto;line-height:normal;font-family:Menlo,'DejaVu Sans Mono',consolas,'Courier New',monospace\"><span style=\"color: #008000; text-decoration-color: #008000\">╭──────────────────────────────────────────────── Crew Completion ────────────────────────────────────────────────╮</span>\n",
       "<span style=\"color: #008000; text-decoration-color: #008000\">│</span>                                                                                                                 <span style=\"color: #008000; text-decoration-color: #008000\">│</span>\n",
       "<span style=\"color: #008000; text-decoration-color: #008000\">│</span>  <span style=\"color: #008000; text-decoration-color: #008000; font-weight: bold\">Crew Execution Completed</span>                                                                                       <span style=\"color: #008000; text-decoration-color: #008000\">│</span>\n",
       "<span style=\"color: #008000; text-decoration-color: #008000\">│</span>  <span style=\"color: #c0c0c0; text-decoration-color: #c0c0c0\">Name: </span><span style=\"color: #008000; text-decoration-color: #008000\">crew</span>                                                                                                     <span style=\"color: #008000; text-decoration-color: #008000\">│</span>\n",
       "<span style=\"color: #008000; text-decoration-color: #008000\">│</span>  <span style=\"color: #c0c0c0; text-decoration-color: #c0c0c0\">ID: </span><span style=\"color: #008000; text-decoration-color: #008000\">d2c5d962-dc4e-4a30-9c3c-40d5a7932f12</span>                                                                       <span style=\"color: #008000; text-decoration-color: #008000\">│</span>\n",
       "<span style=\"color: #008000; text-decoration-color: #008000\">│</span>  <span style=\"color: #c0c0c0; text-decoration-color: #c0c0c0\">Tool Args: </span>                                                                                                    <span style=\"color: #008000; text-decoration-color: #008000\">│</span>\n",
       "<span style=\"color: #008000; text-decoration-color: #008000\">│</span>  <span style=\"color: #c0c0c0; text-decoration-color: #c0c0c0\">Final Output: 1. **Агротех стартап - \"Зеленая Планета\"**</span>                                                       <span style=\"color: #008000; text-decoration-color: #008000\">│</span>\n",
       "<span style=\"color: #008000; text-decoration-color: #008000\">│</span>  <span style=\"color: #c0c0c0; text-decoration-color: #c0c0c0\">   - Идея: Разработка и внедрение умных систем для сельского хозяйства, которые помогут фермерам </span>              <span style=\"color: #008000; text-decoration-color: #008000\">│</span>\n",
       "<span style=\"color: #008000; text-decoration-color: #008000\">│</span>  <span style=\"color: #c0c0c0; text-decoration-color: #c0c0c0\">оптимизировать использование воды, удобрений, а также предотвращать болезни растений.</span>                          <span style=\"color: #008000; text-decoration-color: #008000\">│</span>\n",
       "<span style=\"color: #008000; text-decoration-color: #008000\">│</span>  <span style=\"color: #c0c0c0; text-decoration-color: #c0c0c0\">   - Технологии: IoT, Machine Learning, беспроводные датчики, блокчейн для отслеживания происхождения </span>         <span style=\"color: #008000; text-decoration-color: #008000\">│</span>\n",
       "<span style=\"color: #008000; text-decoration-color: #008000\">│</span>  <span style=\"color: #c0c0c0; text-decoration-color: #c0c0c0\">продуктов.</span>                                                                                                     <span style=\"color: #008000; text-decoration-color: #008000\">│</span>\n",
       "<span style=\"color: #008000; text-decoration-color: #008000\">│</span>  <span style=\"color: #c0c0c0; text-decoration-color: #c0c0c0\">   - Рынок: Сельскохозяйственная промышленность.</span>                                                               <span style=\"color: #008000; text-decoration-color: #008000\">│</span>\n",
       "<span style=\"color: #008000; text-decoration-color: #008000\">│</span>                                                                                                                 <span style=\"color: #008000; text-decoration-color: #008000\">│</span>\n",
       "<span style=\"color: #008000; text-decoration-color: #008000\">│</span>  <span style=\"color: #c0c0c0; text-decoration-color: #c0c0c0\">2. **Стартап в области здравоохранения - \"Здоровый Образ\"**</span>                                                    <span style=\"color: #008000; text-decoration-color: #008000\">│</span>\n",
       "<span style=\"color: #008000; text-decoration-color: #008000\">│</span>  <span style=\"color: #c0c0c0; text-decoration-color: #c0c0c0\">   - Идея: Создание искусственного интеллекта, который поможет диагностировать заболевания на ранних стадиях </span>  <span style=\"color: #008000; text-decoration-color: #008000\">│</span>\n",
       "<span style=\"color: #008000; text-decoration-color: #008000\">│</span>  <span style=\"color: #c0c0c0; text-decoration-color: #c0c0c0\">путем анализа изображений медицинских тестов и истории болезни пациента.</span>                                       <span style=\"color: #008000; text-decoration-color: #008000\">│</span>\n",
       "<span style=\"color: #008000; text-decoration-color: #008000\">│</span>  <span style=\"color: #c0c0c0; text-decoration-color: #c0c0c0\">   - Технологии: Deep Learning, Computer Vision, Natural Language Processing (NLP).</span>                            <span style=\"color: #008000; text-decoration-color: #008000\">│</span>\n",
       "<span style=\"color: #008000; text-decoration-color: #008000\">│</span>  <span style=\"color: #c0c0c0; text-decoration-color: #c0c0c0\">   - Рынок: Медицинская промышленность.</span>                                                                        <span style=\"color: #008000; text-decoration-color: #008000\">│</span>\n",
       "<span style=\"color: #008000; text-decoration-color: #008000\">│</span>                                                                                                                 <span style=\"color: #008000; text-decoration-color: #008000\">│</span>\n",
       "<span style=\"color: #008000; text-decoration-color: #008000\">│</span>  <span style=\"color: #c0c0c0; text-decoration-color: #c0c0c0\">3. **Стартап в области образования - \"Умный Школьник\"**</span>                                                        <span style=\"color: #008000; text-decoration-color: #008000\">│</span>\n",
       "<span style=\"color: #008000; text-decoration-color: #008000\">│</span>  <span style=\"color: #c0c0c0; text-decoration-color: #c0c0c0\">   - Идея: Разработка персонализированной платформы для обучения, которая использует Machine Learning для </span>     <span style=\"color: #008000; text-decoration-color: #008000\">│</span>\n",
       "<span style=\"color: #008000; text-decoration-color: #008000\">│</span>  <span style=\"color: #c0c0c0; text-decoration-color: #c0c0c0\">адаптации содержимого и темпа обучения к индивидуальным потребностям учащегося.</span>                                <span style=\"color: #008000; text-decoration-color: #008000\">│</span>\n",
       "<span style=\"color: #008000; text-decoration-color: #008000\">│</span>  <span style=\"color: #c0c0c0; text-decoration-color: #c0c0c0\">   - Технологии: Machine Learning, Personalized Content Recommendation System.</span>                                 <span style=\"color: #008000; text-decoration-color: #008000\">│</span>\n",
       "<span style=\"color: #008000; text-decoration-color: #008000\">│</span>  <span style=\"color: #c0c0c0; text-decoration-color: #c0c0c0\">   - Рынок: Образовательные учреждения.</span>                                                                        <span style=\"color: #008000; text-decoration-color: #008000\">│</span>\n",
       "<span style=\"color: #008000; text-decoration-color: #008000\">│</span>                                                                                                                 <span style=\"color: #008000; text-decoration-color: #008000\">│</span>\n",
       "<span style=\"color: #008000; text-decoration-color: #008000\">│</span>  <span style=\"color: #c0c0c0; text-decoration-color: #c0c0c0\">4. **Стартап в области мобильных приложений - \"Эко-карта\"**</span>                                                    <span style=\"color: #008000; text-decoration-color: #008000\">│</span>\n",
       "<span style=\"color: #008000; text-decoration-color: #008000\">│</span>  <span style=\"color: #c0c0c0; text-decoration-color: #c0c0c0\">   - Идея: Создание геолокационного мобильного приложения, которое поможет пользователям находить </span>             <span style=\"color: #008000; text-decoration-color: #008000\">│</span>\n",
       "<span style=\"color: #008000; text-decoration-color: #008000\">│</span>  <span style=\"color: #c0c0c0; text-decoration-color: #c0c0c0\">экологически чистые продукты и услуги поблизости.</span>                                                              <span style=\"color: #008000; text-decoration-color: #008000\">│</span>\n",
       "<span style=\"color: #008000; text-decoration-color: #008000\">│</span>  <span style=\"color: #c0c0c0; text-decoration-color: #c0c0c0\">   - Технологии: Геолокация, Mobile App Development.</span>                                                           <span style=\"color: #008000; text-decoration-color: #008000\">│</span>\n",
       "<span style=\"color: #008000; text-decoration-color: #008000\">│</span>  <span style=\"color: #c0c0c0; text-decoration-color: #c0c0c0\">   - Рынок: Забота об окружающей среде.</span>                                                                        <span style=\"color: #008000; text-decoration-color: #008000\">│</span>\n",
       "<span style=\"color: #008000; text-decoration-color: #008000\">│</span>                                                                                                                 <span style=\"color: #008000; text-decoration-color: #008000\">│</span>\n",
       "<span style=\"color: #008000; text-decoration-color: #008000\">│</span>  <span style=\"color: #c0c0c0; text-decoration-color: #c0c0c0\">5. **Стартап в области кибербезопасности - \"Защитник Данных\"**</span>                                                 <span style=\"color: #008000; text-decoration-color: #008000\">│</span>\n",
       "<span style=\"color: #008000; text-decoration-color: #008000\">│</span>  <span style=\"color: #c0c0c0; text-decoration-color: #c0c0c0\">   - Идея: Разработка решения для предотвращения и обнаружения кибератак на основе Machine Learning, которое </span>  <span style=\"color: #008000; text-decoration-color: #008000\">│</span>\n",
       "<span style=\"color: #008000; text-decoration-color: #008000\">│</span>  <span style=\"color: #c0c0c0; text-decoration-color: #c0c0c0\">будет мониторить сетевой трафик и блокировать подозрительную активность в режиме реального времени.</span>            <span style=\"color: #008000; text-decoration-color: #008000\">│</span>\n",
       "<span style=\"color: #008000; text-decoration-color: #008000\">│</span>  <span style=\"color: #c0c0c0; text-decoration-color: #c0c0c0\">   - Технологии: Machine Learning, Network Traffic Monitoring, Intrusion Detection System (IDS).</span>               <span style=\"color: #008000; text-decoration-color: #008000\">│</span>\n",
       "<span style=\"color: #008000; text-decoration-color: #008000\">│</span>  <span style=\"color: #c0c0c0; text-decoration-color: #c0c0c0\">   - Рынок: Индустрия кибербезопасности.</span>                                                                       <span style=\"color: #008000; text-decoration-color: #008000\">│</span>\n",
       "<span style=\"color: #008000; text-decoration-color: #008000\">│</span>                                                                                                                 <span style=\"color: #008000; text-decoration-color: #008000\">│</span>\n",
       "<span style=\"color: #008000; text-decoration-color: #008000\">│</span>                                                                                                                 <span style=\"color: #008000; text-decoration-color: #008000\">│</span>\n",
       "<span style=\"color: #008000; text-decoration-color: #008000\">╰─────────────────────────────────────────────────────────────────────────────────────────────────────────────────╯</span>\n",
       "</pre>\n"
      ],
      "text/plain": [
       "\u001b[32m╭─\u001b[0m\u001b[32m───────────────────────────────────────────────\u001b[0m\u001b[32m Crew Completion \u001b[0m\u001b[32m───────────────────────────────────────────────\u001b[0m\u001b[32m─╮\u001b[0m\n",
       "\u001b[32m│\u001b[0m                                                                                                                 \u001b[32m│\u001b[0m\n",
       "\u001b[32m│\u001b[0m  \u001b[1;32mCrew Execution Completed\u001b[0m                                                                                       \u001b[32m│\u001b[0m\n",
       "\u001b[32m│\u001b[0m  \u001b[37mName: \u001b[0m\u001b[32mcrew\u001b[0m                                                                                                     \u001b[32m│\u001b[0m\n",
       "\u001b[32m│\u001b[0m  \u001b[37mID: \u001b[0m\u001b[32md2c5d962-dc4e-4a30-9c3c-40d5a7932f12\u001b[0m                                                                       \u001b[32m│\u001b[0m\n",
       "\u001b[32m│\u001b[0m  \u001b[37mTool Args: \u001b[0m                                                                                                    \u001b[32m│\u001b[0m\n",
       "\u001b[32m│\u001b[0m  \u001b[37mFinal Output: 1. **Агротех стартап - \"Зеленая Планета\"**\u001b[0m                                                       \u001b[32m│\u001b[0m\n",
       "\u001b[32m│\u001b[0m  \u001b[37m   - Идея: Разработка и внедрение умных систем для сельского хозяйства, которые помогут фермерам \u001b[0m              \u001b[32m│\u001b[0m\n",
       "\u001b[32m│\u001b[0m  \u001b[37mоптимизировать использование воды, удобрений, а также предотвращать болезни растений.\u001b[0m                          \u001b[32m│\u001b[0m\n",
       "\u001b[32m│\u001b[0m  \u001b[37m   - Технологии: IoT, Machine Learning, беспроводные датчики, блокчейн для отслеживания происхождения \u001b[0m         \u001b[32m│\u001b[0m\n",
       "\u001b[32m│\u001b[0m  \u001b[37mпродуктов.\u001b[0m                                                                                                     \u001b[32m│\u001b[0m\n",
       "\u001b[32m│\u001b[0m  \u001b[37m   - Рынок: Сельскохозяйственная промышленность.\u001b[0m                                                               \u001b[32m│\u001b[0m\n",
       "\u001b[32m│\u001b[0m                                                                                                                 \u001b[32m│\u001b[0m\n",
       "\u001b[32m│\u001b[0m  \u001b[37m2. **Стартап в области здравоохранения - \"Здоровый Образ\"**\u001b[0m                                                    \u001b[32m│\u001b[0m\n",
       "\u001b[32m│\u001b[0m  \u001b[37m   - Идея: Создание искусственного интеллекта, который поможет диагностировать заболевания на ранних стадиях \u001b[0m  \u001b[32m│\u001b[0m\n",
       "\u001b[32m│\u001b[0m  \u001b[37mпутем анализа изображений медицинских тестов и истории болезни пациента.\u001b[0m                                       \u001b[32m│\u001b[0m\n",
       "\u001b[32m│\u001b[0m  \u001b[37m   - Технологии: Deep Learning, Computer Vision, Natural Language Processing (NLP).\u001b[0m                            \u001b[32m│\u001b[0m\n",
       "\u001b[32m│\u001b[0m  \u001b[37m   - Рынок: Медицинская промышленность.\u001b[0m                                                                        \u001b[32m│\u001b[0m\n",
       "\u001b[32m│\u001b[0m                                                                                                                 \u001b[32m│\u001b[0m\n",
       "\u001b[32m│\u001b[0m  \u001b[37m3. **Стартап в области образования - \"Умный Школьник\"**\u001b[0m                                                        \u001b[32m│\u001b[0m\n",
       "\u001b[32m│\u001b[0m  \u001b[37m   - Идея: Разработка персонализированной платформы для обучения, которая использует Machine Learning для \u001b[0m     \u001b[32m│\u001b[0m\n",
       "\u001b[32m│\u001b[0m  \u001b[37mадаптации содержимого и темпа обучения к индивидуальным потребностям учащегося.\u001b[0m                                \u001b[32m│\u001b[0m\n",
       "\u001b[32m│\u001b[0m  \u001b[37m   - Технологии: Machine Learning, Personalized Content Recommendation System.\u001b[0m                                 \u001b[32m│\u001b[0m\n",
       "\u001b[32m│\u001b[0m  \u001b[37m   - Рынок: Образовательные учреждения.\u001b[0m                                                                        \u001b[32m│\u001b[0m\n",
       "\u001b[32m│\u001b[0m                                                                                                                 \u001b[32m│\u001b[0m\n",
       "\u001b[32m│\u001b[0m  \u001b[37m4. **Стартап в области мобильных приложений - \"Эко-карта\"**\u001b[0m                                                    \u001b[32m│\u001b[0m\n",
       "\u001b[32m│\u001b[0m  \u001b[37m   - Идея: Создание геолокационного мобильного приложения, которое поможет пользователям находить \u001b[0m             \u001b[32m│\u001b[0m\n",
       "\u001b[32m│\u001b[0m  \u001b[37mэкологически чистые продукты и услуги поблизости.\u001b[0m                                                              \u001b[32m│\u001b[0m\n",
       "\u001b[32m│\u001b[0m  \u001b[37m   - Технологии: Геолокация, Mobile App Development.\u001b[0m                                                           \u001b[32m│\u001b[0m\n",
       "\u001b[32m│\u001b[0m  \u001b[37m   - Рынок: Забота об окружающей среде.\u001b[0m                                                                        \u001b[32m│\u001b[0m\n",
       "\u001b[32m│\u001b[0m                                                                                                                 \u001b[32m│\u001b[0m\n",
       "\u001b[32m│\u001b[0m  \u001b[37m5. **Стартап в области кибербезопасности - \"Защитник Данных\"**\u001b[0m                                                 \u001b[32m│\u001b[0m\n",
       "\u001b[32m│\u001b[0m  \u001b[37m   - Идея: Разработка решения для предотвращения и обнаружения кибератак на основе Machine Learning, которое \u001b[0m  \u001b[32m│\u001b[0m\n",
       "\u001b[32m│\u001b[0m  \u001b[37mбудет мониторить сетевой трафик и блокировать подозрительную активность в режиме реального времени.\u001b[0m            \u001b[32m│\u001b[0m\n",
       "\u001b[32m│\u001b[0m  \u001b[37m   - Технологии: Machine Learning, Network Traffic Monitoring, Intrusion Detection System (IDS).\u001b[0m               \u001b[32m│\u001b[0m\n",
       "\u001b[32m│\u001b[0m  \u001b[37m   - Рынок: Индустрия кибербезопасности.\u001b[0m                                                                       \u001b[32m│\u001b[0m\n",
       "\u001b[32m│\u001b[0m                                                                                                                 \u001b[32m│\u001b[0m\n",
       "\u001b[32m│\u001b[0m                                                                                                                 \u001b[32m│\u001b[0m\n",
       "\u001b[32m╰─────────────────────────────────────────────────────────────────────────────────────────────────────────────────╯\u001b[0m\n"
      ]
     },
     "metadata": {},
     "output_type": "display_data"
    },
    {
     "data": {
      "text/html": [
       "<pre style=\"white-space:pre;overflow-x:auto;line-height:normal;font-family:Menlo,'DejaVu Sans Mono',consolas,'Courier New',monospace\">\n",
       "</pre>\n"
      ],
      "text/plain": [
       "\n"
      ]
     },
     "metadata": {},
     "output_type": "display_data"
    },
    {
     "name": "stdout",
     "output_type": "stream",
     "text": [
      "\n",
      "🚀 Идеи:\n",
      " 1. **Агротех стартап - \"Зеленая Планета\"**\n",
      "   - Идея: Разработка и внедрение умных систем для сельского хозяйства, которые помогут фермерам оптимизировать использование воды, удобрений, а также предотвращать болезни растений.\n",
      "   - Технологии: IoT, Machine Learning, беспроводные датчики, блокчейн для отслеживания происхождения продуктов.\n",
      "   - Рынок: Сельскохозяйственная промышленность.\n",
      "\n",
      "2. **Стартап в области здравоохранения - \"Здоровый Образ\"**\n",
      "   - Идея: Создание искусственного интеллекта, который поможет диагностировать заболевания на ранних стадиях путем анализа изображений медицинских тестов и истории болезни пациента.\n",
      "   - Технологии: Deep Learning, Computer Vision, Natural Language Processing (NLP).\n",
      "   - Рынок: Медицинская промышленность.\n",
      "\n",
      "3. **Стартап в области образования - \"Умный Школьник\"**\n",
      "   - Идея: Разработка персонализированной платформы для обучения, которая использует Machine Learning для адаптации содержимого и темпа обучения к индивидуальным потребностям учащегося.\n",
      "   - Технологии: Machine Learning, Personalized Content Recommendation System.\n",
      "   - Рынок: Образовательные учреждения.\n",
      "\n",
      "4. **Стартап в области мобильных приложений - \"Эко-карта\"**\n",
      "   - Идея: Создание геолокационного мобильного приложения, которое поможет пользователям находить экологически чистые продукты и услуги поблизости.\n",
      "   - Технологии: Геолокация, Mobile App Development.\n",
      "   - Рынок: Забота об окружающей среде.\n",
      "\n",
      "5. **Стартап в области кибербезопасности - \"Защитник Данных\"**\n",
      "   - Идея: Разработка решения для предотвращения и обнаружения кибератак на основе Machine Learning, которое будет мониторить сетевой трафик и блокировать подозрительную активность в режиме реального времени.\n",
      "   - Технологии: Machine Learning, Network Traffic Monitoring, Intrusion Detection System (IDS).\n",
      "   - Рынок: Индустрия кибербезопасности.\n"
     ]
    }
   ],
   "source": [
    "from crewai import Agent, Task, Crew, LLM\n",
    "\n",
    "ollama_llm = LLM(\n",
    "  model=\"ollama/mistral-nemo:12b-instruct-2407-q3_K_L\",\n",
    "  api_base=\"http://localhost:11434\",\n",
    "  )\n",
    "\n",
    "agent = Agent(role=\"Генератор идей\", goal=\"Придумать стартапы\", backstory=\"Ты визионер.\", llm=ollama_llm, verbose=True)\n",
    "task = Task(description=\"Придумай 5 оригинальных идей для технологических стартапов. Пиши на русском языке\", \n",
    "            expected_output=\"Список из 5 идей.\", agent=agent)\n",
    "crew = Crew(agents=[agent], tasks=[task], verbose=True)\n",
    "result = crew.kickoff()\n",
    "print(\"\\n🚀 Идеи:\\n\", result)"
   ]
  },
  {
   "cell_type": "markdown",
   "metadata": {},
   "source": [
    "### 📌 **SmolAgents**\n",
    "---\n",
    "[Библиотека](https://huggingface.co/docs/smolagents/index)\n"
   ]
  },
  {
   "cell_type": "markdown",
   "metadata": {},
   "source": [
    "**SmolAgents** – минималистичная open-source-библиотека от Hugging Face для простого создания AI-агентов с помощью минимального количества кода. \n",
    "\n",
    "Главная идея – поддержать концепцию «код-агентов»: вместо генерации описания следующего действия в виде текста или JSON, агент сразу пишет и исполняет фрагменты Python-кода. Это позволяет максимально использовать возможности моделей при генерации кода и повышает гибкость логики агента.\n",
    "\n",
    "При этом SmolAgents даёт полный доступ к множеству моделей и инструментов (поиск в интернете, базы знаний и пр.) и поддерживает разные режимы ввода (текст, изображение, аудио и др.) \n",
    "\n",
    "\n",
    "Ключевые возможности и сценарии:\n",
    "- CodeAgent: основной класс агента, который выполняет Python-код. Такой подход снижает количество необходимых LLM-вызовов и улучшает композицию действий.\n",
    "\n",
    "- Интеграция с инструментами: легко добавлять существующие «тулы» (например, веб-поиск, утилиты для работы с данными). Инструменты можно загружать и делиться через Hugging Face Hub.\n",
    "\n",
    "- Поддержка моделей: можно использовать локальные трансформеры, или модели из разных провайдеров (OpenAI, Anthropic, HF), а также подключать модели через LiteLLM и другие обвязки.\n",
    "- Примеры применения: быстрое прототипирование интерактивных агентов (ответы на запросы с последующим поиском или вычислениями), генерация SQL-запросов, ответы на вопросы с использованием веб-данных и т.д. "
   ]
  },
  {
   "cell_type": "code",
   "execution_count": null,
   "metadata": {},
   "outputs": [],
   "source": [
    "from huggingface_hub import login, InferenceClient\n"
   ]
  },
  {
   "cell_type": "code",
   "execution_count": null,
   "metadata": {},
   "outputs": [
    {
     "data": {
      "text/html": [
       "<pre style=\"white-space:pre;overflow-x:auto;line-height:normal;font-family:Menlo,'DejaVu Sans Mono',consolas,'Courier New',monospace\"><span style=\"color: #d4b702; text-decoration-color: #d4b702\">╭──────────────────────────────────────────────────── </span><span style=\"color: #d4b702; text-decoration-color: #d4b702; font-weight: bold\">New run</span><span style=\"color: #d4b702; text-decoration-color: #d4b702\"> ────────────────────────────────────────────────────╮</span>\n",
       "<span style=\"color: #d4b702; text-decoration-color: #d4b702\">│</span>                                                                                                                 <span style=\"color: #d4b702; text-decoration-color: #d4b702\">│</span>\n",
       "<span style=\"color: #d4b702; text-decoration-color: #d4b702\">│</span> <span style=\"font-weight: bold\">Calculate the sum of numbers from 1 to 10</span>                                                                       <span style=\"color: #d4b702; text-decoration-color: #d4b702\">│</span>\n",
       "<span style=\"color: #d4b702; text-decoration-color: #d4b702\">│</span>                                                                                                                 <span style=\"color: #d4b702; text-decoration-color: #d4b702\">│</span>\n",
       "<span style=\"color: #d4b702; text-decoration-color: #d4b702\">╰─ InferenceClientModel - Qwen/Qwen2.5-Coder-32B-Instruct ────────────────────────────────────────────────────────╯</span>\n",
       "</pre>\n"
      ],
      "text/plain": [
       "\u001b[38;2;212;183;2m╭─\u001b[0m\u001b[38;2;212;183;2m───────────────────────────────────────────────────\u001b[0m\u001b[38;2;212;183;2m \u001b[0m\u001b[1;38;2;212;183;2mNew run\u001b[0m\u001b[38;2;212;183;2m \u001b[0m\u001b[38;2;212;183;2m───────────────────────────────────────────────────\u001b[0m\u001b[38;2;212;183;2m─╮\u001b[0m\n",
       "\u001b[38;2;212;183;2m│\u001b[0m                                                                                                                 \u001b[38;2;212;183;2m│\u001b[0m\n",
       "\u001b[38;2;212;183;2m│\u001b[0m \u001b[1mCalculate the sum of numbers from 1 to 10\u001b[0m                                                                       \u001b[38;2;212;183;2m│\u001b[0m\n",
       "\u001b[38;2;212;183;2m│\u001b[0m                                                                                                                 \u001b[38;2;212;183;2m│\u001b[0m\n",
       "\u001b[38;2;212;183;2m╰─\u001b[0m\u001b[38;2;212;183;2m InferenceClientModel - Qwen/Qwen2.5-Coder-32B-Instruct \u001b[0m\u001b[38;2;212;183;2m───────────────────────────────────────────────────────\u001b[0m\u001b[38;2;212;183;2m─╯\u001b[0m\n"
      ]
     },
     "metadata": {},
     "output_type": "display_data"
    },
    {
     "data": {
      "text/html": [
       "<pre style=\"white-space:pre;overflow-x:auto;line-height:normal;font-family:Menlo,'DejaVu Sans Mono',consolas,'Courier New',monospace\"><span style=\"color: #d4b702; text-decoration-color: #d4b702\">━━━━━━━━━━━━━━━━━━━━━━━━━━━━━━━━━━━━━━━━━━━━━━━━━━━━━ </span><span style=\"font-weight: bold\">Step </span><span style=\"color: #008080; text-decoration-color: #008080; font-weight: bold\">1</span><span style=\"color: #d4b702; text-decoration-color: #d4b702\"> ━━━━━━━━━━━━━━━━━━━━━━━━━━━━━━━━━━━━━━━━━━━━━━━━━━━━━━</span>\n",
       "</pre>\n"
      ],
      "text/plain": [
       "\u001b[38;2;212;183;2m━━━━━━━━━━━━━━━━━━━━━━━━━━━━━━━━━━━━━━━━━━━━━━━━━━━━━ \u001b[0m\u001b[1mStep \u001b[0m\u001b[1;36m1\u001b[0m\u001b[38;2;212;183;2m ━━━━━━━━━━━━━━━━━━━━━━━━━━━━━━━━━━━━━━━━━━━━━━━━━━━━━━\u001b[0m\n"
      ]
     },
     "metadata": {},
     "output_type": "display_data"
    },
    {
     "data": {
      "text/html": [
       "<pre style=\"white-space:pre;overflow-x:auto;line-height:normal;font-family:Menlo,'DejaVu Sans Mono',consolas,'Courier New',monospace\"> ─ <span style=\"font-weight: bold\">Executing parsed code:</span> ──────────────────────────────────────────────────────────────────────────────────────── \n",
       "  <span style=\"color: #f8f8f2; text-decoration-color: #f8f8f2; background-color: #272822\">total_sum </span><span style=\"color: #ff4689; text-decoration-color: #ff4689; background-color: #272822\">=</span><span style=\"color: #f8f8f2; text-decoration-color: #f8f8f2; background-color: #272822\"> sum(range(</span><span style=\"color: #ae81ff; text-decoration-color: #ae81ff; background-color: #272822\">1</span><span style=\"color: #f8f8f2; text-decoration-color: #f8f8f2; background-color: #272822\">, </span><span style=\"color: #ae81ff; text-decoration-color: #ae81ff; background-color: #272822\">11</span><span style=\"color: #f8f8f2; text-decoration-color: #f8f8f2; background-color: #272822\">))</span><span style=\"background-color: #272822\">                                                                                  </span>  \n",
       "  <span style=\"color: #f8f8f2; text-decoration-color: #f8f8f2; background-color: #272822\">final_answer(total_sum)</span><span style=\"background-color: #272822\">                                                                                        </span>  \n",
       " ───────────────────────────────────────────────────────────────────────────────────────────────────────────────── \n",
       "</pre>\n"
      ],
      "text/plain": [
       " ─ \u001b[1mExecuting parsed code:\u001b[0m ──────────────────────────────────────────────────────────────────────────────────────── \n",
       "  \u001b[38;2;248;248;242;48;2;39;40;34mtotal_sum\u001b[0m\u001b[38;2;248;248;242;48;2;39;40;34m \u001b[0m\u001b[38;2;255;70;137;48;2;39;40;34m=\u001b[0m\u001b[38;2;248;248;242;48;2;39;40;34m \u001b[0m\u001b[38;2;248;248;242;48;2;39;40;34msum\u001b[0m\u001b[38;2;248;248;242;48;2;39;40;34m(\u001b[0m\u001b[38;2;248;248;242;48;2;39;40;34mrange\u001b[0m\u001b[38;2;248;248;242;48;2;39;40;34m(\u001b[0m\u001b[38;2;174;129;255;48;2;39;40;34m1\u001b[0m\u001b[38;2;248;248;242;48;2;39;40;34m,\u001b[0m\u001b[38;2;248;248;242;48;2;39;40;34m \u001b[0m\u001b[38;2;174;129;255;48;2;39;40;34m11\u001b[0m\u001b[38;2;248;248;242;48;2;39;40;34m)\u001b[0m\u001b[38;2;248;248;242;48;2;39;40;34m)\u001b[0m\u001b[48;2;39;40;34m                                                                                  \u001b[0m  \n",
       "  \u001b[38;2;248;248;242;48;2;39;40;34mfinal_answer\u001b[0m\u001b[38;2;248;248;242;48;2;39;40;34m(\u001b[0m\u001b[38;2;248;248;242;48;2;39;40;34mtotal_sum\u001b[0m\u001b[38;2;248;248;242;48;2;39;40;34m)\u001b[0m\u001b[48;2;39;40;34m                                                                                        \u001b[0m  \n",
       " ───────────────────────────────────────────────────────────────────────────────────────────────────────────────── \n"
      ]
     },
     "metadata": {},
     "output_type": "display_data"
    },
    {
     "data": {
      "text/html": [
       "<pre style=\"white-space:pre;overflow-x:auto;line-height:normal;font-family:Menlo,'DejaVu Sans Mono',consolas,'Courier New',monospace\"><span style=\"color: #d4b702; text-decoration-color: #d4b702; font-weight: bold\">Out - Final answer: 55</span>\n",
       "</pre>\n"
      ],
      "text/plain": [
       "\u001b[1;38;2;212;183;2mOut - Final answer: 55\u001b[0m\n"
      ]
     },
     "metadata": {},
     "output_type": "display_data"
    },
    {
     "data": {
      "text/html": [
       "<pre style=\"white-space:pre;overflow-x:auto;line-height:normal;font-family:Menlo,'DejaVu Sans Mono',consolas,'Courier New',monospace\"><span style=\"color: #7f7f7f; text-decoration-color: #7f7f7f\">[Step 1: Duration 5.08 seconds| Input tokens: 2,008 | Output tokens: 63]</span>\n",
       "</pre>\n"
      ],
      "text/plain": [
       "\u001b[2m[Step 1: Duration 5.08 seconds| Input tokens: 2,008 | Output tokens: 63]\u001b[0m\n"
      ]
     },
     "metadata": {},
     "output_type": "display_data"
    },
    {
     "name": "stdout",
     "output_type": "stream",
     "text": [
      "55\n"
     ]
    }
   ],
   "source": [
    "from smolagents import CodeAgent, InferenceClientModel\n",
    "\n",
    "model = InferenceClientModel() \n",
    "\n",
    "agent = CodeAgent(tools=[], model=model)\n",
    "\n",
    "result = agent.run(\"Calculate the sum of numbers from 1 to 10\")\n",
    "print(result)"
   ]
  },
  {
   "cell_type": "markdown",
   "metadata": {},
   "source": [
    "**Вывод**: \n",
    "    \n",
    "    LangChain, AutoGen, CrewAI и SmolAgents представляют собой современные инструменты для построения интеллектуальных агентов на базе LLM. \n",
    "    \n",
    "    LangChain – универсальный фреймворк с множеством компонентов для гибкого конструирования цепочек и агентов.\n",
    "    AutoGen фокусируется на масштабируемой многопроцессной архитектуре с обширными возможностями мониторинга и распределения\n",
    "    CrewAI предлагает подход «команда агентов» с ролевым распределением задач\n",
    "    SmolAgents отличается компактностью и использованием «кодагентов» для максимальной простоты и эффективности .\n",
    "    \n",
    "    \n",
    "На семинаре мы попробуем каждую и решим, где какой фреймворк будем использовать"
   ]
  }
 ],
 "metadata": {
  "kernelspec": {
   "display_name": ".venv",
   "language": "python",
   "name": "python3"
  },
  "language_info": {
   "codemirror_mode": {
    "name": "ipython",
    "version": 3
   },
   "file_extension": ".py",
   "mimetype": "text/x-python",
   "name": "python",
   "nbconvert_exporter": "python",
   "pygments_lexer": "ipython3",
   "version": "3.11.0"
  }
 },
 "nbformat": 4,
 "nbformat_minor": 2
}
