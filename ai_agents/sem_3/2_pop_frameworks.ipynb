{
 "cells": [
  {
   "cell_type": "markdown",
   "metadata": {},
   "source": [
    "# Современные библиотеки для AI-агентов"
   ]
  },
  {
   "cell_type": "markdown",
   "metadata": {},
   "source": [
    "### 📌 **LangChain**\n",
    "---\n",
    "[Библиотека](https://www.langchain.com/)\n",
    "\n",
    "\n",
    "### **LangChain** – это фреймворк для разработки приложений на основе больших языковых моделей (LLM). \n",
    "\n",
    "LangChain ориентирован на гибкость и широкую совместимость: поддерживаются десятки провайдеров LLM **(OpenAI, Google Gemini, AWS, Anthropic и др.)** и множество инструментов **(поиск в Интернете, базы знаний, собственные API)**. \n",
    "\n",
    "Библиотека нацелена на быстрое прототипирование и производство приложений – в частности, для чат-ботов, систем вопрос-ответ с помощью Retrieval-Augmented Generation (RAG), автоматизации задач и других сценариев.\n"
   ]
  },
  {
   "cell_type": "markdown",
   "metadata": {},
   "source": [
    "### Реализация основных компонентов LangChain\n",
    "\n",
    "* **Цепочки (Chains)**: \n",
    "\n",
    "    - Базовый класс Chain наследуется от [RunnableSerializable](https://python.langchain.com/api_reference/core/runnables/langchain_core.runnables.base.RunnableSerializable.html) и определяет параметры запуска (входы, конфигурацию, метод invoke). Цепочка управляет потоком данных: собирает входные переменные, передаёт их через последовательность вызовов (промпт -> модель -> парсер).\n",
    "\n",
    "* **Шаблоны подсказок ([PromptTemplate](https://python.langchain.com/api_reference/core/prompts/langchain_core.prompts.prompt.PromptTemplate.html))**: \n",
    "    - Класс PromptTemplate содержит строковый шаблон с переменными. Поддерживаются форматы f-string. При вызове он подставляет значения переменных (метод format / invoke). Можно создавать динамические шаблоны – например, частично заполнять их заранее (partial_variables), оставляя не все переменные для пользователя. \n",
    "\n",
    "\n",
    "* **Агенты (Agents)**: \n",
    "    - Класс AgentExecutor (наследник Chain) организует цикл работы агента. Он содержит agent (объект типа [BaseSingleActionAgent](https://api.python.langchain.com/en/latest/agents/langchain.agents.agent.BaseSingleActionAgent.html) или [RunnableAgent](https://api.python.langchain.com/en/latest/agents/langchain.agents.agent.RunnableAgent.html)), список Tools и логику остановки (максимум итераций, таймаут, метод досрочной остановки). \n",
    "    \n",
    "    - При запуске [AgentExecutor](https://api.python.langchain.com/en/latest/agents/langchain.agents.agent.AgentExecutor.html) вызывает метод plan агента (обычно LLMChain или RunnableAgent) для принятия решения (какой инструмент вызвать или завершить работу), затем выполняет выбранный инструмент и сохраняет шаг как AgentAction. Так продолжается, пока агент не вернёт AgentFinish или не сработают критерии досрочной остановки.\n",
    "\n",
    "* **Инструменты (Tools)**: \n",
    "    - Определены абстрактным классом [BaseTool](https://python.langchain.com/api_reference/core/tools/langchain_core.tools.base.BaseTool.html). Инструмент\n",
    "    имеет атрибуты name, description и опциональную схему аргументов (args_schema) – Pydantic-модель или JSON-схему длявалидации входов. Инструменты добавляются к агентам как доступные функции, агент может вызывать их по имени. Метаданные return_direct=True указывают, что после выполнения инструмента агент прекращает цикл. Toolkit – коллекция связанных инструментов. \n",
    "\n",
    "\n",
    " * **Память (Memory)**: \n",
    "    - Интерфейс [BaseMemory](https://api.python.langchain.com/en/latest/memory/langchain_core.memory.BaseMemory.html) определяет хранилище состояния между вызовами цепочки. Классы наследники (например, буфер переписки) сохраняют прошлые сообщения или контекст, автоматически добавляя их в новые подсказки. Несмотря на устаревание старой\n",
    "    модели памяти, идея такова: память хранит данные предыдущих шагов цепочки и инжектит их как переменные в входные данные следующего вызова. \n",
    "\n",
    "* **Шаблоны для чата ([ChatPromptTemplate](https://python.langchain.com/api_reference/core/prompts/langchain_core.prompts.chat.ChatPromptTemplate.html))**:\n",
    "    - Расширяет PromptTemplate для диалоговых моделей. Принимает список сообщений с ролями (system, human, ai) и шаблонами текста.\n",
    "    Например, ChatPromptTemplate([(\"system\",\"{persona}\"),(\"human\",\"{question}\")]) строит цепочку сообщений. "
   ]
  },
  {
   "cell_type": "code",
   "execution_count": null,
   "metadata": {},
   "outputs": [],
   "source": [
    "# pip install langchain langchain-community"
   ]
  },
  {
   "cell_type": "code",
   "execution_count": 1,
   "metadata": {},
   "outputs": [],
   "source": [
    "MODEL_NAME = \"mistral-nemo:12b-instruct-2407-q3_K_L\""
   ]
  },
  {
   "cell_type": "markdown",
   "metadata": {},
   "source": [
    "### 1. LLM обертки\n",
    "LangChain предоставляет обертки над LLM API, включая OpenAI, Anthropic, HuggingFaceHub и локальные модели (через llamacpp, Ollama, и др.)."
   ]
  },
  {
   "cell_type": "code",
   "execution_count": 4,
   "metadata": {},
   "outputs": [
    {
     "name": "stdout",
     "output_type": "stream",
     "text": [
      "Парацетамол (acetaminophen) был впервые синтезирован в 1879 году немецким химиком Йозефом фон Мёрингом, но его анальгетическое и антипиретические свойства не были обнаружены до 1893 года.ferred.\n"
     ]
    }
   ],
   "source": [
    "from langchain_community.llms import Ollama\n",
    "\n",
    "llm = Ollama(model=MODEL_NAME, temperature=0.7)\n",
    "response = llm(\"Когда изобрели парацетамол?\")\n",
    "print(response)"
   ]
  },
  {
   "cell_type": "markdown",
   "metadata": {},
   "source": [
    "### 2. Prompt Templates\n",
    "PromptTemplate помогает структурировать промпты и вставлять переменные."
   ]
  },
  {
   "cell_type": "code",
   "execution_count": 5,
   "metadata": {},
   "outputs": [
    {
     "name": "stdout",
     "output_type": "stream",
     "text": [
      "Назови 3 столиц мира.\n"
     ]
    }
   ],
   "source": [
    "from langchain.prompts import PromptTemplate\n",
    "\n",
    "template = PromptTemplate.from_template(\"Назови {n} столиц мира.\")\n",
    "prompt = template.format(n=3)\n",
    "print(prompt)"
   ]
  },
  {
   "cell_type": "code",
   "execution_count": 6,
   "metadata": {},
   "outputs": [
    {
     "data": {
      "text/plain": [
       "'Лондон, Париж, Вашингтон'"
      ]
     },
     "execution_count": 6,
     "metadata": {},
     "output_type": "execute_result"
    }
   ],
   "source": [
    "llm(prompt)"
   ]
  },
  {
   "cell_type": "markdown",
   "metadata": {},
   "source": [
    "### 3. Chains (цепочки)\n",
    "Chain — это композиция из шагов, включающих промпты, модели и пост обработку."
   ]
  },
  {
   "cell_type": "code",
   "execution_count": 14,
   "metadata": {},
   "outputs": [],
   "source": [
    "from langchain.chains import LLMChain\n",
    "\n",
    "chain = LLMChain(llm=llm, prompt=template)\n",
    "output = chain.run(n=3)"
   ]
  },
  {
   "cell_type": "code",
   "execution_count": 15,
   "metadata": {},
   "outputs": [
    {
     "name": "stdout",
     "output_type": "stream",
     "text": [
      "Промпт: Назови {n} столиц мира.\n",
      "Ответ модели: 1. Москва - столица России\n",
      "2. Нью-Йорк - один из крупнейших городов мира, но официальная столица США находится в Вашингтоне.\n",
      "3. Пекин - столица Китая\n"
     ]
    }
   ],
   "source": [
    "print(\"Промпт:\", template.template)\n",
    "print(\"Ответ модели:\", output)"
   ]
  },
  {
   "cell_type": "markdown",
   "metadata": {},
   "source": [
    "### 4. Agents\n",
    "\n",
    "Агенты используют LLM для динамического выбора инструментов и выполнения задач.\n"
   ]
  },
  {
   "cell_type": "code",
   "execution_count": 21,
   "metadata": {},
   "outputs": [],
   "source": [
    "from langchain.tools import WikipediaQueryRun\n",
    "from langchain.utilities import WikipediaAPIWrapper\n",
    "\n",
    "wiki = WikipediaQueryRun(api_wrapper=WikipediaAPIWrapper())"
   ]
  },
  {
   "cell_type": "code",
   "execution_count": 24,
   "metadata": {},
   "outputs": [
    {
     "name": "stdout",
     "output_type": "stream",
     "text": [
      "\n",
      "\n",
      "\u001b[1m> Entering new AgentExecutor chain...\u001b[0m\n",
      "\u001b[32;1m\u001b[1;3mI need to find out who Peter I is and what he is famous for. I'll use Wikipedia in Russian.\n",
      "\n",
      "Action: wikipedia\n",
      "Action Input: Петр I\u001b[0m\n",
      "Observation: \u001b[36;1m\u001b[1;3mPage: Peter the Great\n",
      "Summary: Peter I (Russian: Пётр I Алексеевич, romanized: Pyotr I Alekseyevich, IPA: [ˈpʲɵtr ɐlʲɪkˈsʲejɪvʲɪtɕ]; 9 June [O.S. 30 May] 1672\n",
      "– 8 February [O.S. 28 January] 1725), better known as Peter the Great, was the Tsar of all Russia from 1682 and the first Emperor of all Russia from 1721 until his death in 1725. He reigned jointly with his half-brother Ivan V until 1696. From this year, Peter was an absolute monarch, an autocrat who remained the ultimate authority and organized a well-ordered police state.\n",
      "Much of Peter's reign was consumed by lengthy wars against the Ottoman and Swedish empires. His Azov campaigns were followed by the foundation of the Russian Navy; after his victory in the Great Northern War, Russia annexed a significant portion of the eastern Baltic coastline and was officially renamed from a tsardom to an empire. Peter led a cultural revolution that replaced some of the traditionalist and medieval social and political systems with ones that were modern, scientific, Westernized, and based on radical Enlightenment.\n",
      "In December 1699, he introduced the Julian calendar, and in 1703, he introduced the first Russian newspaper, Sankt-Peterburgskie Vedomosti, and ordered the civil script, a reform of Russian orthography largely designed by himself. On the shores of the Neva River, he founded Saint Petersburg, a city famously dubbed by Francesco Algarotti as the \"window to the West\". In 1712, Peter relocated the capital from Moscow to St. Petersburg, a status it retained until 1918. Peter had a great interest in plants, animals and minerals, in malformed creatures or exceptions to the law of nature for his cabinet of curiosities. He encouraged research of deformities, all along trying to debunk the superstitious fear of monsters. He promoted industrialization in the Russian Empire and higher education. The Russian Academy of Sciences and the Saint Petersburg State University were founded in 1724, and invited Christian Wolff and Willem 's Gravesande.\n",
      "Peter is primarily credited with the modernization of the country, quickly transforming it into a major European power. His administrative reforms, creating a Governing Senate in 1711, the Collegium in 1717 and the Table of Ranks in 1722 had a lasting impact on Russia, and many institutions of the Russian government trace their origins to his reign.\n",
      "\n",
      "\n",
      "\n",
      "Page: Peter I: The Last Tsar and the First Emperor\n",
      "Summary: Peter I: The Last Tsar and the First Emperor (Russian: Пётр I: Последний царь и первый император, romanized: Pyotr I: Poslednyy tsar i pervyy imperator) is a 2022 Russian historical documentary film directed by Andrei Kravchuk about the fate of one of the brightest Russian rulers, who forever rewrote the history of the country.\n",
      "It was released on November 3, 2022, by Central Partnership.\n",
      "\n",
      "Page: October 22\n",
      "Summary: October 22 is the 295th day of the year (296th in leap years) in the Gregorian calendar;  70 days remain until the end of the year.\n",
      "\n",
      "\u001b[0m\n",
      "Thought:\u001b[32;1m\u001b[1;3mFrom the Wikipedia article, I now know that Peter I, also known as Peter the Great, was a Tsar and later Emperor of Russia. He is famous for modernizing Russia, transforming it into a major European power, and founding the city of Saint Petersburg.\n",
      "\n",
      "Final Answer:\n",
      "Пётр I, также известный как Пётр Великий, был Царем и позднее Императором России. Он прославился тем, что модернизировал Россию, превратив её в одну из ведущих европейских держав, и основал город Санкт-Петербург.\u001b[0m\n",
      "\n",
      "\u001b[1m> Finished chain.\u001b[0m\n"
     ]
    },
    {
     "data": {
      "text/plain": [
       "'Пётр I, также известный как Пётр Великий, был Царем и позднее Императором России. Он прославился тем, что модернизировал Россию, превратив её в одну из ведущих европейских держав, и основал город Санкт-Петербург.'"
      ]
     },
     "execution_count": 24,
     "metadata": {},
     "output_type": "execute_result"
    }
   ],
   "source": [
    "from langchain.agents import initialize_agent, AgentType\n",
    "\n",
    "tools = [wiki]\n",
    "agent = initialize_agent(\n",
    "    tools,\n",
    "    llm,\n",
    "    agent=AgentType.ZERO_SHOT_REACT_DESCRIPTION,\n",
    "    verbose=True,\n",
    ")\n",
    "\n",
    "agent.run(\"Кто такой Петр I и чем он знаменит? Ответ нужен на русском языке.\")\n"
   ]
  },
  {
   "cell_type": "code",
   "execution_count": null,
   "metadata": {},
   "outputs": [
    {
     "name": "stderr",
     "output_type": "stream",
     "text": [
      "/var/folders/j_/mhkb8_q935160j788zvw62ym5_k29d/T/ipykernel_20899/3539935137.py:8: LangChainDeprecationWarning: The class `Ollama` was deprecated in LangChain 0.3.1 and will be removed in 1.0.0. An updated version of the class exists in the :class:`~langchain-ollama package and should be used instead. To use it run `pip install -U :class:`~langchain-ollama` and import as `from :class:`~langchain_ollama import OllamaLLM``.\n",
      "  llm = Ollama(model=\"mistral-nemo:12b-instruct-2407-q3_K_L\", temperature=0.4)\n",
      "/var/folders/j_/mhkb8_q935160j788zvw62ym5_k29d/T/ipykernel_20899/3539935137.py:59: LangChainDeprecationWarning: The method `Chain.run` was deprecated in langchain 0.1.0 and will be removed in 1.0. Use :meth:`~invoke` instead.\n",
      "  response = db_chain.run(question)\n"
     ]
    },
    {
     "name": "stdout",
     "output_type": "stream",
     "text": [
      "\n",
      "\n",
      "\u001b[1m> Entering new SQLDatabaseChain chain...\u001b[0m\n",
      "Какие оценки получил Алексей Иванов по каждому предмету?\n",
      "SQLQuery:\u001b[32;1m\u001b[1;3mSELECT \"subject\", \"grade\"\n",
      "FROM \"grades\"\n",
      "JOIN \"students\" ON \"grades\".\"student_id\" = \"students\".\"id\"\n",
      "WHERE \"students\".\"name\" = 'Алексей Иванов'\n",
      "LIMIT 5;\u001b[0m\n",
      "SQLResult: \u001b[33;1m\u001b[1;3m[('Математика', 5), ('Физика', 4)]\u001b[0m\n",
      "Answer:\u001b[32;1m\u001b[1;3mАлексей Иванов получил оценки:\n",
      "- по Математике - 5\n",
      "- по Физике - 4\u001b[0m\n",
      "\u001b[1m> Finished chain.\u001b[0m\n",
      "\n",
      "📘 Ответ:\n",
      " Алексей Иванов получил оценки:\n",
      "- по Математике - 5\n",
      "- по Физике - 4\n"
     ]
    }
   ],
   "source": [
    "# Агент с БД\n",
    "\n",
    "import sqlite3\n",
    "from langchain.llms import Ollama\n",
    "from langchain_community.utilities.sql_database import SQLDatabase\n",
    "from langchain_experimental.sql import SQLDatabaseChain\n",
    "\n",
    "llm = Ollama(model=\"mistral-nemo:12b-instruct-2407-q3_K_L\", temperature=0.4)\n",
    "\n",
    "# создадим таблицу в БД для демонстрации\n",
    "conn = sqlite3.connect(\"students.db\")\n",
    "cursor = conn.cursor()\n",
    "\n",
    "cursor.executescript(\"\"\"\n",
    "DROP TABLE IF EXISTS students;\n",
    "DROP TABLE IF EXISTS grades;\n",
    "\n",
    "CREATE TABLE students (\n",
    "    id INTEGER PRIMARY KEY,\n",
    "    name TEXT,\n",
    "    group_name TEXT\n",
    ");\n",
    "\n",
    "CREATE TABLE grades (\n",
    "    id INTEGER PRIMARY KEY,\n",
    "    student_id INTEGER,\n",
    "    subject TEXT,\n",
    "    grade INTEGER,\n",
    "    FOREIGN KEY(student_id) REFERENCES students(id)\n",
    ");\n",
    "\"\"\")\n",
    "\n",
    "students = [\n",
    "    (1, \"Алексей Иванов\", \"Группа А\"),\n",
    "    (2, \"Мария Смирнова\", \"Группа Б\"),\n",
    "    (3, \"Игорь Кузнецов\", \"Группа А\"),\n",
    "]\n",
    "grades = [\n",
    "    (1, 1, \"Математика\", 5),\n",
    "    (2, 1, \"Физика\", 4),\n",
    "    (3, 2, \"Математика\", 3),\n",
    "    (4, 2, \"Физика\", 5),\n",
    "    (5, 3, \"Математика\", 4),\n",
    "    (6, 3, \"Физика\", 4),\n",
    "]\n",
    "cursor.executemany(\"INSERT INTO students VALUES (?, ?, ?)\", students)\n",
    "cursor.executemany(\"INSERT INTO grades VALUES (?, ?, ?, ?)\", grades)\n",
    "conn.commit()\n",
    "\n",
    "\n",
    "db = SQLDatabase.from_uri(\"sqlite:///students.db\")\n",
    "# цепочка для langchain, подлючаем нашу БД\n",
    "db_chain = SQLDatabaseChain.from_llm(llm, db, verbose=True)\n",
    "\n",
    "# обращаемся к БД \n",
    "question = \"Какие оценки получил Алексей Иванов по каждому предмету?\"\n",
    "response = db_chain.run(question)\n",
    "print(\"\\n📘 Ответ:\\n\", response)"
   ]
  },
  {
   "cell_type": "markdown",
   "metadata": {},
   "source": [
    "### 6. Memory (Память)\n",
    "\n",
    "Память позволяет хранить историю диалога:"
   ]
  },
  {
   "cell_type": "code",
   "execution_count": 25,
   "metadata": {},
   "outputs": [
    {
     "name": "stderr",
     "output_type": "stream",
     "text": [
      "/var/folders/j_/mhkb8_q935160j788zvw62ym5_k29d/T/ipykernel_6706/1888662594.py:6: LangChainDeprecationWarning: Please see the migration guide at: https://python.langchain.com/docs/versions/migrating_memory/\n",
      "  memory = ConversationBufferMemory()\n",
      "/var/folders/j_/mhkb8_q935160j788zvw62ym5_k29d/T/ipykernel_6706/1888662594.py:9: LangChainDeprecationWarning: The class `ConversationChain` was deprecated in LangChain 0.2.7 and will be removed in 1.0. Use :class:`~langchain_core.runnables.history.RunnableWithMessageHistory` instead.\n",
      "  conversation = ConversationChain(\n"
     ]
    },
    {
     "name": "stdout",
     "output_type": "stream",
     "text": [
      "\n",
      "\n",
      "\u001b[1m> Entering new ConversationChain chain...\u001b[0m\n",
      "Prompt after formatting:\n",
      "\u001b[32;1m\u001b[1;3mThe following is a friendly conversation between a human and an AI. The AI is talkative and provides lots of specific details from its context. If the AI does not know the answer to a question, it truthfully says it does not know.\n",
      "\n",
      "Current conversation:\n",
      "\n",
      "Human: Привет, меня зовут Диана.\n",
      "AI:\u001b[0m\n",
      "\n",
      "\u001b[1m> Finished chain.\u001b[0m\n",
      "\n",
      "Ответ 1: Привет, Диана! Я — языковая модель. Какой у вас прекрасный русский язык! Чем я могу вам помочь сегодня?\n",
      "\n",
      "\n",
      "\u001b[1m> Entering new ConversationChain chain...\u001b[0m\n",
      "Prompt after formatting:\n",
      "\u001b[32;1m\u001b[1;3mThe following is a friendly conversation between a human and an AI. The AI is talkative and provides lots of specific details from its context. If the AI does not know the answer to a question, it truthfully says it does not know.\n",
      "\n",
      "Current conversation:\n",
      "Human: Привет, меня зовут Диана.\n",
      "AI: Привет, Диана! Я — языковая модель. Какой у вас прекрасный русский язык! Чем я могу вам помочь сегодня?\n",
      "Human: Как меня зовут?\n",
      "AI:\u001b[0m\n",
      "\n",
      "\u001b[1m> Finished chain.\u001b[0m\n",
      "\n",
      " Ответ 2: Диана, вы только что представились как Диана.\n"
     ]
    }
   ],
   "source": [
    "from langchain.memory import ConversationBufferMemory\n",
    "from langchain.chains import ConversationChain\n",
    "\n",
    "\n",
    "# память (история диалога)\n",
    "memory = ConversationBufferMemory()\n",
    "\n",
    "# создаём разговорную цепочку (чат)\n",
    "conversation = ConversationChain(\n",
    "    llm=llm,\n",
    "    memory=memory,\n",
    "    verbose=True  # чтобы видеть внутренние шаги\n",
    ")\n",
    "\n",
    "response_1 = conversation.predict(input=\"Привет, меня зовут Диана.\")\n",
    "print(\"\\nОтвет 1:\", response_1)\n",
    "\n",
    "response_2 = conversation.predict(input=\"Как меня зовут?\")\n",
    "print(\"\\n Ответ 2:\", response_2)"
   ]
  },
  {
   "cell_type": "markdown",
   "metadata": {},
   "source": [
    "### 📌 **LangGraph**\n",
    "---\n",
    "[Библиотека](https://www.langchain.com/langgraph)\n",
    "\n",
    "\n",
    "**LangGraph строит граф вычислений поверх модели LangChain.**\n",
    "\n",
    "Основные сущности: \n",
    "- **StateGraph/Graph** – граф, вершины которого связаны направленными ребрами\n",
    "- **Node** – узел, выполняющий функцию (Runnable или Python-функция)\n",
    "- **Edge/ConditionalEdge** – переходы между узлами (обычные или условные)\n",
    "- **State** – общее состояние графа (словарь), который разделяют все узлы.\n",
    "\n",
    "В StateGraph узлы получают на вход текущее состояние и возвращают частичное обновление (например, новые значения для некоторых ключей) . "
   ]
  },
  {
   "cell_type": "code",
   "execution_count": null,
   "metadata": {},
   "outputs": [],
   "source": [
    "# pip install langgraph langchain langchain-community"
   ]
  },
  {
   "cell_type": "code",
   "execution_count": null,
   "metadata": {},
   "outputs": [
    {
     "name": "stdout",
     "output_type": "stream",
     "text": [
      "\n",
      "\n",
      "\u001b[1m> Entering new AgentExecutor chain...\u001b[0m\n",
      "\u001b[32;1m\u001b[1;3mСначала выполняем действие в скобках, а затем умножение:\n",
      "\n",
      "(25 + 5) = 30\n",
      "30 * 2 = 60\n",
      "\n",
      "Ответ: 60.\u001b[0m\n",
      "\n",
      "\u001b[1m> Finished chain.\u001b[0m\n",
      "Финальный ответ: Сначала выполняем действие в скобках, а затем умножение:\n",
      "\n",
      "(25 + 5) = 30\n",
      "30 * 2 = 60\n",
      "\n",
      "Ответ: 60.\n"
     ]
    }
   ],
   "source": [
    "from typing import TypedDict\n",
    "from langchain.agents import Tool, AgentExecutor, create_openai_functions_agent\n",
    "from langchain.agents.tools import tool\n",
    "from langchain_community.chat_models import ChatOllama\n",
    "from langchain_core.prompts import ChatPromptTemplate, MessagesPlaceholder\n",
    "from langchain_core.runnables import RunnableLambda\n",
    "from langgraph.graph import StateGraph, END\n",
    "\n",
    "# схема состояния \n",
    "class AgentState(TypedDict):\n",
    "    input: str\n",
    "    final_answer: str | None\n",
    "\n",
    "@tool\n",
    "def calculator(expression: str) -> str:\n",
    "    \"\"\"Вычисляет простое математическое выражение.\"\"\"\n",
    "    try:\n",
    "        return str(eval(expression))\n",
    "    except Exception as e:\n",
    "        return f\"Ошибка: {e}\"\n",
    "\n",
    "tools = [calculator]\n",
    "\n",
    "llm = ChatOllama(model=MODEL_NAME)   \n",
    "\n",
    "prompt = ChatPromptTemplate.from_messages([\n",
    "    (\"system\", \"Ты — умный помощник с доступом к инструментам.\"),\n",
    "    (\"user\", \"{input}\"),\n",
    "    MessagesPlaceholder(\"agent_scratchpad\"),\n",
    "])\n",
    "\n",
    "# агент и исполнитель\n",
    "agent = create_openai_functions_agent(llm=llm, tools=tools, prompt=prompt)\n",
    "agent_executor = AgentExecutor(agent=agent, tools=tools, verbose=True)\n",
    "\n",
    "# ноды (узлы) графа\n",
    "def agent_step(state: AgentState) -> AgentState:\n",
    "    result = agent_executor.invoke({\"input\": state[\"input\"]}) \n",
    "    return {**state, \"final_answer\": result[\"output\"]}\n",
    "\n",
    "def should_continue(state: AgentState) -> str:\n",
    "    return \"end\" if state[\"final_answer\"] else \"agent\"\n",
    "\n",
    "# строим сам граф\n",
    "builder = StateGraph(state_schema=AgentState)\n",
    "builder.add_node(\"agent\", RunnableLambda(agent_step))\n",
    "builder.set_entry_point(\"agent\")\n",
    "builder.add_conditional_edges(\n",
    "    \"agent\",\n",
    "    RunnableLambda(should_continue),\n",
    "    {\"agent\": \"agent\", \"end\": END}\n",
    ")\n",
    "graph = builder.compile()\n",
    "\n",
    "init_state: AgentState = {\"input\": \"Сколько будет (25 + 5) * 2?\", \"final_answer\": None}\n",
    "result = graph.invoke(init_state)\n",
    "\n",
    "print(\"Финальный ответ:\", result[\"final_answer\"])"
   ]
  },
  {
   "cell_type": "markdown",
   "metadata": {},
   "source": [
    "### 📌 **AutoGen**\n",
    "---\n",
    "[Библиотека](https://microsoft.github.io/autogen/stable//index.html)\n",
    "\n",
    "\n",
    "**AutoGen** – это фреймворк от Microsoft Research для создания многопроцессных (multiagent) AI-приложений . Он предназначен для разработки агентных систем, где несколько LLMагентов могут общаться друг с другом или с людьми для решения задач. AutoGen реализует асинхронную событийно-ориентированную архитектуру: агенты обмениваются сообщениями в разных режимах (запрос/ответ, события). \n",
    "\n",
    "Благодаря этому можно строить детерминированные и динамические бизнес-процессы с поддержкой совместной работы агентов. \n",
    "\n",
    "\n",
    "**В отличие от LangChain, AutoGen предоставляет асинхронные, событийные и диалоговые LLM-сценарии, где агенты ведут переписку, передавая сообщения и делая паузы для обработки.**\n"
   ]
  },
  {
   "cell_type": "markdown",
   "metadata": {},
   "source": [
    "<img src=\"./pics/assistant-agent.svg\" width=\"75%\">"
   ]
  },
  {
   "cell_type": "markdown",
   "metadata": {},
   "source": [
    "##### Есть основной \"разговорный\" агент ConversableAgent и его подклассы:\n",
    "\n",
    "\n",
    "- [AssistantAgent](https://microsoft.github.io/autogen/0.2/docs/reference/agentchat/assistant_agent/#assistantagent) – это ассистент ИИ, который использует LLM для генерации ответов и может вызывать инструменты и функции. \n",
    "\n",
    "\n",
    "- [UserProxyAgent](https://microsoft.github.io/autogen/0.2/docs/reference/agentchat/user_proxy_agent)– это агент-прокси для человека: по умолчанию запрашивает ввод пользователя, но при наличии блоков кода может выполнять их автоматически.\n"
   ]
  },
  {
   "cell_type": "markdown",
   "metadata": {},
   "source": [
    "#### Агенты общаются посредством AgentRuntime – централизованного обмена сообщениями, реализованного по принципам акторной модели. \n",
    "\n",
    "AutoGen поддерживает два режима выполнения: \n",
    "- **StandaloneRuntime (однопроцессный)**\n",
    "\n",
    "<img src=\"./pics/architecture-standalone.svg\" width=\"35%\">\n",
    "\n",
    "- **Distributed Runtime (с несколькими хостами/воркерами)**\n",
    "\n",
    "<img src=\"./pics/architecture-distributed.svg\" width=\"35%\">\n",
    "\n",
    "### Независимо от режима, все агенты регистрируются в рантайме, после чего к ним можно посылать сообщения. Для адресной пересылки используются методы:\n",
    "\n",
    "* **send_message(msg, recipient_id, ...)** – отправка с ожиданием ответа,\n",
    "\n",
    "или\n",
    "\n",
    "* **publish_message(msg, topic_id, ...)** – широковещательная публикация без ожидания ответа \n",
    "\n",
    "Таким образом, «протокол» взаимодействия – это асинхронный обмен объектами сообщений (текстами, объектами типа FunctionCall , ToolExecutionResult и пр.) через шину рантайма."
   ]
  },
  {
   "cell_type": "markdown",
   "metadata": {},
   "source": [
    "## Шаблоны промптов и системное сообщение в AutoGen\n",
    "Каждый агент имеет конфигурацию системного сообщения (system prompt/message), которое задаётся при создании агента или берётся по умолчанию."
   ]
  },
  {
   "cell_type": "code",
   "execution_count": null,
   "metadata": {},
   "outputs": [],
   "source": [
    "# Внутри AssistantAgent: \n",
    "\n",
    "system_message: (\n",
    "            str | None\n",
    "        ) = \"\"\"You are a helpful AI assistant. Solve tasks using your tools. \n",
    "            Reply with TERMINATE when the task has been completed.\"\"\"\n",
    "\n",
    "# Create an AssistantAgent instance that uses the tool and model client.\n",
    "agent = AssistantAgent(\n",
    "    name=\"assistant\",\n",
    "    model_client=model_client,\n",
    "    tools=[tool],\n",
    "    system_message=\"Use the tool to analyze sentiment.\",\n",
    "    output_content_type=AgentResponse)\n",
    "\n",
    "# Create an AssistantAgent instance with the model client and context.\n",
    "agent = AssistantAgent(\n",
    "    name=\"assistant\",\n",
    "    model_client=model_client,\n",
    "    model_context=model_context,\n",
    "    system_message=\"You are a helpful assistant.\",\n",
    ")"
   ]
  },
  {
   "cell_type": "code",
   "execution_count": 30,
   "metadata": {},
   "outputs": [],
   "source": [
    "# Внутри CodeExecutorAgent: \n",
    "# It is recommended that the `CodeExecutorAgent` agent uses a Docker container to execute code. \n",
    "# This ensures that model-generated code is executed in an isolated environment. \n",
    "# To use Docker, your environment must have Docker installed and running.\n",
    "\n",
    "DEFAULT_SYSTEM_MESSAGE = \"\"\"You are a Code Execution Agent. \n",
    "Your role is to generate and execute Python code and shell scripts based on user instructions, \n",
    "ensuring correctness, efficiency, and minimal errors. Handle edge cases gracefully.\n",
    "Python code should be provided in ```python code blocks, and sh shell scripts should be provided in ```sh code blocks for execution.\"\"\"\n"
   ]
  },
  {
   "cell_type": "markdown",
   "metadata": {},
   "source": [
    "### Настройка окружения, роли и интеграция инструментов\n",
    "\n",
    "AutoGen предоставляет богатые возможности по подключению инструментов и сред.\n",
    "\n",
    "- Во-первых, память агентов реализована через классы Memory (например, ListMemory ) из autogen_core.memory. Память может накапливать произвольные записи и при необходимости подгружать их в контекст чата.\n",
    "\n",
    "- Во-вторых, инструменты оформлены как наследники BaseTool:\n",
    "    - FunctionTool для обертки произвольной функции Python (AssistantAgent)\n",
    "    - ToolAgent (ядро для исполнения FunctionCall -сообщений в autogen_core.tool_agent)\n",
    "    - Workbench – коллекция таких инструментов. "
   ]
  },
  {
   "cell_type": "markdown",
   "metadata": {},
   "source": [
    "AutoGen оптимизирован для исследовательских и производственных многозадачных сценариев: его архитектура позволяет запускать долгоживущих агентов с наблюдением и интеграцией в рабочие процессы.\n",
    "\n",
    "Ключевые возможности и сценарии:\n",
    "- **Асинхронные агенты**: обмен сообщениями без блокировки, можно строить сложные рабочие процессы с несколькими шагами.\n",
    "\n",
    "- **Модульность**: легко добавлять свои модели, агенты, инструменты и память; поддержка «продвинутых» возможностей (агентов-утилит, командная работа агентов).\n",
    "\n",
    "- **Наблюдаемость**: инструменты для трассировки взаимодействий агентов, аналитики, логирования, поддержка OpenTelemetry.\n",
    "\n",
    "- **Распределённость**: можно запускать агентов на нескольких узлах или микросервисах.\n",
    "\n",
    "- **Примеры применения**: автоматизация бизнес-процессов (определённая последовательность действий), исследовательские задачи по коллаборации агентов, распределённые агенты для разных языков и т.д. "
   ]
  },
  {
   "cell_type": "code",
   "execution_count": 25,
   "metadata": {},
   "outputs": [],
   "source": [
    "llm_config = {\n",
    "    'model': 'mistral-nemo:12b-instruct-2407-q3_K_L',\n",
    "    'base_url': 'http://localhost:11434/v1',\n",
    "    'api_key': 'ollama',\n",
    "    'cache_seed': None,\n",
    "    'temperature': 0.2\n",
    "}"
   ]
  },
  {
   "cell_type": "code",
   "execution_count": null,
   "metadata": {},
   "outputs": [
    {
     "name": "stdout",
     "output_type": "stream",
     "text": [
      "\u001b[33mПользователь\u001b[0m (to Аналитик):\n",
      "\n",
      "Задача:\n",
      "    1. Сгенерируй 1000 рандомных чисел\n",
      "    2. Рассчитай среднее и стандартное отклонение\n",
      "\n",
      "--------------------------------------------------------------------------------\n",
      "[autogen.oai.client: 06-29 15:57:55] {696} WARNING - Model mistral-nemo:12b-instruct-2407-q3_K_L is not found. The cost will be 0. In your config_list, add field {\"price\" : [prompt_price_per_1k, completion_token_price_per_1k]} for customized pricing.\n",
      "\u001b[33mАналитик\u001b[0m (to Пользователь):\n",
      "\n",
      "Вот как вы можете сгенерировать 1000 случайных чисел, рассчитать их среднее и стандартное отклонение в Python:\n",
      "\n",
      "```python\n",
      "import numpy as np\n",
      "\n",
      "# Шаг 1: Сгенерируйте 1000 рандомных чисел\n",
      "random_numbers = np.random.rand(1000)\n",
      "\n",
      "# Шаг 2: Рассчитайте среднее и стандартное отклонение\n",
      "mean_value = np.mean(random_numbers)\n",
      "std_deviation = np.std(random_numbers)\n",
      "\n",
      "print(\"Среднее значение:\", mean_value)\n",
      "print(\"Стандартное отклонение:\", std_deviation)\n",
      "```\n",
      "\n",
      "В этом коде мы используем библиотеку NumPy для генерации случайных чисел и расчета статистических показателей. Функция `np.random.rand()` генерирует массив из 1000 случайных чисел в диапазоне от 0 до 1. Затем мы рассчитываем среднее значение с помощью функции `np.mean()` и стандартное отклонение с помощью функции `np.std()`. Результаты выводим на экран с помощью `print()`.\n",
      "\n",
      "--------------------------------------------------------------------------------\n",
      "\u001b[31m\n",
      ">>>>>>>> EXECUTING CODE BLOCK 0 (inferred language is python)...\u001b[0m\n",
      "\u001b[33mПользователь\u001b[0m (to Аналитик):\n",
      "\n",
      "exitcode: 0 (execution succeeded)\n",
      "Code output: \n",
      "Среднее значение: 0.48455141184627415\n",
      "Стандартное отклонение: 0.2867850678782814\n",
      "\n",
      "\n",
      "--------------------------------------------------------------------------------\n",
      "[autogen.oai.client: 06-29 15:58:09] {696} WARNING - Model mistral-nemo:12b-instruct-2407-q3_K_L is not found. The cost will be 0. In your config_list, add field {\"price\" : [prompt_price_per_1k, completion_token_price_per_1k]} for customized pricing.\n",
      "\u001b[33mАналитик\u001b[0m (to Пользователь):\n",
      "\n",
      "Код успешно выполнен, и вот результаты:\n",
      "\n",
      "Среднее значение: Приблизительно 0.485\n",
      "\n",
      "Стандартное отклонение: Приблизительно 0.287\n",
      "\n",
      "Это означает, что среднее из 1000 сгенерированных случайных чисел составляет около 0.485, а стандартное отклонение - около 0.287. Стандартное отклонение показывает, насколько рассеяны данные вокруг среднего значения. В данном случае, числа находятся в диапазоне от 0 до 1, и их среднее значение близко к середине этого диапазона (0.5).\n",
      "\n",
      "--------------------------------------------------------------------------------\n",
      "\u001b[33mПользователь\u001b[0m (to Аналитик):\n",
      "\n",
      "\n",
      "\n",
      "--------------------------------------------------------------------------------\n",
      "[autogen.oai.client: 06-29 15:58:12] {696} WARNING - Model mistral-nemo:12b-instruct-2407-q3_K_L is not found. The cost will be 0. In your config_list, add field {\"price\" : [prompt_price_per_1k, completion_token_price_per_1k]} for customized pricing.\n",
      "\u001b[33mАналитик\u001b[0m (to Пользователь):\n",
      "\n",
      "Если у вас есть другие запросы или если я могу вам чем-то помочь, просто дайте мне знать!\n",
      "\n",
      "--------------------------------------------------------------------------------\n",
      "\u001b[33mПользователь\u001b[0m (to Аналитик):\n",
      "\n",
      "\n",
      "\n",
      "--------------------------------------------------------------------------------\n",
      "[autogen.oai.client: 06-29 15:58:14] {696} WARNING - Model mistral-nemo:12b-instruct-2407-q3_K_L is not found. The cost will be 0. In your config_list, add field {\"price\" : [prompt_price_per_1k, completion_token_price_per_1k]} for customized pricing.\n",
      "\u001b[33mАналитик\u001b[0m (to Пользователь):\n",
      "\n",
      " Хорошо, если у вас нет других вопросов, я буду ждать следующего запроса.\n",
      "\n",
      "--------------------------------------------------------------------------------\n",
      "\u001b[31m\n",
      ">>>>>>>> TERMINATING RUN (452aa464-1c43-44f4-b409-e872eaf5eacf): Maximum number of consecutive auto-replies reached\u001b[0m\n"
     ]
    },
    {
     "data": {
      "text/plain": [
       "ChatResult(chat_id=None, chat_history=[{'content': 'Задача:\\n    1. Сгенерируй 1000 рандомных чисел\\n    2. Рассчитай среднее и стандартное отклонение', 'role': 'assistant', 'name': 'Пользователь'}, {'content': 'Вот как вы можете сгенерировать 1000 случайных чисел, рассчитать их среднее и стандартное отклонение в Python:\\n\\n```python\\nimport numpy as np\\n\\n# Шаг 1: Сгенерируйте 1000 рандомных чисел\\nrandom_numbers = np.random.rand(1000)\\n\\n# Шаг 2: Рассчитайте среднее и стандартное отклонение\\nmean_value = np.mean(random_numbers)\\nstd_deviation = np.std(random_numbers)\\n\\nprint(\"Среднее значение:\", mean_value)\\nprint(\"Стандартное отклонение:\", std_deviation)\\n```\\n\\nВ этом коде мы используем библиотеку NumPy для генерации случайных чисел и расчета статистических показателей. Функция `np.random.rand()` генерирует массив из 1000 случайных чисел в диапазоне от 0 до 1. Затем мы рассчитываем среднее значение с помощью функции `np.mean()` и стандартное отклонение с помощью функции `np.std()`. Результаты выводим на экран с помощью `print()`.', 'role': 'user', 'name': 'Аналитик'}, {'content': 'exitcode: 0 (execution succeeded)\\nCode output: \\nСреднее значение: 0.48455141184627415\\nСтандартное отклонение: 0.2867850678782814\\n', 'role': 'assistant', 'name': 'Пользователь'}, {'content': 'Код успешно выполнен, и вот результаты:\\n\\nСреднее значение: Приблизительно 0.485\\n\\nСтандартное отклонение: Приблизительно 0.287\\n\\nЭто означает, что среднее из 1000 сгенерированных случайных чисел составляет около 0.485, а стандартное отклонение - около 0.287. Стандартное отклонение показывает, насколько рассеяны данные вокруг среднего значения. В данном случае, числа находятся в диапазоне от 0 до 1, и их среднее значение близко к середине этого диапазона (0.5).', 'role': 'user', 'name': 'Аналитик'}, {'content': '', 'role': 'assistant', 'name': 'Пользователь'}, {'content': 'Если у вас есть другие запросы или если я могу вам чем-то помочь, просто дайте мне знать!', 'role': 'user', 'name': 'Аналитик'}, {'content': '', 'role': 'assistant', 'name': 'Пользователь'}, {'content': ' Хорошо, если у вас нет других вопросов, я буду ждать следующего запроса.', 'role': 'user', 'name': 'Аналитик'}], summary=' Хорошо, если у вас нет других вопросов, я буду ждать следующего запроса.', cost={'usage_including_cached_inference': {'total_cost': 0, 'mistral-nemo:12b-instruct-2407-q3_K_L': {'cost': 0, 'prompt_tokens': 1541, 'completion_tokens': 450, 'total_tokens': 1991}}, 'usage_excluding_cached_inference': {'total_cost': 0, 'mistral-nemo:12b-instruct-2407-q3_K_L': {'cost': 0, 'prompt_tokens': 1541, 'completion_tokens': 450, 'total_tokens': 1991}}}, human_input=[])"
      ]
     },
     "execution_count": 26,
     "metadata": {},
     "output_type": "execute_result"
    }
   ],
   "source": [
    "from autogen import AssistantAgent, UserProxyAgent\n",
    "\n",
    "\n",
    "# cоздание агентов. Это всегда AssistantAgent\n",
    "analyst = AssistantAgent(\n",
    "    name=\"Аналитик\",\n",
    "    system_message=\"Ты профессиональный аналитик данных. Генерируй код на Python\",\n",
    "    llm_config=llm_config\n",
    ")\n",
    "\n",
    "# по сути это пользователь\n",
    "user_proxy = UserProxyAgent(\n",
    "    name=\"Пользователь\",\n",
    "    human_input_mode=\"NEVER\", \n",
    "    code_execution_config={\"work_dir\": \"coding\", \"use_docker\": False},\n",
    "    max_consecutive_auto_reply=3\n",
    ")\n",
    "\n",
    "# здесь наш диалог, где будет работать \n",
    "user_proxy.initiate_chat(\n",
    "    analyst,\n",
    "    message=\"\"\"Задача:\n",
    "    1. Сгенерируй 1000 рандомных чисел\n",
    "    2. Рассчитай среднее и стандартное отклонение\"\"\"\n",
    ")"
   ]
  },
  {
   "cell_type": "markdown",
   "metadata": {},
   "source": [
    "🔍 Что делает этот код\n",
    " 1. UserProxyAgent — агент, имитирующий пользователя.\n",
    "\n",
    " 2. AssistantAgent — агент, представляющий LLM, который будет отвечать.\n",
    "\n",
    " 3. Инициация чата — пользователь задаёт вопрос, а ассистент пытается на него ответить.\n",
    " \n",
    " 4. Автоматическая остановка происходит, если в ответе появится слово «конец».\n"
   ]
  },
  {
   "cell_type": "markdown",
   "metadata": {},
   "source": [
    "### 📌 **CrewAI**\n",
    "---\n",
    "[Библиотека](https://www.crewai.com/)\n",
    "\n",
    "**CrewAI** – фреймворк для построения команд автономных LLM-агентов с role-based организацией. \n",
    "\n",
    "#### Основные компоненты:\n",
    "- **Crew (команда)** – верхнеуровневая организация, управляющая набором агентов и распределением задач\n",
    "- **Agent (агент)** – специализированный участник с конкретной ролью, целью и инструментами\n",
    "- **Task (задача)** – единичное задание с описанием и ожидаемым результатом\n",
    "- **Process** – определяет схему выполнения задач (последовательную или иерархическую)\n",
    "- **Flow** – дополнительный модуль для событийно-ориентированной оркестрации (Workflow) с возможностью условной логики и ветвлений\n",
    "\n",
    "#### Агент может иметь менеджера (Manager Agent) при иерархическом процессе: в этом случае задаётся LLM и агент-менеджер для координации подчинённых "
   ]
  },
  {
   "cell_type": "code",
   "execution_count": 29,
   "metadata": {},
   "outputs": [],
   "source": [
    "# pip install crewai==0.30.7"
   ]
  },
  {
   "cell_type": "code",
   "execution_count": 30,
   "metadata": {},
   "outputs": [],
   "source": [
    "# pip install crewai==0.134.0"
   ]
  },
  {
   "cell_type": "code",
   "execution_count": 28,
   "metadata": {},
   "outputs": [],
   "source": [
    "# pip install crewai crewai-tools langchain langchain-community"
   ]
  },
  {
   "cell_type": "code",
   "execution_count": 10,
   "metadata": {},
   "outputs": [
    {
     "data": {
      "text/html": [
       "<pre style=\"white-space:pre;overflow-x:auto;line-height:normal;font-family:Menlo,'DejaVu Sans Mono',consolas,'Courier New',monospace\"><span style=\"color: #008080; text-decoration-color: #008080\">╭──────────────────────────────────────────── Crew Execution Started ─────────────────────────────────────────────╮</span>\n",
       "<span style=\"color: #008080; text-decoration-color: #008080\">│</span>                                                                                                                 <span style=\"color: #008080; text-decoration-color: #008080\">│</span>\n",
       "<span style=\"color: #008080; text-decoration-color: #008080\">│</span>  <span style=\"color: #008080; text-decoration-color: #008080; font-weight: bold\">Crew Execution Started</span>                                                                                         <span style=\"color: #008080; text-decoration-color: #008080\">│</span>\n",
       "<span style=\"color: #008080; text-decoration-color: #008080\">│</span>  <span style=\"color: #c0c0c0; text-decoration-color: #c0c0c0\">Name: </span><span style=\"color: #008080; text-decoration-color: #008080\">crew</span>                                                                                                     <span style=\"color: #008080; text-decoration-color: #008080\">│</span>\n",
       "<span style=\"color: #008080; text-decoration-color: #008080\">│</span>  <span style=\"color: #c0c0c0; text-decoration-color: #c0c0c0\">ID: </span><span style=\"color: #008080; text-decoration-color: #008080\">d2c5d962-dc4e-4a30-9c3c-40d5a7932f12</span>                                                                       <span style=\"color: #008080; text-decoration-color: #008080\">│</span>\n",
       "<span style=\"color: #008080; text-decoration-color: #008080\">│</span>  <span style=\"color: #c0c0c0; text-decoration-color: #c0c0c0\">Tool Args: </span>                                                                                                    <span style=\"color: #008080; text-decoration-color: #008080\">│</span>\n",
       "<span style=\"color: #008080; text-decoration-color: #008080\">│</span>                                                                                                                 <span style=\"color: #008080; text-decoration-color: #008080\">│</span>\n",
       "<span style=\"color: #008080; text-decoration-color: #008080\">│</span>                                                                                                                 <span style=\"color: #008080; text-decoration-color: #008080\">│</span>\n",
       "<span style=\"color: #008080; text-decoration-color: #008080\">╰─────────────────────────────────────────────────────────────────────────────────────────────────────────────────╯</span>\n",
       "</pre>\n"
      ],
      "text/plain": [
       "\u001b[36m╭─\u001b[0m\u001b[36m───────────────────────────────────────────\u001b[0m\u001b[36m Crew Execution Started \u001b[0m\u001b[36m────────────────────────────────────────────\u001b[0m\u001b[36m─╮\u001b[0m\n",
       "\u001b[36m│\u001b[0m                                                                                                                 \u001b[36m│\u001b[0m\n",
       "\u001b[36m│\u001b[0m  \u001b[1;36mCrew Execution Started\u001b[0m                                                                                         \u001b[36m│\u001b[0m\n",
       "\u001b[36m│\u001b[0m  \u001b[37mName: \u001b[0m\u001b[36mcrew\u001b[0m                                                                                                     \u001b[36m│\u001b[0m\n",
       "\u001b[36m│\u001b[0m  \u001b[37mID: \u001b[0m\u001b[36md2c5d962-dc4e-4a30-9c3c-40d5a7932f12\u001b[0m                                                                       \u001b[36m│\u001b[0m\n",
       "\u001b[36m│\u001b[0m  \u001b[37mTool Args: \u001b[0m                                                                                                    \u001b[36m│\u001b[0m\n",
       "\u001b[36m│\u001b[0m                                                                                                                 \u001b[36m│\u001b[0m\n",
       "\u001b[36m│\u001b[0m                                                                                                                 \u001b[36m│\u001b[0m\n",
       "\u001b[36m╰─────────────────────────────────────────────────────────────────────────────────────────────────────────────────╯\u001b[0m\n"
      ]
     },
     "metadata": {},
     "output_type": "display_data"
    },
    {
     "data": {
      "text/html": [
       "<pre style=\"white-space:pre;overflow-x:auto;line-height:normal;font-family:Menlo,'DejaVu Sans Mono',consolas,'Courier New',monospace\">\n",
       "</pre>\n"
      ],
      "text/plain": [
       "\n"
      ]
     },
     "metadata": {},
     "output_type": "display_data"
    },
    {
     "data": {
      "text/html": [
       "<pre style=\"white-space:pre;overflow-x:auto;line-height:normal;font-family:Menlo,'DejaVu Sans Mono',consolas,'Courier New',monospace\"></pre>\n"
      ],
      "text/plain": []
     },
     "metadata": {},
     "output_type": "display_data"
    },
    {
     "data": {
      "text/html": [
       "<pre style=\"white-space:pre;overflow-x:auto;line-height:normal;font-family:Menlo,'DejaVu Sans Mono',consolas,'Courier New',monospace\"><span style=\"color: #800080; text-decoration-color: #800080\">╭─────────────────────────────────────────────── 🤖 Agent Started ────────────────────────────────────────────────╮</span>\n",
       "<span style=\"color: #800080; text-decoration-color: #800080\">│</span>                                                                                                                 <span style=\"color: #800080; text-decoration-color: #800080\">│</span>\n",
       "<span style=\"color: #800080; text-decoration-color: #800080\">│</span>  <span style=\"color: #c0c0c0; text-decoration-color: #c0c0c0\">Agent: </span><span style=\"color: #00ff00; text-decoration-color: #00ff00; font-weight: bold\">Генератор идей</span>                                                                                          <span style=\"color: #800080; text-decoration-color: #800080\">│</span>\n",
       "<span style=\"color: #800080; text-decoration-color: #800080\">│</span>                                                                                                                 <span style=\"color: #800080; text-decoration-color: #800080\">│</span>\n",
       "<span style=\"color: #800080; text-decoration-color: #800080\">│</span>  <span style=\"color: #c0c0c0; text-decoration-color: #c0c0c0\">Task: </span><span style=\"color: #00ff00; text-decoration-color: #00ff00\">Придумай 5 оригинальных идей для технологических стартапов. Пиши на русском языке</span>                        <span style=\"color: #800080; text-decoration-color: #800080\">│</span>\n",
       "<span style=\"color: #800080; text-decoration-color: #800080\">│</span>                                                                                                                 <span style=\"color: #800080; text-decoration-color: #800080\">│</span>\n",
       "<span style=\"color: #800080; text-decoration-color: #800080\">╰─────────────────────────────────────────────────────────────────────────────────────────────────────────────────╯</span>\n",
       "</pre>\n"
      ],
      "text/plain": [
       "\u001b[35m╭─\u001b[0m\u001b[35m──────────────────────────────────────────────\u001b[0m\u001b[35m 🤖 Agent Started \u001b[0m\u001b[35m───────────────────────────────────────────────\u001b[0m\u001b[35m─╮\u001b[0m\n",
       "\u001b[35m│\u001b[0m                                                                                                                 \u001b[35m│\u001b[0m\n",
       "\u001b[35m│\u001b[0m  \u001b[37mAgent: \u001b[0m\u001b[1;92mГенератор идей\u001b[0m                                                                                          \u001b[35m│\u001b[0m\n",
       "\u001b[35m│\u001b[0m                                                                                                                 \u001b[35m│\u001b[0m\n",
       "\u001b[35m│\u001b[0m  \u001b[37mTask: \u001b[0m\u001b[92mПридумай 5 оригинальных идей для технологических стартапов. Пиши на русском языке\u001b[0m                        \u001b[35m│\u001b[0m\n",
       "\u001b[35m│\u001b[0m                                                                                                                 \u001b[35m│\u001b[0m\n",
       "\u001b[35m╰─────────────────────────────────────────────────────────────────────────────────────────────────────────────────╯\u001b[0m\n"
      ]
     },
     "metadata": {},
     "output_type": "display_data"
    },
    {
     "data": {
      "text/html": [
       "<pre style=\"white-space:pre;overflow-x:auto;line-height:normal;font-family:Menlo,'DejaVu Sans Mono',consolas,'Courier New',monospace\">\n",
       "</pre>\n"
      ],
      "text/plain": [
       "\n"
      ]
     },
     "metadata": {},
     "output_type": "display_data"
    },
    {
     "data": {
      "application/vnd.jupyter.widget-view+json": {
       "model_id": "8784ac8857864c0da5b6d39eb257e715",
       "version_major": 2,
       "version_minor": 0
      },
      "text/plain": [
       "Output()"
      ]
     },
     "metadata": {},
     "output_type": "display_data"
    },
    {
     "data": {
      "text/html": [
       "<pre style=\"white-space:pre;overflow-x:auto;line-height:normal;font-family:Menlo,'DejaVu Sans Mono',consolas,'Courier New',monospace\"></pre>\n"
      ],
      "text/plain": []
     },
     "metadata": {},
     "output_type": "display_data"
    },
    {
     "data": {
      "text/html": [
       "<pre style=\"white-space:pre;overflow-x:auto;line-height:normal;font-family:Menlo,'DejaVu Sans Mono',consolas,'Courier New',monospace\"><span style=\"color: #008000; text-decoration-color: #008000\">╭───────────────────────────────────────────── ✅ Agent Final Answer ─────────────────────────────────────────────╮</span>\n",
       "<span style=\"color: #008000; text-decoration-color: #008000\">│</span>                                                                                                                 <span style=\"color: #008000; text-decoration-color: #008000\">│</span>\n",
       "<span style=\"color: #008000; text-decoration-color: #008000\">│</span>  <span style=\"color: #c0c0c0; text-decoration-color: #c0c0c0\">Agent: </span><span style=\"color: #00ff00; text-decoration-color: #00ff00; font-weight: bold\">Генератор идей</span>                                                                                          <span style=\"color: #008000; text-decoration-color: #008000\">│</span>\n",
       "<span style=\"color: #008000; text-decoration-color: #008000\">│</span>                                                                                                                 <span style=\"color: #008000; text-decoration-color: #008000\">│</span>\n",
       "<span style=\"color: #008000; text-decoration-color: #008000\">│</span>  <span style=\"color: #c0c0c0; text-decoration-color: #c0c0c0\">Final Answer:</span>                                                                                                  <span style=\"color: #008000; text-decoration-color: #008000\">│</span>\n",
       "<span style=\"color: #008000; text-decoration-color: #008000\">│</span>  <span style=\"color: #00ff00; text-decoration-color: #00ff00\">1. **Агротех стартап - \"Зеленая Планета\"**</span>                                                                     <span style=\"color: #008000; text-decoration-color: #008000\">│</span>\n",
       "<span style=\"color: #008000; text-decoration-color: #008000\">│</span>  <span style=\"color: #00ff00; text-decoration-color: #00ff00\">   - Идея: Разработка и внедрение умных систем для сельского хозяйства, которые помогут фермерам </span>              <span style=\"color: #008000; text-decoration-color: #008000\">│</span>\n",
       "<span style=\"color: #008000; text-decoration-color: #008000\">│</span>  <span style=\"color: #00ff00; text-decoration-color: #00ff00\">оптимизировать использование воды, удобрений, а также предотвращать болезни растений.</span>                          <span style=\"color: #008000; text-decoration-color: #008000\">│</span>\n",
       "<span style=\"color: #008000; text-decoration-color: #008000\">│</span>  <span style=\"color: #00ff00; text-decoration-color: #00ff00\">   - Технологии: IoT, Machine Learning, беспроводные датчики, блокчейн для отслеживания происхождения </span>         <span style=\"color: #008000; text-decoration-color: #008000\">│</span>\n",
       "<span style=\"color: #008000; text-decoration-color: #008000\">│</span>  <span style=\"color: #00ff00; text-decoration-color: #00ff00\">продуктов.</span>                                                                                                     <span style=\"color: #008000; text-decoration-color: #008000\">│</span>\n",
       "<span style=\"color: #008000; text-decoration-color: #008000\">│</span>  <span style=\"color: #00ff00; text-decoration-color: #00ff00\">   - Рынок: Сельскохозяйственная промышленность.</span>                                                               <span style=\"color: #008000; text-decoration-color: #008000\">│</span>\n",
       "<span style=\"color: #008000; text-decoration-color: #008000\">│</span>                                                                                                                 <span style=\"color: #008000; text-decoration-color: #008000\">│</span>\n",
       "<span style=\"color: #008000; text-decoration-color: #008000\">│</span>  <span style=\"color: #00ff00; text-decoration-color: #00ff00\">2. **Стартап в области здравоохранения - \"Здоровый Образ\"**</span>                                                    <span style=\"color: #008000; text-decoration-color: #008000\">│</span>\n",
       "<span style=\"color: #008000; text-decoration-color: #008000\">│</span>  <span style=\"color: #00ff00; text-decoration-color: #00ff00\">   - Идея: Создание искусственного интеллекта, который поможет диагностировать заболевания на ранних стадиях </span>  <span style=\"color: #008000; text-decoration-color: #008000\">│</span>\n",
       "<span style=\"color: #008000; text-decoration-color: #008000\">│</span>  <span style=\"color: #00ff00; text-decoration-color: #00ff00\">путем анализа изображений медицинских тестов и истории болезни пациента.</span>                                       <span style=\"color: #008000; text-decoration-color: #008000\">│</span>\n",
       "<span style=\"color: #008000; text-decoration-color: #008000\">│</span>  <span style=\"color: #00ff00; text-decoration-color: #00ff00\">   - Технологии: Deep Learning, Computer Vision, Natural Language Processing (NLP).</span>                            <span style=\"color: #008000; text-decoration-color: #008000\">│</span>\n",
       "<span style=\"color: #008000; text-decoration-color: #008000\">│</span>  <span style=\"color: #00ff00; text-decoration-color: #00ff00\">   - Рынок: Медицинская промышленность.</span>                                                                        <span style=\"color: #008000; text-decoration-color: #008000\">│</span>\n",
       "<span style=\"color: #008000; text-decoration-color: #008000\">│</span>                                                                                                                 <span style=\"color: #008000; text-decoration-color: #008000\">│</span>\n",
       "<span style=\"color: #008000; text-decoration-color: #008000\">│</span>  <span style=\"color: #00ff00; text-decoration-color: #00ff00\">3. **Стартап в области образования - \"Умный Школьник\"**</span>                                                        <span style=\"color: #008000; text-decoration-color: #008000\">│</span>\n",
       "<span style=\"color: #008000; text-decoration-color: #008000\">│</span>  <span style=\"color: #00ff00; text-decoration-color: #00ff00\">   - Идея: Разработка персонализированной платформы для обучения, которая использует Machine Learning для </span>     <span style=\"color: #008000; text-decoration-color: #008000\">│</span>\n",
       "<span style=\"color: #008000; text-decoration-color: #008000\">│</span>  <span style=\"color: #00ff00; text-decoration-color: #00ff00\">адаптации содержимого и темпа обучения к индивидуальным потребностям учащегося.</span>                                <span style=\"color: #008000; text-decoration-color: #008000\">│</span>\n",
       "<span style=\"color: #008000; text-decoration-color: #008000\">│</span>  <span style=\"color: #00ff00; text-decoration-color: #00ff00\">   - Технологии: Machine Learning, Personalized Content Recommendation System.</span>                                 <span style=\"color: #008000; text-decoration-color: #008000\">│</span>\n",
       "<span style=\"color: #008000; text-decoration-color: #008000\">│</span>  <span style=\"color: #00ff00; text-decoration-color: #00ff00\">   - Рынок: Образовательные учреждения.</span>                                                                        <span style=\"color: #008000; text-decoration-color: #008000\">│</span>\n",
       "<span style=\"color: #008000; text-decoration-color: #008000\">│</span>                                                                                                                 <span style=\"color: #008000; text-decoration-color: #008000\">│</span>\n",
       "<span style=\"color: #008000; text-decoration-color: #008000\">│</span>  <span style=\"color: #00ff00; text-decoration-color: #00ff00\">4. **Стартап в области мобильных приложений - \"Эко-карта\"**</span>                                                    <span style=\"color: #008000; text-decoration-color: #008000\">│</span>\n",
       "<span style=\"color: #008000; text-decoration-color: #008000\">│</span>  <span style=\"color: #00ff00; text-decoration-color: #00ff00\">   - Идея: Создание геолокационного мобильного приложения, которое поможет пользователям находить </span>             <span style=\"color: #008000; text-decoration-color: #008000\">│</span>\n",
       "<span style=\"color: #008000; text-decoration-color: #008000\">│</span>  <span style=\"color: #00ff00; text-decoration-color: #00ff00\">экологически чистые продукты и услуги поблизости.</span>                                                              <span style=\"color: #008000; text-decoration-color: #008000\">│</span>\n",
       "<span style=\"color: #008000; text-decoration-color: #008000\">│</span>  <span style=\"color: #00ff00; text-decoration-color: #00ff00\">   - Технологии: Геолокация, Mobile App Development.</span>                                                           <span style=\"color: #008000; text-decoration-color: #008000\">│</span>\n",
       "<span style=\"color: #008000; text-decoration-color: #008000\">│</span>  <span style=\"color: #00ff00; text-decoration-color: #00ff00\">   - Рынок: Забота об окружающей среде.</span>                                                                        <span style=\"color: #008000; text-decoration-color: #008000\">│</span>\n",
       "<span style=\"color: #008000; text-decoration-color: #008000\">│</span>                                                                                                                 <span style=\"color: #008000; text-decoration-color: #008000\">│</span>\n",
       "<span style=\"color: #008000; text-decoration-color: #008000\">│</span>  <span style=\"color: #00ff00; text-decoration-color: #00ff00\">5. **Стартап в области кибербезопасности - \"Защитник Данных\"**</span>                                                 <span style=\"color: #008000; text-decoration-color: #008000\">│</span>\n",
       "<span style=\"color: #008000; text-decoration-color: #008000\">│</span>  <span style=\"color: #00ff00; text-decoration-color: #00ff00\">   - Идея: Разработка решения для предотвращения и обнаружения кибератак на основе Machine Learning, которое </span>  <span style=\"color: #008000; text-decoration-color: #008000\">│</span>\n",
       "<span style=\"color: #008000; text-decoration-color: #008000\">│</span>  <span style=\"color: #00ff00; text-decoration-color: #00ff00\">будет мониторить сетевой трафик и блокировать подозрительную активность в режиме реального времени.</span>            <span style=\"color: #008000; text-decoration-color: #008000\">│</span>\n",
       "<span style=\"color: #008000; text-decoration-color: #008000\">│</span>  <span style=\"color: #00ff00; text-decoration-color: #00ff00\">   - Технологии: Machine Learning, Network Traffic Monitoring, Intrusion Detection System (IDS).</span>               <span style=\"color: #008000; text-decoration-color: #008000\">│</span>\n",
       "<span style=\"color: #008000; text-decoration-color: #008000\">│</span>  <span style=\"color: #00ff00; text-decoration-color: #00ff00\">   - Рынок: Индустрия кибербезопасности.</span>                                                                       <span style=\"color: #008000; text-decoration-color: #008000\">│</span>\n",
       "<span style=\"color: #008000; text-decoration-color: #008000\">│</span>                                                                                                                 <span style=\"color: #008000; text-decoration-color: #008000\">│</span>\n",
       "<span style=\"color: #008000; text-decoration-color: #008000\">╰─────────────────────────────────────────────────────────────────────────────────────────────────────────────────╯</span>\n",
       "</pre>\n"
      ],
      "text/plain": [
       "\u001b[32m╭─\u001b[0m\u001b[32m────────────────────────────────────────────\u001b[0m\u001b[32m ✅ Agent Final Answer \u001b[0m\u001b[32m────────────────────────────────────────────\u001b[0m\u001b[32m─╮\u001b[0m\n",
       "\u001b[32m│\u001b[0m                                                                                                                 \u001b[32m│\u001b[0m\n",
       "\u001b[32m│\u001b[0m  \u001b[37mAgent: \u001b[0m\u001b[1;92mГенератор идей\u001b[0m                                                                                          \u001b[32m│\u001b[0m\n",
       "\u001b[32m│\u001b[0m                                                                                                                 \u001b[32m│\u001b[0m\n",
       "\u001b[32m│\u001b[0m  \u001b[37mFinal Answer:\u001b[0m                                                                                                  \u001b[32m│\u001b[0m\n",
       "\u001b[32m│\u001b[0m  \u001b[92m1. **Агротех стартап - \"Зеленая Планета\"**\u001b[0m                                                                     \u001b[32m│\u001b[0m\n",
       "\u001b[32m│\u001b[0m  \u001b[92m   - Идея: Разработка и внедрение умных систем для сельского хозяйства, которые помогут фермерам \u001b[0m              \u001b[32m│\u001b[0m\n",
       "\u001b[32m│\u001b[0m  \u001b[92mоптимизировать использование воды, удобрений, а также предотвращать болезни растений.\u001b[0m                          \u001b[32m│\u001b[0m\n",
       "\u001b[32m│\u001b[0m  \u001b[92m   - Технологии: IoT, Machine Learning, беспроводные датчики, блокчейн для отслеживания происхождения \u001b[0m         \u001b[32m│\u001b[0m\n",
       "\u001b[32m│\u001b[0m  \u001b[92mпродуктов.\u001b[0m                                                                                                     \u001b[32m│\u001b[0m\n",
       "\u001b[32m│\u001b[0m  \u001b[92m   - Рынок: Сельскохозяйственная промышленность.\u001b[0m                                                               \u001b[32m│\u001b[0m\n",
       "\u001b[32m│\u001b[0m                                                                                                                 \u001b[32m│\u001b[0m\n",
       "\u001b[32m│\u001b[0m  \u001b[92m2. **Стартап в области здравоохранения - \"Здоровый Образ\"**\u001b[0m                                                    \u001b[32m│\u001b[0m\n",
       "\u001b[32m│\u001b[0m  \u001b[92m   - Идея: Создание искусственного интеллекта, который поможет диагностировать заболевания на ранних стадиях \u001b[0m  \u001b[32m│\u001b[0m\n",
       "\u001b[32m│\u001b[0m  \u001b[92mпутем анализа изображений медицинских тестов и истории болезни пациента.\u001b[0m                                       \u001b[32m│\u001b[0m\n",
       "\u001b[32m│\u001b[0m  \u001b[92m   - Технологии: Deep Learning, Computer Vision, Natural Language Processing (NLP).\u001b[0m                            \u001b[32m│\u001b[0m\n",
       "\u001b[32m│\u001b[0m  \u001b[92m   - Рынок: Медицинская промышленность.\u001b[0m                                                                        \u001b[32m│\u001b[0m\n",
       "\u001b[32m│\u001b[0m                                                                                                                 \u001b[32m│\u001b[0m\n",
       "\u001b[32m│\u001b[0m  \u001b[92m3. **Стартап в области образования - \"Умный Школьник\"**\u001b[0m                                                        \u001b[32m│\u001b[0m\n",
       "\u001b[32m│\u001b[0m  \u001b[92m   - Идея: Разработка персонализированной платформы для обучения, которая использует Machine Learning для \u001b[0m     \u001b[32m│\u001b[0m\n",
       "\u001b[32m│\u001b[0m  \u001b[92mадаптации содержимого и темпа обучения к индивидуальным потребностям учащегося.\u001b[0m                                \u001b[32m│\u001b[0m\n",
       "\u001b[32m│\u001b[0m  \u001b[92m   - Технологии: Machine Learning, Personalized Content Recommendation System.\u001b[0m                                 \u001b[32m│\u001b[0m\n",
       "\u001b[32m│\u001b[0m  \u001b[92m   - Рынок: Образовательные учреждения.\u001b[0m                                                                        \u001b[32m│\u001b[0m\n",
       "\u001b[32m│\u001b[0m                                                                                                                 \u001b[32m│\u001b[0m\n",
       "\u001b[32m│\u001b[0m  \u001b[92m4. **Стартап в области мобильных приложений - \"Эко-карта\"**\u001b[0m                                                    \u001b[32m│\u001b[0m\n",
       "\u001b[32m│\u001b[0m  \u001b[92m   - Идея: Создание геолокационного мобильного приложения, которое поможет пользователям находить \u001b[0m             \u001b[32m│\u001b[0m\n",
       "\u001b[32m│\u001b[0m  \u001b[92mэкологически чистые продукты и услуги поблизости.\u001b[0m                                                              \u001b[32m│\u001b[0m\n",
       "\u001b[32m│\u001b[0m  \u001b[92m   - Технологии: Геолокация, Mobile App Development.\u001b[0m                                                           \u001b[32m│\u001b[0m\n",
       "\u001b[32m│\u001b[0m  \u001b[92m   - Рынок: Забота об окружающей среде.\u001b[0m                                                                        \u001b[32m│\u001b[0m\n",
       "\u001b[32m│\u001b[0m                                                                                                                 \u001b[32m│\u001b[0m\n",
       "\u001b[32m│\u001b[0m  \u001b[92m5. **Стартап в области кибербезопасности - \"Защитник Данных\"**\u001b[0m                                                 \u001b[32m│\u001b[0m\n",
       "\u001b[32m│\u001b[0m  \u001b[92m   - Идея: Разработка решения для предотвращения и обнаружения кибератак на основе Machine Learning, которое \u001b[0m  \u001b[32m│\u001b[0m\n",
       "\u001b[32m│\u001b[0m  \u001b[92mбудет мониторить сетевой трафик и блокировать подозрительную активность в режиме реального времени.\u001b[0m            \u001b[32m│\u001b[0m\n",
       "\u001b[32m│\u001b[0m  \u001b[92m   - Технологии: Machine Learning, Network Traffic Monitoring, Intrusion Detection System (IDS).\u001b[0m               \u001b[32m│\u001b[0m\n",
       "\u001b[32m│\u001b[0m  \u001b[92m   - Рынок: Индустрия кибербезопасности.\u001b[0m                                                                       \u001b[32m│\u001b[0m\n",
       "\u001b[32m│\u001b[0m                                                                                                                 \u001b[32m│\u001b[0m\n",
       "\u001b[32m╰─────────────────────────────────────────────────────────────────────────────────────────────────────────────────╯\u001b[0m\n"
      ]
     },
     "metadata": {},
     "output_type": "display_data"
    },
    {
     "data": {
      "text/html": [
       "<pre style=\"white-space:pre;overflow-x:auto;line-height:normal;font-family:Menlo,'DejaVu Sans Mono',consolas,'Courier New',monospace\">\n",
       "</pre>\n"
      ],
      "text/plain": [
       "\n"
      ]
     },
     "metadata": {},
     "output_type": "display_data"
    },
    {
     "data": {
      "text/html": [
       "<pre style=\"white-space:pre;overflow-x:auto;line-height:normal;font-family:Menlo,'DejaVu Sans Mono',consolas,'Courier New',monospace\"></pre>\n"
      ],
      "text/plain": []
     },
     "metadata": {},
     "output_type": "display_data"
    },
    {
     "data": {
      "text/html": [
       "<pre style=\"white-space:pre;overflow-x:auto;line-height:normal;font-family:Menlo,'DejaVu Sans Mono',consolas,'Courier New',monospace\"><span style=\"color: #008000; text-decoration-color: #008000\">╭──────────────────────────────────────────────── Task Completion ────────────────────────────────────────────────╮</span>\n",
       "<span style=\"color: #008000; text-decoration-color: #008000\">│</span>                                                                                                                 <span style=\"color: #008000; text-decoration-color: #008000\">│</span>\n",
       "<span style=\"color: #008000; text-decoration-color: #008000\">│</span>  <span style=\"color: #008000; text-decoration-color: #008000; font-weight: bold\">Task Completed</span>                                                                                                 <span style=\"color: #008000; text-decoration-color: #008000\">│</span>\n",
       "<span style=\"color: #008000; text-decoration-color: #008000\">│</span>  <span style=\"color: #c0c0c0; text-decoration-color: #c0c0c0\">Name: </span><span style=\"color: #008000; text-decoration-color: #008000\">a49d80de-13cb-431f-b02c-c4958843f7bc</span>                                                                     <span style=\"color: #008000; text-decoration-color: #008000\">│</span>\n",
       "<span style=\"color: #008000; text-decoration-color: #008000\">│</span>  <span style=\"color: #c0c0c0; text-decoration-color: #c0c0c0\">Agent: </span><span style=\"color: #008000; text-decoration-color: #008000\">Генератор идей</span>                                                                                          <span style=\"color: #008000; text-decoration-color: #008000\">│</span>\n",
       "<span style=\"color: #008000; text-decoration-color: #008000\">│</span>  <span style=\"color: #c0c0c0; text-decoration-color: #c0c0c0\">Tool Args: </span>                                                                                                    <span style=\"color: #008000; text-decoration-color: #008000\">│</span>\n",
       "<span style=\"color: #008000; text-decoration-color: #008000\">│</span>                                                                                                                 <span style=\"color: #008000; text-decoration-color: #008000\">│</span>\n",
       "<span style=\"color: #008000; text-decoration-color: #008000\">│</span>                                                                                                                 <span style=\"color: #008000; text-decoration-color: #008000\">│</span>\n",
       "<span style=\"color: #008000; text-decoration-color: #008000\">╰─────────────────────────────────────────────────────────────────────────────────────────────────────────────────╯</span>\n",
       "</pre>\n"
      ],
      "text/plain": [
       "\u001b[32m╭─\u001b[0m\u001b[32m───────────────────────────────────────────────\u001b[0m\u001b[32m Task Completion \u001b[0m\u001b[32m───────────────────────────────────────────────\u001b[0m\u001b[32m─╮\u001b[0m\n",
       "\u001b[32m│\u001b[0m                                                                                                                 \u001b[32m│\u001b[0m\n",
       "\u001b[32m│\u001b[0m  \u001b[1;32mTask Completed\u001b[0m                                                                                                 \u001b[32m│\u001b[0m\n",
       "\u001b[32m│\u001b[0m  \u001b[37mName: \u001b[0m\u001b[32ma49d80de-13cb-431f-b02c-c4958843f7bc\u001b[0m                                                                     \u001b[32m│\u001b[0m\n",
       "\u001b[32m│\u001b[0m  \u001b[37mAgent: \u001b[0m\u001b[32mГенератор идей\u001b[0m                                                                                          \u001b[32m│\u001b[0m\n",
       "\u001b[32m│\u001b[0m  \u001b[37mTool Args: \u001b[0m                                                                                                    \u001b[32m│\u001b[0m\n",
       "\u001b[32m│\u001b[0m                                                                                                                 \u001b[32m│\u001b[0m\n",
       "\u001b[32m│\u001b[0m                                                                                                                 \u001b[32m│\u001b[0m\n",
       "\u001b[32m╰─────────────────────────────────────────────────────────────────────────────────────────────────────────────────╯\u001b[0m\n"
      ]
     },
     "metadata": {},
     "output_type": "display_data"
    },
    {
     "data": {
      "text/html": [
       "<pre style=\"white-space:pre;overflow-x:auto;line-height:normal;font-family:Menlo,'DejaVu Sans Mono',consolas,'Courier New',monospace\">\n",
       "</pre>\n"
      ],
      "text/plain": [
       "\n"
      ]
     },
     "metadata": {},
     "output_type": "display_data"
    },
    {
     "data": {
      "text/html": [
       "<pre style=\"white-space:pre;overflow-x:auto;line-height:normal;font-family:Menlo,'DejaVu Sans Mono',consolas,'Courier New',monospace\"><span style=\"color: #008000; text-decoration-color: #008000\">╭──────────────────────────────────────────────── Crew Completion ────────────────────────────────────────────────╮</span>\n",
       "<span style=\"color: #008000; text-decoration-color: #008000\">│</span>                                                                                                                 <span style=\"color: #008000; text-decoration-color: #008000\">│</span>\n",
       "<span style=\"color: #008000; text-decoration-color: #008000\">│</span>  <span style=\"color: #008000; text-decoration-color: #008000; font-weight: bold\">Crew Execution Completed</span>                                                                                       <span style=\"color: #008000; text-decoration-color: #008000\">│</span>\n",
       "<span style=\"color: #008000; text-decoration-color: #008000\">│</span>  <span style=\"color: #c0c0c0; text-decoration-color: #c0c0c0\">Name: </span><span style=\"color: #008000; text-decoration-color: #008000\">crew</span>                                                                                                     <span style=\"color: #008000; text-decoration-color: #008000\">│</span>\n",
       "<span style=\"color: #008000; text-decoration-color: #008000\">│</span>  <span style=\"color: #c0c0c0; text-decoration-color: #c0c0c0\">ID: </span><span style=\"color: #008000; text-decoration-color: #008000\">d2c5d962-dc4e-4a30-9c3c-40d5a7932f12</span>                                                                       <span style=\"color: #008000; text-decoration-color: #008000\">│</span>\n",
       "<span style=\"color: #008000; text-decoration-color: #008000\">│</span>  <span style=\"color: #c0c0c0; text-decoration-color: #c0c0c0\">Tool Args: </span>                                                                                                    <span style=\"color: #008000; text-decoration-color: #008000\">│</span>\n",
       "<span style=\"color: #008000; text-decoration-color: #008000\">│</span>  <span style=\"color: #c0c0c0; text-decoration-color: #c0c0c0\">Final Output: 1. **Агротех стартап - \"Зеленая Планета\"**</span>                                                       <span style=\"color: #008000; text-decoration-color: #008000\">│</span>\n",
       "<span style=\"color: #008000; text-decoration-color: #008000\">│</span>  <span style=\"color: #c0c0c0; text-decoration-color: #c0c0c0\">   - Идея: Разработка и внедрение умных систем для сельского хозяйства, которые помогут фермерам </span>              <span style=\"color: #008000; text-decoration-color: #008000\">│</span>\n",
       "<span style=\"color: #008000; text-decoration-color: #008000\">│</span>  <span style=\"color: #c0c0c0; text-decoration-color: #c0c0c0\">оптимизировать использование воды, удобрений, а также предотвращать болезни растений.</span>                          <span style=\"color: #008000; text-decoration-color: #008000\">│</span>\n",
       "<span style=\"color: #008000; text-decoration-color: #008000\">│</span>  <span style=\"color: #c0c0c0; text-decoration-color: #c0c0c0\">   - Технологии: IoT, Machine Learning, беспроводные датчики, блокчейн для отслеживания происхождения </span>         <span style=\"color: #008000; text-decoration-color: #008000\">│</span>\n",
       "<span style=\"color: #008000; text-decoration-color: #008000\">│</span>  <span style=\"color: #c0c0c0; text-decoration-color: #c0c0c0\">продуктов.</span>                                                                                                     <span style=\"color: #008000; text-decoration-color: #008000\">│</span>\n",
       "<span style=\"color: #008000; text-decoration-color: #008000\">│</span>  <span style=\"color: #c0c0c0; text-decoration-color: #c0c0c0\">   - Рынок: Сельскохозяйственная промышленность.</span>                                                               <span style=\"color: #008000; text-decoration-color: #008000\">│</span>\n",
       "<span style=\"color: #008000; text-decoration-color: #008000\">│</span>                                                                                                                 <span style=\"color: #008000; text-decoration-color: #008000\">│</span>\n",
       "<span style=\"color: #008000; text-decoration-color: #008000\">│</span>  <span style=\"color: #c0c0c0; text-decoration-color: #c0c0c0\">2. **Стартап в области здравоохранения - \"Здоровый Образ\"**</span>                                                    <span style=\"color: #008000; text-decoration-color: #008000\">│</span>\n",
       "<span style=\"color: #008000; text-decoration-color: #008000\">│</span>  <span style=\"color: #c0c0c0; text-decoration-color: #c0c0c0\">   - Идея: Создание искусственного интеллекта, который поможет диагностировать заболевания на ранних стадиях </span>  <span style=\"color: #008000; text-decoration-color: #008000\">│</span>\n",
       "<span style=\"color: #008000; text-decoration-color: #008000\">│</span>  <span style=\"color: #c0c0c0; text-decoration-color: #c0c0c0\">путем анализа изображений медицинских тестов и истории болезни пациента.</span>                                       <span style=\"color: #008000; text-decoration-color: #008000\">│</span>\n",
       "<span style=\"color: #008000; text-decoration-color: #008000\">│</span>  <span style=\"color: #c0c0c0; text-decoration-color: #c0c0c0\">   - Технологии: Deep Learning, Computer Vision, Natural Language Processing (NLP).</span>                            <span style=\"color: #008000; text-decoration-color: #008000\">│</span>\n",
       "<span style=\"color: #008000; text-decoration-color: #008000\">│</span>  <span style=\"color: #c0c0c0; text-decoration-color: #c0c0c0\">   - Рынок: Медицинская промышленность.</span>                                                                        <span style=\"color: #008000; text-decoration-color: #008000\">│</span>\n",
       "<span style=\"color: #008000; text-decoration-color: #008000\">│</span>                                                                                                                 <span style=\"color: #008000; text-decoration-color: #008000\">│</span>\n",
       "<span style=\"color: #008000; text-decoration-color: #008000\">│</span>  <span style=\"color: #c0c0c0; text-decoration-color: #c0c0c0\">3. **Стартап в области образования - \"Умный Школьник\"**</span>                                                        <span style=\"color: #008000; text-decoration-color: #008000\">│</span>\n",
       "<span style=\"color: #008000; text-decoration-color: #008000\">│</span>  <span style=\"color: #c0c0c0; text-decoration-color: #c0c0c0\">   - Идея: Разработка персонализированной платформы для обучения, которая использует Machine Learning для </span>     <span style=\"color: #008000; text-decoration-color: #008000\">│</span>\n",
       "<span style=\"color: #008000; text-decoration-color: #008000\">│</span>  <span style=\"color: #c0c0c0; text-decoration-color: #c0c0c0\">адаптации содержимого и темпа обучения к индивидуальным потребностям учащегося.</span>                                <span style=\"color: #008000; text-decoration-color: #008000\">│</span>\n",
       "<span style=\"color: #008000; text-decoration-color: #008000\">│</span>  <span style=\"color: #c0c0c0; text-decoration-color: #c0c0c0\">   - Технологии: Machine Learning, Personalized Content Recommendation System.</span>                                 <span style=\"color: #008000; text-decoration-color: #008000\">│</span>\n",
       "<span style=\"color: #008000; text-decoration-color: #008000\">│</span>  <span style=\"color: #c0c0c0; text-decoration-color: #c0c0c0\">   - Рынок: Образовательные учреждения.</span>                                                                        <span style=\"color: #008000; text-decoration-color: #008000\">│</span>\n",
       "<span style=\"color: #008000; text-decoration-color: #008000\">│</span>                                                                                                                 <span style=\"color: #008000; text-decoration-color: #008000\">│</span>\n",
       "<span style=\"color: #008000; text-decoration-color: #008000\">│</span>  <span style=\"color: #c0c0c0; text-decoration-color: #c0c0c0\">4. **Стартап в области мобильных приложений - \"Эко-карта\"**</span>                                                    <span style=\"color: #008000; text-decoration-color: #008000\">│</span>\n",
       "<span style=\"color: #008000; text-decoration-color: #008000\">│</span>  <span style=\"color: #c0c0c0; text-decoration-color: #c0c0c0\">   - Идея: Создание геолокационного мобильного приложения, которое поможет пользователям находить </span>             <span style=\"color: #008000; text-decoration-color: #008000\">│</span>\n",
       "<span style=\"color: #008000; text-decoration-color: #008000\">│</span>  <span style=\"color: #c0c0c0; text-decoration-color: #c0c0c0\">экологически чистые продукты и услуги поблизости.</span>                                                              <span style=\"color: #008000; text-decoration-color: #008000\">│</span>\n",
       "<span style=\"color: #008000; text-decoration-color: #008000\">│</span>  <span style=\"color: #c0c0c0; text-decoration-color: #c0c0c0\">   - Технологии: Геолокация, Mobile App Development.</span>                                                           <span style=\"color: #008000; text-decoration-color: #008000\">│</span>\n",
       "<span style=\"color: #008000; text-decoration-color: #008000\">│</span>  <span style=\"color: #c0c0c0; text-decoration-color: #c0c0c0\">   - Рынок: Забота об окружающей среде.</span>                                                                        <span style=\"color: #008000; text-decoration-color: #008000\">│</span>\n",
       "<span style=\"color: #008000; text-decoration-color: #008000\">│</span>                                                                                                                 <span style=\"color: #008000; text-decoration-color: #008000\">│</span>\n",
       "<span style=\"color: #008000; text-decoration-color: #008000\">│</span>  <span style=\"color: #c0c0c0; text-decoration-color: #c0c0c0\">5. **Стартап в области кибербезопасности - \"Защитник Данных\"**</span>                                                 <span style=\"color: #008000; text-decoration-color: #008000\">│</span>\n",
       "<span style=\"color: #008000; text-decoration-color: #008000\">│</span>  <span style=\"color: #c0c0c0; text-decoration-color: #c0c0c0\">   - Идея: Разработка решения для предотвращения и обнаружения кибератак на основе Machine Learning, которое </span>  <span style=\"color: #008000; text-decoration-color: #008000\">│</span>\n",
       "<span style=\"color: #008000; text-decoration-color: #008000\">│</span>  <span style=\"color: #c0c0c0; text-decoration-color: #c0c0c0\">будет мониторить сетевой трафик и блокировать подозрительную активность в режиме реального времени.</span>            <span style=\"color: #008000; text-decoration-color: #008000\">│</span>\n",
       "<span style=\"color: #008000; text-decoration-color: #008000\">│</span>  <span style=\"color: #c0c0c0; text-decoration-color: #c0c0c0\">   - Технологии: Machine Learning, Network Traffic Monitoring, Intrusion Detection System (IDS).</span>               <span style=\"color: #008000; text-decoration-color: #008000\">│</span>\n",
       "<span style=\"color: #008000; text-decoration-color: #008000\">│</span>  <span style=\"color: #c0c0c0; text-decoration-color: #c0c0c0\">   - Рынок: Индустрия кибербезопасности.</span>                                                                       <span style=\"color: #008000; text-decoration-color: #008000\">│</span>\n",
       "<span style=\"color: #008000; text-decoration-color: #008000\">│</span>                                                                                                                 <span style=\"color: #008000; text-decoration-color: #008000\">│</span>\n",
       "<span style=\"color: #008000; text-decoration-color: #008000\">│</span>                                                                                                                 <span style=\"color: #008000; text-decoration-color: #008000\">│</span>\n",
       "<span style=\"color: #008000; text-decoration-color: #008000\">╰─────────────────────────────────────────────────────────────────────────────────────────────────────────────────╯</span>\n",
       "</pre>\n"
      ],
      "text/plain": [
       "\u001b[32m╭─\u001b[0m\u001b[32m───────────────────────────────────────────────\u001b[0m\u001b[32m Crew Completion \u001b[0m\u001b[32m───────────────────────────────────────────────\u001b[0m\u001b[32m─╮\u001b[0m\n",
       "\u001b[32m│\u001b[0m                                                                                                                 \u001b[32m│\u001b[0m\n",
       "\u001b[32m│\u001b[0m  \u001b[1;32mCrew Execution Completed\u001b[0m                                                                                       \u001b[32m│\u001b[0m\n",
       "\u001b[32m│\u001b[0m  \u001b[37mName: \u001b[0m\u001b[32mcrew\u001b[0m                                                                                                     \u001b[32m│\u001b[0m\n",
       "\u001b[32m│\u001b[0m  \u001b[37mID: \u001b[0m\u001b[32md2c5d962-dc4e-4a30-9c3c-40d5a7932f12\u001b[0m                                                                       \u001b[32m│\u001b[0m\n",
       "\u001b[32m│\u001b[0m  \u001b[37mTool Args: \u001b[0m                                                                                                    \u001b[32m│\u001b[0m\n",
       "\u001b[32m│\u001b[0m  \u001b[37mFinal Output: 1. **Агротех стартап - \"Зеленая Планета\"**\u001b[0m                                                       \u001b[32m│\u001b[0m\n",
       "\u001b[32m│\u001b[0m  \u001b[37m   - Идея: Разработка и внедрение умных систем для сельского хозяйства, которые помогут фермерам \u001b[0m              \u001b[32m│\u001b[0m\n",
       "\u001b[32m│\u001b[0m  \u001b[37mоптимизировать использование воды, удобрений, а также предотвращать болезни растений.\u001b[0m                          \u001b[32m│\u001b[0m\n",
       "\u001b[32m│\u001b[0m  \u001b[37m   - Технологии: IoT, Machine Learning, беспроводные датчики, блокчейн для отслеживания происхождения \u001b[0m         \u001b[32m│\u001b[0m\n",
       "\u001b[32m│\u001b[0m  \u001b[37mпродуктов.\u001b[0m                                                                                                     \u001b[32m│\u001b[0m\n",
       "\u001b[32m│\u001b[0m  \u001b[37m   - Рынок: Сельскохозяйственная промышленность.\u001b[0m                                                               \u001b[32m│\u001b[0m\n",
       "\u001b[32m│\u001b[0m                                                                                                                 \u001b[32m│\u001b[0m\n",
       "\u001b[32m│\u001b[0m  \u001b[37m2. **Стартап в области здравоохранения - \"Здоровый Образ\"**\u001b[0m                                                    \u001b[32m│\u001b[0m\n",
       "\u001b[32m│\u001b[0m  \u001b[37m   - Идея: Создание искусственного интеллекта, который поможет диагностировать заболевания на ранних стадиях \u001b[0m  \u001b[32m│\u001b[0m\n",
       "\u001b[32m│\u001b[0m  \u001b[37mпутем анализа изображений медицинских тестов и истории болезни пациента.\u001b[0m                                       \u001b[32m│\u001b[0m\n",
       "\u001b[32m│\u001b[0m  \u001b[37m   - Технологии: Deep Learning, Computer Vision, Natural Language Processing (NLP).\u001b[0m                            \u001b[32m│\u001b[0m\n",
       "\u001b[32m│\u001b[0m  \u001b[37m   - Рынок: Медицинская промышленность.\u001b[0m                                                                        \u001b[32m│\u001b[0m\n",
       "\u001b[32m│\u001b[0m                                                                                                                 \u001b[32m│\u001b[0m\n",
       "\u001b[32m│\u001b[0m  \u001b[37m3. **Стартап в области образования - \"Умный Школьник\"**\u001b[0m                                                        \u001b[32m│\u001b[0m\n",
       "\u001b[32m│\u001b[0m  \u001b[37m   - Идея: Разработка персонализированной платформы для обучения, которая использует Machine Learning для \u001b[0m     \u001b[32m│\u001b[0m\n",
       "\u001b[32m│\u001b[0m  \u001b[37mадаптации содержимого и темпа обучения к индивидуальным потребностям учащегося.\u001b[0m                                \u001b[32m│\u001b[0m\n",
       "\u001b[32m│\u001b[0m  \u001b[37m   - Технологии: Machine Learning, Personalized Content Recommendation System.\u001b[0m                                 \u001b[32m│\u001b[0m\n",
       "\u001b[32m│\u001b[0m  \u001b[37m   - Рынок: Образовательные учреждения.\u001b[0m                                                                        \u001b[32m│\u001b[0m\n",
       "\u001b[32m│\u001b[0m                                                                                                                 \u001b[32m│\u001b[0m\n",
       "\u001b[32m│\u001b[0m  \u001b[37m4. **Стартап в области мобильных приложений - \"Эко-карта\"**\u001b[0m                                                    \u001b[32m│\u001b[0m\n",
       "\u001b[32m│\u001b[0m  \u001b[37m   - Идея: Создание геолокационного мобильного приложения, которое поможет пользователям находить \u001b[0m             \u001b[32m│\u001b[0m\n",
       "\u001b[32m│\u001b[0m  \u001b[37mэкологически чистые продукты и услуги поблизости.\u001b[0m                                                              \u001b[32m│\u001b[0m\n",
       "\u001b[32m│\u001b[0m  \u001b[37m   - Технологии: Геолокация, Mobile App Development.\u001b[0m                                                           \u001b[32m│\u001b[0m\n",
       "\u001b[32m│\u001b[0m  \u001b[37m   - Рынок: Забота об окружающей среде.\u001b[0m                                                                        \u001b[32m│\u001b[0m\n",
       "\u001b[32m│\u001b[0m                                                                                                                 \u001b[32m│\u001b[0m\n",
       "\u001b[32m│\u001b[0m  \u001b[37m5. **Стартап в области кибербезопасности - \"Защитник Данных\"**\u001b[0m                                                 \u001b[32m│\u001b[0m\n",
       "\u001b[32m│\u001b[0m  \u001b[37m   - Идея: Разработка решения для предотвращения и обнаружения кибератак на основе Machine Learning, которое \u001b[0m  \u001b[32m│\u001b[0m\n",
       "\u001b[32m│\u001b[0m  \u001b[37mбудет мониторить сетевой трафик и блокировать подозрительную активность в режиме реального времени.\u001b[0m            \u001b[32m│\u001b[0m\n",
       "\u001b[32m│\u001b[0m  \u001b[37m   - Технологии: Machine Learning, Network Traffic Monitoring, Intrusion Detection System (IDS).\u001b[0m               \u001b[32m│\u001b[0m\n",
       "\u001b[32m│\u001b[0m  \u001b[37m   - Рынок: Индустрия кибербезопасности.\u001b[0m                                                                       \u001b[32m│\u001b[0m\n",
       "\u001b[32m│\u001b[0m                                                                                                                 \u001b[32m│\u001b[0m\n",
       "\u001b[32m│\u001b[0m                                                                                                                 \u001b[32m│\u001b[0m\n",
       "\u001b[32m╰─────────────────────────────────────────────────────────────────────────────────────────────────────────────────╯\u001b[0m\n"
      ]
     },
     "metadata": {},
     "output_type": "display_data"
    },
    {
     "data": {
      "text/html": [
       "<pre style=\"white-space:pre;overflow-x:auto;line-height:normal;font-family:Menlo,'DejaVu Sans Mono',consolas,'Courier New',monospace\">\n",
       "</pre>\n"
      ],
      "text/plain": [
       "\n"
      ]
     },
     "metadata": {},
     "output_type": "display_data"
    },
    {
     "name": "stdout",
     "output_type": "stream",
     "text": [
      "\n",
      "🚀 Идеи:\n",
      " 1. **Агротех стартап - \"Зеленая Планета\"**\n",
      "   - Идея: Разработка и внедрение умных систем для сельского хозяйства, которые помогут фермерам оптимизировать использование воды, удобрений, а также предотвращать болезни растений.\n",
      "   - Технологии: IoT, Machine Learning, беспроводные датчики, блокчейн для отслеживания происхождения продуктов.\n",
      "   - Рынок: Сельскохозяйственная промышленность.\n",
      "\n",
      "2. **Стартап в области здравоохранения - \"Здоровый Образ\"**\n",
      "   - Идея: Создание искусственного интеллекта, который поможет диагностировать заболевания на ранних стадиях путем анализа изображений медицинских тестов и истории болезни пациента.\n",
      "   - Технологии: Deep Learning, Computer Vision, Natural Language Processing (NLP).\n",
      "   - Рынок: Медицинская промышленность.\n",
      "\n",
      "3. **Стартап в области образования - \"Умный Школьник\"**\n",
      "   - Идея: Разработка персонализированной платформы для обучения, которая использует Machine Learning для адаптации содержимого и темпа обучения к индивидуальным потребностям учащегося.\n",
      "   - Технологии: Machine Learning, Personalized Content Recommendation System.\n",
      "   - Рынок: Образовательные учреждения.\n",
      "\n",
      "4. **Стартап в области мобильных приложений - \"Эко-карта\"**\n",
      "   - Идея: Создание геолокационного мобильного приложения, которое поможет пользователям находить экологически чистые продукты и услуги поблизости.\n",
      "   - Технологии: Геолокация, Mobile App Development.\n",
      "   - Рынок: Забота об окружающей среде.\n",
      "\n",
      "5. **Стартап в области кибербезопасности - \"Защитник Данных\"**\n",
      "   - Идея: Разработка решения для предотвращения и обнаружения кибератак на основе Machine Learning, которое будет мониторить сетевой трафик и блокировать подозрительную активность в режиме реального времени.\n",
      "   - Технологии: Machine Learning, Network Traffic Monitoring, Intrusion Detection System (IDS).\n",
      "   - Рынок: Индустрия кибербезопасности.\n"
     ]
    }
   ],
   "source": [
    "from crewai import Agent, Task, Crew, LLM\n",
    "\n",
    "ollama_llm = LLM(\n",
    "  model=\"ollama/mistral-nemo:12b-instruct-2407-q3_K_L\",\n",
    "  api_base=\"http://localhost:11434\",\n",
    "  )\n",
    "\n",
    "agent = Agent(role=\"Генератор идей\", goal=\"Придумать стартапы\", backstory=\"Ты визионер.\", llm=ollama_llm, verbose=True)\n",
    "task = Task(description=\"Придумай 5 оригинальных идей для технологических стартапов. Пиши на русском языке\", \n",
    "            expected_output=\"Список из 5 идей.\", agent=agent)\n",
    "crew = Crew(agents=[agent], tasks=[task], verbose=True)\n",
    "result = crew.kickoff()\n",
    "print(\"\\n🚀 Идеи:\\n\", result)"
   ]
  },
  {
   "cell_type": "markdown",
   "metadata": {},
   "source": [
    "### 📌 **SmolAgents**\n",
    "---\n",
    "[Библиотека](https://huggingface.co/docs/smolagents/index)\n"
   ]
  },
  {
   "cell_type": "markdown",
   "metadata": {},
   "source": [
    "**SmolAgents** – минималистичная open-source-библиотека от Hugging Face для простого создания AI-агентов с помощью минимального количества кода. \n",
    "\n",
    "Главная идея – поддержать концепцию «код-агентов»: вместо генерации описания следующего действия в виде текста или JSON, агент сразу пишет и исполняет фрагменты Python-кода. Это позволяет максимально использовать возможности моделей при генерации кода и повышает гибкость логики агента.\n",
    "\n",
    "При этом SmolAgents даёт полный доступ к множеству моделей и инструментов (поиск в интернете, базы знаний и пр.) и поддерживает разные режимы ввода (текст, изображение, аудио и др.) \n",
    "\n",
    "\n",
    "Ключевые возможности и сценарии:\n",
    "- CodeAgent: основной класс агента, который выполняет Python-код. Такой подход снижает количество необходимых LLM-вызовов и улучшает композицию действий.\n",
    "\n",
    "- Интеграция с инструментами: легко добавлять существующие «тулы» (например, веб-поиск, утилиты для работы с данными). Инструменты можно загружать и делиться через Hugging Face Hub.\n",
    "\n",
    "- Поддержка моделей: можно использовать локальные трансформеры, или модели из разных провайдеров (OpenAI, Anthropic, HF), а также подключать модели через LiteLLM и другие обвязки.\n",
    "- Примеры применения: быстрое прототипирование интерактивных агентов (ответы на запросы с последующим поиском или вычислениями), генерация SQL-запросов, ответы на вопросы с использованием веб-данных и т.д. "
   ]
  },
  {
   "cell_type": "code",
   "execution_count": null,
   "metadata": {},
   "outputs": [],
   "source": [
    "from huggingface_hub import login, InferenceClient"
   ]
  },
  {
   "cell_type": "code",
   "execution_count": null,
   "metadata": {},
   "outputs": [
    {
     "data": {
      "text/html": [
       "<pre style=\"white-space:pre;overflow-x:auto;line-height:normal;font-family:Menlo,'DejaVu Sans Mono',consolas,'Courier New',monospace\"><span style=\"color: #d4b702; text-decoration-color: #d4b702\">╭──────────────────────────────────────────────────── </span><span style=\"color: #d4b702; text-decoration-color: #d4b702; font-weight: bold\">New run</span><span style=\"color: #d4b702; text-decoration-color: #d4b702\"> ────────────────────────────────────────────────────╮</span>\n",
       "<span style=\"color: #d4b702; text-decoration-color: #d4b702\">│</span>                                                                                                                 <span style=\"color: #d4b702; text-decoration-color: #d4b702\">│</span>\n",
       "<span style=\"color: #d4b702; text-decoration-color: #d4b702\">│</span> <span style=\"font-weight: bold\">Calculate the sum of numbers from 1 to 10</span>                                                                       <span style=\"color: #d4b702; text-decoration-color: #d4b702\">│</span>\n",
       "<span style=\"color: #d4b702; text-decoration-color: #d4b702\">│</span>                                                                                                                 <span style=\"color: #d4b702; text-decoration-color: #d4b702\">│</span>\n",
       "<span style=\"color: #d4b702; text-decoration-color: #d4b702\">╰─ InferenceClientModel - Qwen/Qwen2.5-Coder-32B-Instruct ────────────────────────────────────────────────────────╯</span>\n",
       "</pre>\n"
      ],
      "text/plain": [
       "\u001b[38;2;212;183;2m╭─\u001b[0m\u001b[38;2;212;183;2m───────────────────────────────────────────────────\u001b[0m\u001b[38;2;212;183;2m \u001b[0m\u001b[1;38;2;212;183;2mNew run\u001b[0m\u001b[38;2;212;183;2m \u001b[0m\u001b[38;2;212;183;2m───────────────────────────────────────────────────\u001b[0m\u001b[38;2;212;183;2m─╮\u001b[0m\n",
       "\u001b[38;2;212;183;2m│\u001b[0m                                                                                                                 \u001b[38;2;212;183;2m│\u001b[0m\n",
       "\u001b[38;2;212;183;2m│\u001b[0m \u001b[1mCalculate the sum of numbers from 1 to 10\u001b[0m                                                                       \u001b[38;2;212;183;2m│\u001b[0m\n",
       "\u001b[38;2;212;183;2m│\u001b[0m                                                                                                                 \u001b[38;2;212;183;2m│\u001b[0m\n",
       "\u001b[38;2;212;183;2m╰─\u001b[0m\u001b[38;2;212;183;2m InferenceClientModel - Qwen/Qwen2.5-Coder-32B-Instruct \u001b[0m\u001b[38;2;212;183;2m───────────────────────────────────────────────────────\u001b[0m\u001b[38;2;212;183;2m─╯\u001b[0m\n"
      ]
     },
     "metadata": {},
     "output_type": "display_data"
    },
    {
     "data": {
      "text/html": [
       "<pre style=\"white-space:pre;overflow-x:auto;line-height:normal;font-family:Menlo,'DejaVu Sans Mono',consolas,'Courier New',monospace\"><span style=\"color: #d4b702; text-decoration-color: #d4b702\">━━━━━━━━━━━━━━━━━━━━━━━━━━━━━━━━━━━━━━━━━━━━━━━━━━━━━ </span><span style=\"font-weight: bold\">Step </span><span style=\"color: #008080; text-decoration-color: #008080; font-weight: bold\">1</span><span style=\"color: #d4b702; text-decoration-color: #d4b702\"> ━━━━━━━━━━━━━━━━━━━━━━━━━━━━━━━━━━━━━━━━━━━━━━━━━━━━━━</span>\n",
       "</pre>\n"
      ],
      "text/plain": [
       "\u001b[38;2;212;183;2m━━━━━━━━━━━━━━━━━━━━━━━━━━━━━━━━━━━━━━━━━━━━━━━━━━━━━ \u001b[0m\u001b[1mStep \u001b[0m\u001b[1;36m1\u001b[0m\u001b[38;2;212;183;2m ━━━━━━━━━━━━━━━━━━━━━━━━━━━━━━━━━━━━━━━━━━━━━━━━━━━━━━\u001b[0m\n"
      ]
     },
     "metadata": {},
     "output_type": "display_data"
    },
    {
     "data": {
      "text/html": [
       "<pre style=\"white-space:pre;overflow-x:auto;line-height:normal;font-family:Menlo,'DejaVu Sans Mono',consolas,'Courier New',monospace\"> ─ <span style=\"font-weight: bold\">Executing parsed code:</span> ──────────────────────────────────────────────────────────────────────────────────────── \n",
       "  <span style=\"color: #f8f8f2; text-decoration-color: #f8f8f2; background-color: #272822\">total_sum </span><span style=\"color: #ff4689; text-decoration-color: #ff4689; background-color: #272822\">=</span><span style=\"color: #f8f8f2; text-decoration-color: #f8f8f2; background-color: #272822\"> sum(range(</span><span style=\"color: #ae81ff; text-decoration-color: #ae81ff; background-color: #272822\">1</span><span style=\"color: #f8f8f2; text-decoration-color: #f8f8f2; background-color: #272822\">, </span><span style=\"color: #ae81ff; text-decoration-color: #ae81ff; background-color: #272822\">11</span><span style=\"color: #f8f8f2; text-decoration-color: #f8f8f2; background-color: #272822\">))</span><span style=\"background-color: #272822\">                                                                                  </span>  \n",
       "  <span style=\"color: #f8f8f2; text-decoration-color: #f8f8f2; background-color: #272822\">final_answer(total_sum)</span><span style=\"background-color: #272822\">                                                                                        </span>  \n",
       " ───────────────────────────────────────────────────────────────────────────────────────────────────────────────── \n",
       "</pre>\n"
      ],
      "text/plain": [
       " ─ \u001b[1mExecuting parsed code:\u001b[0m ──────────────────────────────────────────────────────────────────────────────────────── \n",
       "  \u001b[38;2;248;248;242;48;2;39;40;34mtotal_sum\u001b[0m\u001b[38;2;248;248;242;48;2;39;40;34m \u001b[0m\u001b[38;2;255;70;137;48;2;39;40;34m=\u001b[0m\u001b[38;2;248;248;242;48;2;39;40;34m \u001b[0m\u001b[38;2;248;248;242;48;2;39;40;34msum\u001b[0m\u001b[38;2;248;248;242;48;2;39;40;34m(\u001b[0m\u001b[38;2;248;248;242;48;2;39;40;34mrange\u001b[0m\u001b[38;2;248;248;242;48;2;39;40;34m(\u001b[0m\u001b[38;2;174;129;255;48;2;39;40;34m1\u001b[0m\u001b[38;2;248;248;242;48;2;39;40;34m,\u001b[0m\u001b[38;2;248;248;242;48;2;39;40;34m \u001b[0m\u001b[38;2;174;129;255;48;2;39;40;34m11\u001b[0m\u001b[38;2;248;248;242;48;2;39;40;34m)\u001b[0m\u001b[38;2;248;248;242;48;2;39;40;34m)\u001b[0m\u001b[48;2;39;40;34m                                                                                  \u001b[0m  \n",
       "  \u001b[38;2;248;248;242;48;2;39;40;34mfinal_answer\u001b[0m\u001b[38;2;248;248;242;48;2;39;40;34m(\u001b[0m\u001b[38;2;248;248;242;48;2;39;40;34mtotal_sum\u001b[0m\u001b[38;2;248;248;242;48;2;39;40;34m)\u001b[0m\u001b[48;2;39;40;34m                                                                                        \u001b[0m  \n",
       " ───────────────────────────────────────────────────────────────────────────────────────────────────────────────── \n"
      ]
     },
     "metadata": {},
     "output_type": "display_data"
    },
    {
     "data": {
      "text/html": [
       "<pre style=\"white-space:pre;overflow-x:auto;line-height:normal;font-family:Menlo,'DejaVu Sans Mono',consolas,'Courier New',monospace\"><span style=\"color: #d4b702; text-decoration-color: #d4b702; font-weight: bold\">Out - Final answer: 55</span>\n",
       "</pre>\n"
      ],
      "text/plain": [
       "\u001b[1;38;2;212;183;2mOut - Final answer: 55\u001b[0m\n"
      ]
     },
     "metadata": {},
     "output_type": "display_data"
    },
    {
     "data": {
      "text/html": [
       "<pre style=\"white-space:pre;overflow-x:auto;line-height:normal;font-family:Menlo,'DejaVu Sans Mono',consolas,'Courier New',monospace\"><span style=\"color: #7f7f7f; text-decoration-color: #7f7f7f\">[Step 1: Duration 5.08 seconds| Input tokens: 2,008 | Output tokens: 63]</span>\n",
       "</pre>\n"
      ],
      "text/plain": [
       "\u001b[2m[Step 1: Duration 5.08 seconds| Input tokens: 2,008 | Output tokens: 63]\u001b[0m\n"
      ]
     },
     "metadata": {},
     "output_type": "display_data"
    },
    {
     "name": "stdout",
     "output_type": "stream",
     "text": [
      "55\n"
     ]
    }
   ],
   "source": [
    "from smolagents import CodeAgent, InferenceClientModel\n",
    "\n",
    "model = InferenceClientModel() \n",
    "\n",
    "agent = CodeAgent(tools=[], model=model)\n",
    "\n",
    "result = agent.run(\"Calculate the sum of numbers from 1 to 10\")\n",
    "print(result)"
   ]
  },
  {
   "cell_type": "markdown",
   "metadata": {},
   "source": [
    "**Вывод**: \n",
    "    \n",
    "    LangChain, AutoGen, CrewAI и SmolAgents представляют собой современные инструменты для построения интеллектуальных агентов на базе LLM. \n",
    "    \n",
    "    LangChain – универсальный фреймворк с множеством компонентов для гибкого конструирования цепочек и агентов.\n",
    "    AutoGen фокусируется на масштабируемой многопроцессной архитектуре с обширными возможностями мониторинга и распределения\n",
    "    CrewAI предлагает подход «команда агентов» с ролевым распределением задач\n",
    "    SmolAgents отличается компактностью и использованием «кодагентов» для максимальной простоты и эффективности .\n",
    "    \n",
    "    \n",
    "На семинаре мы попробуем каждую и решим, где какой фреймворк будем использовать"
   ]
  }
 ],
 "metadata": {
  "kernelspec": {
   "display_name": ".venv",
   "language": "python",
   "name": "python3"
  },
  "language_info": {
   "codemirror_mode": {
    "name": "ipython",
    "version": 3
   },
   "file_extension": ".py",
   "mimetype": "text/x-python",
   "name": "python",
   "nbconvert_exporter": "python",
   "pygments_lexer": "ipython3",
   "version": "3.11.0"
  }
 },
 "nbformat": 4,
 "nbformat_minor": 2
}
