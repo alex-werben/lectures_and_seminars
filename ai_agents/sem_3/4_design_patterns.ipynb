{
 "cells": [
  {
   "cell_type": "markdown",
   "metadata": {},
   "source": [
    "# 🛠️ Паттерн проектирования AI-агентов \"Tool Use\"\n",
    "\n",
    "---\n",
    "\n",
    "**Tool Use Pattern** — это архитектурный паттерн, при котором LLM расширяет собственные способности за счёт использования внешних инструментов (tools). Под \"инструментами\" понимаются функции, API, системы поиска, кода, базы данных и т.д., вызываемые агентом через текстовую или программную инструкцию.\n",
    "\n",
    "---\n",
    "\n",
    "## Зачем?\n",
    "\n",
    "LLM по своей природе ограничены:\n",
    "\n",
    "- не имеют доступа к реальному миру,\n",
    "- не могут выполнять действия,\n",
    "- не обладают долговременной памятью,\n",
    "- склонны к галлюцинациям.\n",
    "\n",
    "Tool use позволяет \"превратить LLM в агента\", снабдив его следующими возможностями:\n",
    "\n",
    "| Способность          | Пример инструмента         |\n",
    "|----------------------|----------------------------|\n",
    "| Доступ к интернету   | Web Search                 |\n",
    "| Выполнение кода      | Python Executor            |\n",
    "| Вызов API            | Weather API, Email API     |\n",
    "| Работа с памятью     | VectorDB (Retrieval)       |\n",
    "| Навигация по данным  | SQL, PDF parser, RAG       |\n",
    "\n",
    "---\n"
   ]
  },
  {
   "cell_type": "code",
   "execution_count": null,
   "metadata": {},
   "outputs": [],
   "source": []
  },
  {
   "cell_type": "code",
   "execution_count": null,
   "metadata": {},
   "outputs": [],
   "source": []
  },
  {
   "cell_type": "code",
   "execution_count": null,
   "metadata": {},
   "outputs": [],
   "source": []
  },
  {
   "cell_type": "markdown",
   "metadata": {},
   "source": [
    "# Паттерн проектирования AI-агентов \"Рефлексия\"\n",
    "\n",
    "---\n",
    "\n",
    "## 📌 Введение\n",
    "\n",
    "Рефлексия (reflection) — это паттерн в проектировании  ai агентов, при котором агент анализирует собственное поведение, знание, ошибки и стратегии, чтобы модифицировать или оптимизировать свои действия. В отличие от react агентов, рефлексивный агент имеет модель самого себя и способность к самоанализу.\n",
    "\n",
    "Этот паттерн перекликается с идеями метапознания, саморегуляции и интроспекции в когнитивной науке.\n",
    "\n",
    "---\n",
    "\n",
    "### основа лежит в когнитивной психологии"
   ]
  },
  {
   "cell_type": "markdown",
   "metadata": {},
   "source": [
    "## **Важно**: Reflection превращает статичную LLM в динамичную систему, способную учиться \"на лету\". Для успешной реализации нужны:\n",
    "\n",
    "- Четкие критерии оценки.\n",
    "\n",
    "- Механизмы предотвращения \"бесконечных петлей\".\n",
    "\n",
    "- Контекстная память для долгосрочного улучшения."
   ]
  },
  {
   "cell_type": "markdown",
   "metadata": {},
   "source": [
    "### Рефлексия на LangChain\n",
    "\n",
    "### 📦 **Шаг 1: Задача — Агент решает задачу**"
   ]
  },
  {
   "cell_type": "code",
   "execution_count": 54,
   "metadata": {},
   "outputs": [],
   "source": [
    "# from langchain_experimental.tools.python.tool import PythonREPLTool\n",
    "# from langchain.agents import initialize_agent\n",
    "\n",
    "# py_agent = initialize_agent(\n",
    "#     tools=[PythonREPLTool()],\n",
    "#     llm=llm,\n",
    "#     verbose=True,\n",
    "#     handle_parsing_errors=True,\n",
    "#     max_iterations=3\n",
    "# )"
   ]
  },
  {
   "cell_type": "code",
   "execution_count": 55,
   "metadata": {},
   "outputs": [],
   "source": [
    "# list_ = [7, 9, 5, 3, 6]\n",
    "# solution = py_agent.run(f'Отсортируй список с помощью bubble sort: {list_}')"
   ]
  },
  {
   "cell_type": "code",
   "execution_count": 19,
   "metadata": {},
   "outputs": [
    {
     "name": "stdout",
     "output_type": "stream",
     "text": [
      "Вот функция, которая sorts a list of numbers in ascending order using the built-in `sorted()` function:\n",
      "\n",
      "```python\n",
      "def sort_numbers_ascending(numbers):\n",
      "    return sorted(numbers)\n",
      "```\n",
      "\n",
      "Вы можете использовать эту функцию следующим образом:\n",
      "\n",
      "```python\n",
      "numbers = [3, 1, 4, 1, 5, 9, 2]\n",
      "sorted_numbers = sort_numbers_ascending(numbers)\n",
      "print(sorted_numbers)  # Output: [1, 1, 2, 3, 4, 5, 9]\n",
      "```\n",
      "\n",
      "Если вы хотите написать свою собственную функцию сортировки без использования встроенных функций Python (таких как `sorted()` или `sort()`), вот пример функции сортировки пузырьком:\n",
      "\n",
      "```python\n",
      "def bubble_sort(numbers):\n",
      "    n = len(numbers)\n",
      "    for i in range(n-1):\n",
      "        for j in range(0, n-i-1):\n",
      "            if numbers[j] > numbers[j+1]:\n",
      "                numbers[j], numbers[j+1] = numbers[j+1], numbers[j]\n",
      "    return numbers\n",
      "```\n",
      "\n",
      "Вы можете использовать эту функцию следующим образом:\n",
      "\n",
      "```python\n",
      "numbers = [3, 1, 4, 1, 5, 9, 2]\n",
      "sorted_numbers = bubble_sort(numbers)\n",
      "print(sorted_numbers)  # Output: [1, 1, 2, 3, 4, 5, 9]\n",
      "```\n"
     ]
    }
   ],
   "source": [
    "from langchain.prompts import PromptTemplate\n",
    "from langchain.chains import LLMChain\n",
    "from langchain_community.llms import Ollama\n",
    "\n",
    "llm = Ollama(model=\"mistral-nemo:12b-instruct-2407-q3_K_L\", temperature=0.4)\n",
    "\n",
    "task_prompt = PromptTemplate.from_template(\"Ты python-разработчик. Реши задачу: {task}\")\n",
    "chain = LLMChain(llm=llm, prompt=task_prompt)\n",
    "\n",
    "task = \"Напиши функцию на Python для сортировки списка чисел по возрастанию\"\n",
    "solution = chain.run(task)\n",
    "\n",
    "print(solution)"
   ]
  },
  {
   "cell_type": "markdown",
   "metadata": {},
   "source": [
    "### 🪞 **Шаг 2: Рефлексия — тот же агент оценивает свое решение**"
   ]
  },
  {
   "cell_type": "code",
   "execution_count": 52,
   "metadata": {},
   "outputs": [
    {
     "name": "stdout",
     "output_type": "stream",
     "text": [
      "Рефлексия:\n",
      " Указанный код является списком в языке программирования Python и не содержит ошибок синтаксиса или семантических ошибок. Это просто список из чисел: 3, 5, 6, 7 и 9.\n",
      "\n",
      "Однако, если вы хотите проанализировать этот список на предмет каких-либо других проблем или возможностей для улучшения, то это зависит от того, как именно вы планируете использовать этот список. Например:\n",
      "\n",
      "1. Если вам нужно сохранить эти числа в переменных, то возможно было бы лучше создать кортеж (tuple) вместо списка, так как кортежи являются неизменяемыми и занимают меньше памяти.\n",
      "2. Если вам нужно отсортировать или отфильтровать эти числа, то было бы полезно использовать функции Python для сортировки или фильтрации списков.\n",
      "3. Если вам нужно вычислить среднее значение этих чисел, то можно использовать функцию `sum()` и `len()` для подсчета суммы всех чисел в списке и количества чисел соответственно, а затем разделить сумму на количество чисел.\n",
      "\n",
      "В целом, этот код является простым и не содержит явных ошибок или проблем.\n"
     ]
    }
   ],
   "source": [
    "reflection_prompt = PromptTemplate.from_template(\n",
    "    \"Проанализируй следующий код. Есть ли ошибки? Что можно улучшить?\\n\\n{code}\"\n",
    ")\n",
    "reflection_chain = LLMChain(llm=llm, prompt=reflection_prompt)\n",
    "\n",
    "reflection = reflection_chain.run(solution)\n",
    "print(\"Рефлексия:\\n\", reflection)"
   ]
  },
  {
   "cell_type": "markdown",
   "metadata": {},
   "source": [
    "# 🔁 Паттерн проектирования AI-агентов \"ReAct\"\n",
    "\n",
    "---\n",
    "\n",
    "## 📌 ReAct\n",
    "\n",
    "ReAct (Reason + Act) — это паттерн проектирования AI-агентов, при котором языковая модель чередует шаги рассуждения и действия, чтобы решать задачи в реальном или симулированном мире. В этом подходе LLM действует как агент, который:\n",
    "\n",
    "1. обдумывает, что нужно сделать (Reasoning),\n",
    "2. действует через вызов внешнего инструмента или среды (Action), \n",
    "3. наблюдает за результатом (Observation),\n",
    "4. и повторяет процесс, пока не достигнет цели.\n",
    "\n",
    "## Впервые было описано в статье: \n",
    "\n",
    "**ReAct: Synergizing Reasoning and Acting in Language Models**  \n",
    "🧑‍🔬 Yao et al., Google Research, 2022  \n",
    "[arXiv:2210.03629](https://arxiv.org/abs/2210.03629)\n",
    "---\n",
    "\n",
    "## зачем?\n",
    "\n",
    "Традиционные LLM могут:\n",
    "\n",
    "- рассуждать логически (Chain-of-Thought),\n",
    "- использовать инструменты (Tool Use),\n",
    "\n",
    "но не умеют чередовать их. ReAct позволяет:\n",
    "\n",
    "- комбинировать reasoning и вызовы API,\n",
    "- пошагово уточнять стратегию,\n",
    "- взаимодействовать с окружающей средой,\n",
    "- улучшать интерпретируемость.\n",
    "\n",
    "---"
   ]
  },
  {
   "cell_type": "code",
   "execution_count": 31,
   "metadata": {},
   "outputs": [],
   "source": [
    "import requests\n",
    "import math\n",
    "from langchain.agents import Tool, initialize_agent, AgentType\n",
    "from langchain_community.llms import Ollama\n",
    "from langchain.utilities import WikipediaAPIWrapper"
   ]
  },
  {
   "cell_type": "markdown",
   "metadata": {},
   "source": [
    "## 🔍 Инструмент 1: DuckDuckGo поиск"
   ]
  },
  {
   "cell_type": "code",
   "execution_count": 32,
   "metadata": {},
   "outputs": [],
   "source": [
    "def duckduckgo_search(query: str) -> str:\n",
    "    url = \"https://api.duckduckgo.com/\"\n",
    "    params = {\n",
    "        \"q\": query,\n",
    "        \"format\": \"json\",\n",
    "        \"no_redirect\": 1,\n",
    "        \"no_html\": 1\n",
    "    }\n",
    "    try:\n",
    "        res = requests.get(url, params=params)\n",
    "        data = res.json()\n",
    "        if data.get(\"AbstractText\"):\n",
    "            return data[\"AbstractText\"]\n",
    "        elif data.get(\"RelatedTopics\"):\n",
    "            topics = data[\"RelatedTopics\"]\n",
    "            if isinstance(topics, list) and len(topics) > 0:\n",
    "                topic = topics[0]\n",
    "                if isinstance(topic, dict) and \"Text\" in topic:\n",
    "                    return topic[\"Text\"]\n",
    "        return \"Информация не найдена\"\n",
    "    except Exception as e:\n",
    "        return f\"Ошибка при поиске: {e}\"\n",
    "\n",
    "duckduckgo_tool = Tool(\n",
    "    name=\"DuckDuckGo\",\n",
    "    func=duckduckgo_search,\n",
    "    description=\"Поиск фактической информации через DuckDuckGo\"\n",
    ")"
   ]
  },
  {
   "cell_type": "markdown",
   "metadata": {},
   "source": [
    "## 🧮 Инструмент 2: Калькулятор"
   ]
  },
  {
   "cell_type": "code",
   "execution_count": 40,
   "metadata": {},
   "outputs": [],
   "source": [
    "from langchain.chains import LLMMathChain\n",
    "\n",
    "llm_math = LLMMathChain.from_llm(llm=llm)\n",
    "\n",
    "calc_tool = Tool(\n",
    "    name='Калькулятор',\n",
    "    func=llm_math.run,\n",
    "    description='Может производить математические расчёты.'\n",
    ")"
   ]
  },
  {
   "cell_type": "code",
   "execution_count": 41,
   "metadata": {},
   "outputs": [],
   "source": [
    "\n",
    "# def calculator_tool(expression: str) -> str:\n",
    "#     try:\n",
    "#         result = eval(expression, {\"__builtins__\": {}}, math.__dict__)\n",
    "#         return str(result)\n",
    "#     except Exception as e:\n",
    "#         return f\"Ошибка в вычислении: {e}\"\n",
    "\n",
    "# calc_tool = Tool(\n",
    "#     name=\"Calculator\",\n",
    "#     func=calculator_tool,\n",
    "#     description=\"Выполняет математические выражения, например: '2**8 + sqrt(16)'\"\n",
    "# )"
   ]
  },
  {
   "cell_type": "markdown",
   "metadata": {},
   "source": [
    "## 📚 Инструмент 3: Википедия"
   ]
  },
  {
   "cell_type": "code",
   "execution_count": 42,
   "metadata": {},
   "outputs": [],
   "source": [
    "wiki = WikipediaAPIWrapper()\n",
    "\n",
    "wiki_tool = Tool(\n",
    "    name=\"Wikipedia\",\n",
    "    func=wiki.run,\n",
    "    description=\"Поиск энциклопедической информации через Википедию\")"
   ]
  },
  {
   "cell_type": "markdown",
   "metadata": {},
   "source": [
    "## ⚙️ Инициализация ReAct-агента с тремя инструментами"
   ]
  },
  {
   "cell_type": "code",
   "execution_count": 43,
   "metadata": {},
   "outputs": [],
   "source": [
    "llm = Ollama(model=\"mistral-nemo:12b-instruct-2407-q3_K_L\", temperature=0.4)\n",
    "\n",
    "agent = initialize_agent(\n",
    "    tools=[duckduckgo_tool, calc_tool, wiki_tool],\n",
    "    llm=llm,\n",
    "    agent=AgentType.ZERO_SHOT_REACT_DESCRIPTION,\n",
    "    verbose=True\n",
    ")"
   ]
  },
  {
   "cell_type": "code",
   "execution_count": 44,
   "metadata": {},
   "outputs": [
    {
     "name": "stdout",
     "output_type": "stream",
     "text": [
      "\n",
      "\n",
      "\u001b[1m> Entering new AgentExecutor chain...\u001b[0m\n",
      "\u001b[32;1m\u001b[1;3mI need to perform a mathematical calculation.\n",
      "Action: Калькулятор\n",
      "Action Input: 4.5 * 2.1 + 2.2\u001b[0m\n",
      "Observation: \u001b[33;1m\u001b[1;3mAnswer: 11.650000000000002\u001b[0m\n",
      "Thought:\u001b[32;1m\u001b[1;3mI now know the final answer\n",
      "Final Answer: 11.65\u001b[0m\n",
      "\n",
      "\u001b[1m> Finished chain.\u001b[0m\n",
      "11.65\n"
     ]
    }
   ],
   "source": [
    "response = agent.run(\"Сколько будет (4.5*2.1)+2.2?\")\n",
    "print(response)"
   ]
  },
  {
   "cell_type": "code",
   "execution_count": 45,
   "metadata": {},
   "outputs": [
    {
     "name": "stdout",
     "output_type": "stream",
     "text": [
      "\n",
      "\n",
      "\u001b[1m> Entering new AgentExecutor chain...\u001b[0m\n",
      "\u001b[32;1m\u001b[1;3mЯ должен начать с поиска информации об Альберте Эйнштейне в Википедии.\n",
      "Action: Wikipedia\n",
      "Action Input: Albert Einstein\u001b[0m\n",
      "Observation: \u001b[38;5;200m\u001b[1;3mPage: Albert Einstein\n",
      "Summary: Albert Einstein (14 March 1879 – 18 April 1955) was a German-born theoretical physicist who is best known for developing the theory of relativity. Einstein also made important contributions to quantum mechanics. His mass–energy equivalence formula E = mc2, which arises from special relativity, has been called \"the world's most famous equation\". He received the 1921 Nobel Prize in Physics for his services to theoretical physics, and especially for his discovery of the law of the photoelectric effect.\n",
      "Born in the German Empire, Einstein moved to Switzerland in 1895, forsaking his German citizenship (as a subject of the Kingdom of Württemberg) the following year. In 1897, at the age of seventeen, he enrolled in the mathematics and physics teaching diploma program at the Swiss federal polytechnic school in Zurich, graduating in 1900. He acquired Swiss citizenship a year later, which he kept for the rest of his life, and afterwards secured a permanent position at the Swiss Patent Office in Bern. In 1905, he submitted a successful PhD dissertation to the University of Zurich. In 1914, he moved to Berlin to join the Prussian Academy of Sciences and the Humboldt University of Berlin, becoming director of the Kaiser Wilhelm Institute for Physics in 1917; he also became a German citizen again, this time as a subject of the Kingdom of Prussia. In 1933, while Einstein was visiting the United States, Adolf Hitler came to power in Germany. Horrified by the Nazi persecution of his fellow Jews, he decided to remain in the US, and was granted American citizenship in 1940. On the eve of World War II, he endorsed a letter to President Franklin D. Roosevelt alerting him to the potential German nuclear weapons program and recommending that the US begin similar research.\n",
      "In 1905, sometimes described as his annus mirabilis (miracle year), he published four groundbreaking papers. In them, he outlined a theory of the photoelectric effect, explained Brownian motion, introduced his special theory of relativity, and demonstrated that if the special theory is correct, mass and energy are equivalent to each other. In 1915, he proposed a general theory of relativity that extended his system of mechanics to incorporate gravitation. A cosmological paper that he published the following year laid out the implications of general relativity for the modeling of the structure and evolution of the universe as a whole. In 1917, Einstein wrote a paper which introduced the concepts of spontaneous emission and stimulated emission, the latter of which is the core mechanism behind the laser and maser, and which contained a trove of information that would be beneficial to developments in physics later on, such as quantum electrodynamics and quantum optics.\n",
      "In the middle part of his career, Einstein made important contributions to statistical mechanics and quantum theory. Especially notable was his work on the quantum physics of radiation, in which light consists of particles, subsequently called photons. With physicist Satyendra Nath Bose, he laid the groundwork for Bose–Einstein statistics. For much of the last phase of his academic life, Einstein worked on two endeavors that ultimately proved unsuccessful. First, he advocated against quantum theory's introduction of fundamental randomness into science's picture of the world, objecting that God does not play dice. Second, he attempted to devise a unified field theory by generalizing his geometric theory of gravitation to include electromagnetism. As a result, he became increasingly isolated from mainstream modern physics.\n",
      "\n",
      "Page: Hans Albert Einstein\n",
      "Summary: Hans Albert Einstein (May 14, 1904 – July 26, 1973) was a Swiss-American engineer, the second child and first son of physicists Albert Einstein and Mileva Marić. He was a long-time professor of hydraulic engineering at the University of California, Berkeley.\n",
      "Einstein was widely recognized for his research on sediment transport. To honor \u001b[0m\n",
      "Thought:\u001b[32;1m\u001b[1;3mBased on the information from Wikipedia, Albert Einstein was a German-born theoretical physicist who developed the theory of relativity and made significant contributions to quantum mechanics. He received the Nobel Prize in Physics for his discovery of the law of the photoelectric effect. He is also known for his famous equation E=mc^2.\n",
      "\n",
      "Final Answer: Albert Einstein was a German-born theoretical physicist who developed the theory of relativity, made important contributions to quantum mechanics, and received the Nobel Prize in Physics for his discovery of the law of the photoelectric effect.\u001b[0m\n",
      "\n",
      "\u001b[1m> Finished chain.\u001b[0m\n",
      "Albert Einstein was a German-born theoretical physicist who developed the theory of relativity, made important contributions to quantum mechanics, and received the Nobel Prize in Physics for his discovery of the law of the photoelectric effect.\n"
     ]
    }
   ],
   "source": [
    "response = agent.run(\"Кто такой Альберт Эйнштейн?\")\n",
    "print(response)"
   ]
  },
  {
   "cell_type": "markdown",
   "metadata": {},
   "source": [
    "# Паттерн проектирования AI-агентов \"Planning\"\n",
    "\n",
    "---\n",
    "\n",
    "## 📌 Planning\n",
    "\n",
    "Planning — это паттерн проектирования, при котором агент разбивает задачу на подзадачи, формирует последовательность шагов, а затем поэтапно их выполняет. Этот подход позволяет LLM-агентам решать многошаговые, долгосрочные или сложноструктурированные задачи, выходящие за пределы одного запроса-ответа.\n",
    "\n",
    "---\n",
    "\n",
    "## Зачем?\n",
    "\n",
    "| Без плана                          | С планированием                           |\n",
    "|------------------------------------|-------------------------------------------|\n",
    "| Агент действует жадно и локально   | Агент оптимизирует глобальную стратегию   |\n",
    "| Пропускает важные шаги             | Явно их включает и проверяет выполнение   |\n",
    "| Не видит цели как целое            | Разбивает цель на управляемые единицы     |\n",
    "| Нет повторного использования шагов | Возможен reuse/кэширование подзадач       |\n",
    "\n",
    "---\n",
    "\n",
    "## 🧠 Когнитивные аналоги\n",
    "\n",
    "| В человеке                   | В LLM-агенте                    |\n",
    "|------------------------------|----------------------------------|\n",
    "| Установка целей              | Goal inference / input prompt   |\n",
    "| Разбиение на подцели         | Chain-of-Thought / Task Decomp  |\n",
    "| Составление плана действий   | LLM-планировщик (Planner)       |\n",
    "| Мониторинг выполнения        | Execution agent + Memory        |\n",
    "\n",
    "---\n"
   ]
  },
  {
   "cell_type": "code",
   "execution_count": null,
   "metadata": {},
   "outputs": [],
   "source": [
    "import os\n",
    "import requests\n",
    "from amadeus import Client, ResponseError\n",
    "from langchain.agents import Tool, initialize_agent, AgentType\n",
    "from langchain_community.llms import Ollama\n",
    "from langchain.utilities import WikipediaAPIWrapper"
   ]
  },
  {
   "cell_type": "code",
   "execution_count": 37,
   "metadata": {},
   "outputs": [],
   "source": [
    "import os\n",
    "os.environ[\"AMADEUS_CLIENT_ID\"] = \"hS74sQ71STZ8ASGpSfCOOdUX7DNV1Q5c\"\n",
    "os.environ[\"AMADEUS_CLIENT_SECRET\"] = \"4VAv0oQ5bhQ5DjID\""
   ]
  },
  {
   "cell_type": "code",
   "execution_count": null,
   "metadata": {},
   "outputs": [
    {
     "name": "stdout",
     "output_type": "stream",
     "text": [
      "[{'type': 'location', 'subType': 'CITY', 'name': 'PARIS', 'detailedName': 'PARIS/FR', 'id': 'CPAR', 'self': {'href': 'https://test.api.amadeus.com/v1/reference-data/locations/CPAR', 'methods': ['GET']}, 'timeZoneOffset': '+02:00', 'iataCode': 'PAR', 'geoCode': {'latitude': 48.85334, 'longitude': 2.34889}, 'address': {'cityName': 'PARIS', 'cityCode': 'PAR', 'countryName': 'FRANCE', 'countryCode': 'FR', 'regionCode': 'EUROP'}, 'analytics': {'travelers': {'score': 68}}}, {'type': 'location', 'subType': 'CITY', 'name': 'LE TOUQUET PARIS PLAGE', 'detailedName': 'LE TOUQUET PARIS PLAGE/FR', 'id': 'CLTQ', 'self': {'href': 'https://test.api.amadeus.com/v1/reference-data/locations/CLTQ', 'methods': ['GET']}, 'timeZoneOffset': '+02:00', 'iataCode': 'LTQ', 'geoCode': {'latitude': 50.5175, 'longitude': 1.62056}, 'address': {'cityName': 'LE TOUQUET PARIS PLAGE', 'cityCode': 'LTQ', 'countryName': 'FRANCE', 'countryCode': 'FR', 'regionCode': 'EUROP'}, 'analytics': {'travelers': {'score': 2}}}, {'type': 'location', 'subType': 'CITY', 'name': 'OPELOUSAS', 'detailedName': 'OPELOUSAS/LA/US', 'id': 'COPL', 'self': {'href': 'https://test.api.amadeus.com/v1/reference-data/locations/COPL', 'methods': ['GET']}, 'timeZoneOffset': '-05:00', 'iataCode': 'OPL', 'geoCode': {'latitude': 30.52695, 'longitude': -91.97611}, 'address': {'cityName': 'OPELOUSAS', 'cityCode': 'OPL', 'countryName': 'UNITED STATES OF AMERICA', 'countryCode': 'US', 'stateCode': 'LA', 'regionCode': 'NAMER'}}, {'type': 'location', 'subType': 'CITY', 'name': 'PARIS', 'detailedName': 'PARIS/TN/US', 'id': 'CPHT', 'self': {'href': 'https://test.api.amadeus.com/v1/reference-data/locations/CPHT', 'methods': ['GET']}, 'timeZoneOffset': '-05:00', 'iataCode': 'PHT', 'geoCode': {'latitude': 36.33001, 'longitude': -88.38}, 'address': {'cityName': 'PARIS', 'cityCode': 'PHT', 'countryName': 'UNITED STATES OF AMERICA', 'countryCode': 'US', 'stateCode': 'TN', 'regionCode': 'NAMER'}}, {'type': 'location', 'subType': 'CITY', 'name': 'PARIS', 'detailedName': 'PARIS/TX/US', 'id': 'CPRX', 'self': {'href': 'https://test.api.amadeus.com/v1/reference-data/locations/CPRX', 'methods': ['GET']}, 'timeZoneOffset': '-05:00', 'iataCode': 'PRX', 'geoCode': {'latitude': 33.63667, 'longitude': -95.45083}, 'address': {'cityName': 'PARIS', 'cityCode': 'PRX', 'countryName': 'UNITED STATES OF AMERICA', 'countryCode': 'US', 'stateCode': 'TX', 'regionCode': 'NAMER'}}, {'type': 'location', 'subType': 'CITY', 'name': 'DISNEYLAND PARIS', 'detailedName': 'DISNEYLAND PARIS/FR', 'id': 'CXED', 'self': {'href': 'https://test.api.amadeus.com/v1/reference-data/locations/CXED', 'methods': ['GET']}, 'timeZoneOffset': '+02:00', 'iataCode': 'XED', 'geoCode': {'latitude': 48.86778, 'longitude': 2.77862}, 'address': {'cityName': 'DISNEYLAND PARIS', 'cityCode': 'XED', 'countryName': 'FRANCE', 'countryCode': 'FR', 'regionCode': 'EUROP'}}]\n"
     ]
    }
   ],
   "source": [
    "from amadeus import Client\n",
    "\n",
    "amadeus = Client(\n",
    "    client_id=os.getenv(\"AMADEUS_CLIENT_ID\"),\n",
    "    client_secret=os.getenv(\"AMADEUS_CLIENT_SECRET\")\n",
    ")"
   ]
  },
  {
   "cell_type": "code",
   "execution_count": null,
   "metadata": {},
   "outputs": [],
   "source": [
    "def get_weather(_: str) -> str:\n",
    "    lat, lon = 48.8566, 2.3522\n",
    "    try:\n",
    "        res = requests.get(\n",
    "            \"https://api.open-meteo.com/v1/forecast\",\n",
    "            params={\"latitude\": lat, \"longitude\": lon, \"current_weather\": True}\n",
    "        ).json()\n",
    "        cw = res.get(\"current_weather\", {})\n",
    "        return f\"Сейчас в Париже: {cw.get('temperature')}°C, ветер {cw.get('windspeed')} км/ч, время: {cw.get('time')}\"\n",
    "    except Exception as e:\n",
    "        return f\"Не удалось получить погоду: {e}\"\n",
    "\n",
    "wiki = WikipediaAPIWrapper()\n",
    "def get_attractions(_: str) -> str:\n",
    "    return wiki.run(\"Tourist attractions in Paris\")\n",
    "\n",
    "def get_hotels(_: str) -> str:\n",
    "    try:\n",
    "        response = amadeus.reference_data.locations.hotels.by_geocode.get(\n",
    "            latitude=48.8566, longitude=2.3522\n",
    "        )\n",
    "        hotels = response.data[:5]\n",
    "        return \"\\n\".join([\n",
    "            f\"🏨 {h['name']}, расстояние: {h.get('distance', 'N/A')} км\" for h in hotels\n",
    "        ])\n",
    "    except ResponseError as e:\n",
    "        return f\"Ошибка запроса: {e}\""
   ]
  },
  {
   "cell_type": "code",
   "execution_count": null,
   "metadata": {},
   "outputs": [],
   "source": [
    "llm = Ollama(model=\"mistral-nemo:12b-instruct-2407-q3_K_L\", temperature=0.4)\n",
    "\n",
    "tools = [\n",
    "    Tool(\"Weather\", get_weather, \"Погода в Париже\", return_direct=True),\n",
    "    Tool(\"Attractions\", get_attractions, \"Что посмотреть в Париже\"),\n",
    "    Tool(\"Hotels\", get_hotels, \"Отели в центре Парижа\", return_direct=True)\n",
    "]\n",
    "\n",
    "agent = initialize_agent(\n",
    "    tools=tools,\n",
    "    llm=llm,\n",
    "    agent=AgentType.ZERO_SHOT_REACT_DESCRIPTION,\n",
    "    verbose=True\n",
    ")\n",
    "\n",
    "prompt = (\n",
    "    \"Спланируй поездку в Париж на выходные. \\n\"\n",
    "    \"Сначала покажи погоду, затем 3–4 достопримечательности, затем отели. Не повторяй шаги.\"\n",
    ")\n",
    "agent.run(prompt)"
   ]
  }
 ],
 "metadata": {
  "kernelspec": {
   "display_name": ".venv",
   "language": "python",
   "name": "python3"
  },
  "language_info": {
   "codemirror_mode": {
    "name": "ipython",
    "version": 3
   },
   "file_extension": ".py",
   "mimetype": "text/x-python",
   "name": "python",
   "nbconvert_exporter": "python",
   "pygments_lexer": "ipython3",
   "version": "3.9.6"
  }
 },
 "nbformat": 4,
 "nbformat_minor": 2
}
